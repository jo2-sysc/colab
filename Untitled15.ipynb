{
  "nbformat": 4,
  "nbformat_minor": 0,
  "metadata": {
    "colab": {
      "provenance": [],
      "authorship_tag": "ABX9TyN40394rBHUQXLSHOobI88q",
      "include_colab_link": true
    },
    "kernelspec": {
      "name": "python3",
      "display_name": "Python 3"
    },
    "language_info": {
      "name": "python"
    }
  },
  "cells": [
    {
      "cell_type": "markdown",
      "metadata": {
        "id": "view-in-github",
        "colab_type": "text"
      },
      "source": [
        "<a href=\"https://colab.research.google.com/github/jo2-sysc/colab/blob/main/Untitled15.ipynb\" target=\"_parent\"><img src=\"https://colab.research.google.com/assets/colab-badge.svg\" alt=\"Open In Colab\"/></a>"
      ]
    },
    {
      "cell_type": "code",
      "execution_count": null,
      "metadata": {
        "colab": {
          "base_uri": "https://localhost:8080/",
          "height": 35
        },
        "id": "8ZNBVh4WkJbn",
        "outputId": "387b1b69-9cd0-49bb-e5eb-b4511548c456"
      },
      "outputs": [
        {
          "output_type": "execute_result",
          "data": {
            "text/plain": [
              "'Hello'"
            ],
            "application/vnd.google.colaboratory.intrinsic+json": {
              "type": "string"
            }
          },
          "metadata": {},
          "execution_count": 3
        }
      ],
      "source": [
        "# I am a comment\n",
        "\"Hello\"\n",
        "# This is String"
      ]
    },
    {
      "cell_type": "code",
      "source": [
        "# 7 --> integer\n",
        "# 7.0 --> float\n",
        "\"There's\""
      ],
      "metadata": {
        "id": "eo-eHDr3nnYi"
      },
      "execution_count": null,
      "outputs": []
    },
    {
      "cell_type": "code",
      "source": [
        "# variable\n",
        "x = 2\n",
        "name = \"Joey\"\n",
        "print(name)"
      ],
      "metadata": {
        "colab": {
          "base_uri": "https://localhost:8080/"
        },
        "id": "nU8P931dovED",
        "outputId": "8a41366b-d95f-46b2-98c9-d42393c56aeb"
      },
      "execution_count": null,
      "outputs": [
        {
          "output_type": "stream",
          "name": "stdout",
          "text": [
            "Joey\n"
          ]
        }
      ]
    },
    {
      "cell_type": "code",
      "source": [
        "name = \"Joey\"\n",
        "height = 178\n",
        "sentence = \"Hello, this is \" + name + \". My height is \" + str(height) + \".\"\n",
        "print(sentence)\n",
        "\n",
        "print(type(name))\n",
        "print(type(height))\n",
        "print(type(7.0))\n",
        "print(type(\"7.0\"))\n",
        "print(type(12/2))\n"
      ],
      "metadata": {
        "colab": {
          "base_uri": "https://localhost:8080/"
        },
        "id": "vJW6PaBrqKk1",
        "outputId": "74b2209c-c1bb-44fa-c159-4a1439ec6db1"
      },
      "execution_count": null,
      "outputs": [
        {
          "output_type": "stream",
          "name": "stdout",
          "text": [
            "Hello, this is Joey. My height is 178.\n",
            "<class 'str'>\n",
            "<class 'int'>\n",
            "<class 'float'>\n",
            "<class 'str'>\n",
            "<class 'float'>\n"
          ]
        }
      ]
    },
    {
      "cell_type": "code",
      "source": [
        "12+2\n",
        "25/0.3"
      ],
      "metadata": {
        "colab": {
          "base_uri": "https://localhost:8080/"
        },
        "id": "fbfwd2eetgbM",
        "outputId": "6fab5454-f4dc-4be0-a42f-14d41bec1236"
      },
      "execution_count": null,
      "outputs": [
        {
          "output_type": "execute_result",
          "data": {
            "text/plain": [
              "83.33333333333334"
            ]
          },
          "metadata": {},
          "execution_count": 17
        }
      ]
    },
    {
      "cell_type": "code",
      "source": [
        "# We've learned three datatypes\n",
        "# String\n",
        "# Inetrger\n",
        "# Float"
      ],
      "metadata": {
        "id": "epVciWO-tzGM"
      },
      "execution_count": null,
      "outputs": []
    },
    {
      "cell_type": "code",
      "source": [
        "# METHODS -> the function / something we can do with a particular data type\n",
        "\n",
        "print(\"preface\".upper())\n",
        "print(\"PREFACE\".lower())\n",
        "print(\"preface\".capitalize())\n",
        "print(\"preface is raising the series B funding\".title())\n",
        "print(\"preface is raising the series B funding\".replace(\"preface\", \"preface coding\").capitalize())"
      ],
      "metadata": {
        "colab": {
          "base_uri": "https://localhost:8080/"
        },
        "id": "0j86JD-muLpB",
        "outputId": "dd2f7e14-1bff-4bb3-e3ea-e3da68ce3d65"
      },
      "execution_count": null,
      "outputs": [
        {
          "output_type": "stream",
          "name": "stdout",
          "text": [
            "PREFACE\n",
            "preface\n",
            "Preface\n",
            "Preface Is Raising The Series B Funding\n",
            "Preface coding is raising the series b funding\n"
          ]
        }
      ]
    },
    {
      "cell_type": "code",
      "source": [
        "username = \"joeychan\"\n",
        "followers = 1200\n",
        "# f'string\n",
        "print(f\"{username} has {followers} followers\")"
      ],
      "metadata": {
        "colab": {
          "base_uri": "https://localhost:8080/"
        },
        "id": "ckQSs9HO-x8y",
        "outputId": "4bd84937-dc1a-4c10-c7e7-67490c54bb00"
      },
      "execution_count": null,
      "outputs": [
        {
          "output_type": "stream",
          "name": "stdout",
          "text": [
            "joeychan has 1200 followers\n"
          ]
        }
      ]
    },
    {
      "cell_type": "code",
      "source": [
        "# Programming Logic\n",
        "\n",
        "speed1 = 80\n",
        "speed2 = 100\n",
        "speed3 = 120\n",
        "# = <<<< assignment\n",
        "# == <<<<< compairson\n",
        "if speed1 == 100:\n",
        "  print(\"It's 100 km/h, pretty fast!\")\n",
        "else:\n",
        "  print(\"The speed doesn't match! ERROR!\")\n",
        "\n",
        "car = 93\n",
        "# elif >>> else if\n",
        "if car <= 80:\n",
        "  print(\"It's slow!\")\n",
        "elif car <= 100:\n",
        "  print(\"It's normal speed.\")\n",
        "elif car <= 110:\n",
        "  print(\"Don't go any faster\")\n",
        "else:\n",
        "  print(\"OMG it's super fast\")"
      ],
      "metadata": {
        "colab": {
          "base_uri": "https://localhost:8080/"
        },
        "id": "2PFKCs2C_f82",
        "outputId": "b35f6f2e-c785-4caa-b6f4-f1a000ce12be"
      },
      "execution_count": null,
      "outputs": [
        {
          "output_type": "stream",
          "name": "stdout",
          "text": [
            "The speed doesn't match! ERROR!\n",
            "It's normal speed.\n"
          ]
        }
      ]
    },
    {
      "cell_type": "code",
      "source": [
        "car2 = 130\n",
        "car3 = 100\n",
        "\n",
        "if car2 > car3 and car2 > 120:\n",
        "  print(\"Car 2 is faster!\")\n",
        "elif car3 > car2 and car3 > 120:\n",
        "  print(\"Car 3 is faster\")\n",
        "else:\n",
        "  print(\"Both cars are not really racing\")"
      ],
      "metadata": {
        "colab": {
          "base_uri": "https://localhost:8080/"
        },
        "id": "2W_J7sGRDBnk",
        "outputId": "d5873ac3-a359-4ead-cd32-7b212ae6bd8c"
      },
      "execution_count": null,
      "outputs": [
        {
          "output_type": "stream",
          "name": "stdout",
          "text": [
            "Car 2 is faster!\n"
          ]
        }
      ]
    },
    {
      "cell_type": "code",
      "source": [
        "price = 100\n",
        "stock = 4\n",
        "# when the stock goes below 5,\n",
        "# then we want to offer 20% off the price to clear the stock\n",
        "# otherwise, it keeps the same price\n",
        "\n",
        "if stock < 5:\n",
        "  # where we want to offer 20% off\n",
        "  print(f\"We have {stock} in stock.  The price is {price*0.8}.\")\n",
        "else:\n",
        "  # where we want to sell at original price\n",
        "  print(f\"We have {stock} in stock.  The price is {price}\")\n"
      ],
      "metadata": {
        "colab": {
          "base_uri": "https://localhost:8080/"
        },
        "id": "8KOW0EYEAaY1",
        "outputId": "76da83d8-6c15-4300-b533-72b33218e74b"
      },
      "execution_count": null,
      "outputs": [
        {
          "output_type": "stream",
          "name": "stdout",
          "text": [
            "We have 4 in stock.  The price is 80.0.\n"
          ]
        }
      ]
    },
    {
      "cell_type": "code",
      "source": [
        "name = str(input(\"What is your name?\"))\n",
        "print(f\"Oh! Your name is {name}\")"
      ],
      "metadata": {
        "colab": {
          "base_uri": "https://localhost:8080/"
        },
        "id": "FHf0RnToIOh4",
        "outputId": "d19c99ad-e6e8-44bd-b1d7-f39eaab7090c"
      },
      "execution_count": null,
      "outputs": [
        {
          "output_type": "stream",
          "name": "stdout",
          "text": [
            "What is your name?Joey\n",
            "Oh! Your name is Joey\n"
          ]
        }
      ]
    },
    {
      "cell_type": "code",
      "source": [
        "height = float(input(\"How tall are you (in meter)?\"))\n",
        "weight = float(input(\"Enter your weight (in KG)\"))\n",
        "\n",
        "bmi = weight/height**2\n",
        "print(f\"Your BMI is {round(bmi, 1)}\")\n",
        "if bmi >= 25:\n",
        "  print(\"You are obese!\")\n",
        "elif 23 <= bmi < 25:\n",
        "  print(\"You need to exercise!\")\n",
        "elif 18.5 <= bmi < 23:\n",
        "  print(\"All good!\")\n",
        "else:\n",
        "  print(\"You need to eat!\")"
      ],
      "metadata": {
        "colab": {
          "base_uri": "https://localhost:8080/"
        },
        "id": "JjW6TAidJAwN",
        "outputId": "916d63a9-06e8-4b64-cd7c-a3b4dd0f60cd"
      },
      "execution_count": null,
      "outputs": [
        {
          "output_type": "stream",
          "name": "stdout",
          "text": [
            "How tall are you (in meter)?1.78\n",
            "Enter your weight (in KG)70\n",
            "Your BMI is 22.1\n",
            "All good!\n"
          ]
        }
      ]
    },
    {
      "cell_type": "code",
      "source": [
        "import random\n",
        "\n",
        "computer_number = random.randint(1, 10)\n",
        "your_guess = int(input(\"Your number here: \"))\n",
        "\n",
        "if your_guess < computer_number:\n",
        "  print(\"The number you guessed was too low\")\n",
        "elif your_guess > computer_number:\n",
        "  print(\"The number you guessed was too high\")\n",
        "else:\n",
        "  print(\"Bingo!\")\n",
        "\n",
        "print(f\"My random number is {computer_number}\")"
      ],
      "metadata": {
        "colab": {
          "base_uri": "https://localhost:8080/"
        },
        "id": "Aqn6BADTMHnm",
        "outputId": "add10fca-1ac9-472a-dd24-22d1a7ad5b92"
      },
      "execution_count": null,
      "outputs": [
        {
          "output_type": "stream",
          "name": "stdout",
          "text": [
            "Your number here: 5\n",
            "Bingo!\n",
            "My random number is 5\n"
          ]
        }
      ]
    },
    {
      "cell_type": "code",
      "source": [
        "import random\n",
        "\n",
        "number1 = random.randint(1, 49)\n",
        "number2 = random.randint(1, 49)\n",
        "number3 = random.randint(1, 49)\n",
        "number4 = random.randint(1, 49)\n",
        "number5 = random.randint(1, 49)\n",
        "number6 = random.randint(1, 49)\n",
        "\n",
        "print(\"Welcome to HKJC!\")\n",
        "print(f\"Here are your 6 lucky numbers: {number1}, {number2}, {number3}, {number4}, {number5}, {number6},\")"
      ],
      "metadata": {
        "colab": {
          "base_uri": "https://localhost:8080/"
        },
        "id": "ZSHDHk8jOpuZ",
        "outputId": "317faff1-84a6-422d-dc93-3dfc5b117f43"
      },
      "execution_count": null,
      "outputs": [
        {
          "output_type": "stream",
          "name": "stdout",
          "text": [
            "Welcome to HKJC!\n",
            "Here are your 6 lucky numbers: 17, 1, 15, 5, 19, 26,\n"
          ]
        }
      ]
    },
    {
      "cell_type": "code",
      "source": [
        "import random\n",
        "x = random.sample(range(1,49), 6)\n",
        "\n",
        "# Datatype list\n",
        "print(x)\n",
        "print(type(x))\n",
        "y = []\n"
      ],
      "metadata": {
        "colab": {
          "base_uri": "https://localhost:8080/"
        },
        "id": "D-ih3grERvm_",
        "outputId": "c2aa3f6b-13c3-4ea6-9795-21c8400dbb54"
      },
      "execution_count": null,
      "outputs": [
        {
          "output_type": "stream",
          "name": "stdout",
          "text": [
            "[29, 6, 5, 28, 4, 9]\n",
            "<class 'list'>\n"
          ]
        }
      ]
    },
    {
      "cell_type": "code",
      "source": [
        "# !=  NOT equal\n",
        "\n",
        "if 1 != 2:\n",
        "  print(type(1 != 2))"
      ],
      "metadata": {
        "colab": {
          "base_uri": "https://localhost:8080/"
        },
        "id": "KfAYYY4QSbLx",
        "outputId": "9041e47e-cf9c-42e0-ce79-be5013eee8bf"
      },
      "execution_count": null,
      "outputs": [
        {
          "output_type": "stream",
          "name": "stdout",
          "text": [
            "<class 'bool'>\n"
          ]
        }
      ]
    },
    {
      "cell_type": "code",
      "source": [
        "# 1 >>> scissors\n",
        "# 2 >>> paper\n",
        "# 3 >>> stone\n",
        "import random\n",
        "c_choice = random.randint(1, 3)\n",
        "u_choice = str(input(\"What do you get? (i.e. Paper, Scissors, Stone)\")).lower()\n",
        "\n",
        "if u_choice == \"paper\" or u_choice == \"scissors\" or u_choice == \"stone\":\n",
        "  print(\"OK.......I've got........\")\n",
        "\n",
        "else:\n",
        "  print(\"I don't know what you are talking about :(\")\n",
        "\n",
        "\n"
      ],
      "metadata": {
        "id": "I9dJIKv-QCa8"
      },
      "execution_count": null,
      "outputs": []
    },
    {
      "cell_type": "code",
      "source": [
        "# list -> Python\n",
        "# array -> Javascript\n",
        "# empty\n",
        "x_list = ['apple', 'orange', 'banana', 'watermelon', 'strawberry', 'mango']\n",
        "print(x_list[2])\n",
        "\n",
        "x_list.append('graphes')\n",
        "print(x_list)\n",
        "\n",
        "x_list.pop()\n",
        "print(x_list)\n",
        "\n",
        "print(x_list.index('watermelon'))\n",
        "\n",
        "print(len(x_list))\n",
        "\n",
        "print(x_list[1:4])"
      ],
      "metadata": {
        "colab": {
          "base_uri": "https://localhost:8080/"
        },
        "id": "2xFUfWZbqz-s",
        "outputId": "15bd80f9-3d59-4849-9d84-a7e61f1523dc"
      },
      "execution_count": null,
      "outputs": [
        {
          "output_type": "stream",
          "name": "stdout",
          "text": [
            "banana\n",
            "['apple', 'orange', 'banana', 'watermelon', 'strawberry', 'mango', 'graphes']\n",
            "['apple', 'orange', 'banana', 'watermelon', 'strawberry', 'mango']\n",
            "3\n",
            "6\n",
            "['orange', 'banana', 'watermelon']\n"
          ]
        }
      ]
    },
    {
      "cell_type": "code",
      "source": [
        "# dictionary -> Python\n",
        "# object -> Javascript\n",
        "x_obj = {}\n",
        "print(type(x_obj))\n",
        "\n",
        "# key-value pair\n",
        "# CRUD\n",
        "\n",
        "#CREATE\n",
        "empty_user = {}\n",
        "user3 = {\n",
        "    'name': 'Joey Chan',\n",
        "    'height': 178,\n",
        "    'gender': 'M',\n",
        "    'hobbies': ['basketball', 'programming', 'reading books'],\n",
        "    'address': {\n",
        "        'building_name': 'Tower 535',\n",
        "        'district': 'Causeway Bay',\n",
        "        'country': 'Hong Kong China'\n",
        "    }\n",
        "}\n",
        "\n",
        "#READ\n",
        "print(user3['address']['country'])\n",
        "print(user3['hobbies'][1])\n",
        "\n",
        "# UPDATE\n",
        "user3['height'] = 180\n",
        "user3['hobbies'].append('driving')\n",
        "\n",
        "print(user3)\n",
        "\n",
        "# DELETE\n",
        "del(user3['gender'])\n",
        "print(user3)\n",
        "\n",
        "print(user3.keys())\n",
        "print(user3.values())\n",
        "print(user3.items())\n"
      ],
      "metadata": {
        "colab": {
          "base_uri": "https://localhost:8080/"
        },
        "id": "3oSKsSY_uya3",
        "outputId": "fdeadd8a-1ad2-41c4-83c7-4fcbbaffe080"
      },
      "execution_count": null,
      "outputs": [
        {
          "output_type": "stream",
          "name": "stdout",
          "text": [
            "<class 'dict'>\n",
            "Hong Kong China\n",
            "programming\n",
            "{'name': 'Joey Chan', 'height': 180, 'gender': 'M', 'hobbies': ['basketball', 'programming', 'reading books', 'driving'], 'address': {'building_name': 'Tower 535', 'district': 'Causeway Bay', 'country': 'Hong Kong China'}}\n",
            "{'name': 'Joey Chan', 'height': 180, 'hobbies': ['basketball', 'programming', 'reading books', 'driving'], 'address': {'building_name': 'Tower 535', 'district': 'Causeway Bay', 'country': 'Hong Kong China'}}\n",
            "dict_keys(['name', 'height', 'hobbies', 'address'])\n",
            "dict_values(['Joey Chan', 180, ['basketball', 'programming', 'reading books', 'driving'], {'building_name': 'Tower 535', 'district': 'Causeway Bay', 'country': 'Hong Kong China'}])\n",
            "dict_items([('name', 'Joey Chan'), ('height', 180), ('hobbies', ['basketball', 'programming', 'reading books', 'driving']), ('address', {'building_name': 'Tower 535', 'district': 'Causeway Bay', 'country': 'Hong Kong China'})])\n"
          ]
        }
      ]
    },
    {
      "cell_type": "code",
      "source": [],
      "metadata": {
        "id": "Ljz6nilMB5AO"
      },
      "execution_count": null,
      "outputs": []
    },
    {
      "cell_type": "code",
      "source": [
        "brands = ['Hermes', 'Louis Vuitton', 'Dior', 'Chanel', 'Gucci', 'Burberry']\n",
        "\n",
        "for each_brand in brands:\n",
        "  if each_brand == 'Hermes':\n",
        "    print(\"Nice orange color\")\n",
        "  elif each_brand == 'Louis Vuitton':\n",
        "    print(\"I like the monogram!\")\n",
        "  else:\n",
        "    print(\"Not for me\")"
      ],
      "metadata": {
        "colab": {
          "base_uri": "https://localhost:8080/"
        },
        "id": "Ti4MePbMD8tA",
        "outputId": "eee02cd9-40b9-4d8f-dad8-665ba9e4d942"
      },
      "execution_count": null,
      "outputs": [
        {
          "output_type": "stream",
          "name": "stdout",
          "text": [
            "Nice orange color\n",
            "I like the monogram!\n",
            "Not for me\n",
            "Not for me\n",
            "Not for me\n",
            "Not for me\n"
          ]
        }
      ]
    },
    {
      "cell_type": "code",
      "source": [
        "car = {\n",
        "    'brand': 'Tesla',\n",
        "    'model': 'Model 3',\n",
        "    'seats': 4,\n",
        "    'doors': 4,\n",
        "    'color': 'white'\n",
        "}\n",
        "\n",
        "for keys, values in car.items():\n",
        "  print(f\"The car's {keys} is {values}\")"
      ],
      "metadata": {
        "colab": {
          "base_uri": "https://localhost:8080/"
        },
        "id": "AEzaqsNwFgQJ",
        "outputId": "91db00eb-6043-4ab4-de86-2797f794ac2a"
      },
      "execution_count": null,
      "outputs": [
        {
          "output_type": "stream",
          "name": "stdout",
          "text": [
            "The car's brand is Tesla\n",
            "The car's model is Model 3\n",
            "The car's seats is 4\n",
            "The car's doors is 4\n",
            "The car's color is white\n"
          ]
        }
      ]
    },
    {
      "cell_type": "code",
      "source": [
        "students = {\n",
        "    'Paul': 'chocolate',\n",
        "    'Connie': 'cookies',\n",
        "    'Pete': 'sandwiches',\n",
        "    'Joey': 'donuts'\n",
        "}\n",
        "\n",
        "for name, food in students.items():\n",
        "  print(f\"{name} likes {food}\")"
      ],
      "metadata": {
        "colab": {
          "base_uri": "https://localhost:8080/"
        },
        "id": "UWMVzNrfGlA9",
        "outputId": "d664daac-dbe5-4a35-e6b1-9b42f5872325"
      },
      "execution_count": null,
      "outputs": [
        {
          "output_type": "stream",
          "name": "stdout",
          "text": [
            "Paul likes chocolate\n",
            "Connie likes cookies\n",
            "Pete likes sandwiches\n",
            "Joey likes donuts\n"
          ]
        }
      ]
    },
    {
      "cell_type": "code",
      "source": [
        "url = \"https://api.github.com/users/Gonciarov\"\n",
        "\n",
        "import requests\n",
        "import json\n",
        "\n",
        "json_page = requests.get(url).content\n",
        "result = json.loads(json_page)\n",
        "\n",
        "print(result)\n",
        "\n",
        "print(result['name'])\n",
        "print(result['location'])\n",
        "print(result['company'])\n",
        "print(f\"This nerd is called {result['name']} works at {result['company']} in {result['location']}\")\n"
      ],
      "metadata": {
        "colab": {
          "base_uri": "https://localhost:8080/"
        },
        "id": "C4pAk-ViGmEQ",
        "outputId": "0531513d-ed57-4286-a72b-72fe3e624619"
      },
      "execution_count": null,
      "outputs": [
        {
          "output_type": "stream",
          "name": "stdout",
          "text": [
            "{'login': 'Gonciarov', 'id': 64730623, 'node_id': 'MDQ6VXNlcjY0NzMwNjIz', 'avatar_url': 'https://avatars.githubusercontent.com/u/64730623?v=4', 'gravatar_id': '', 'url': 'https://api.github.com/users/Gonciarov', 'html_url': 'https://github.com/Gonciarov', 'followers_url': 'https://api.github.com/users/Gonciarov/followers', 'following_url': 'https://api.github.com/users/Gonciarov/following{/other_user}', 'gists_url': 'https://api.github.com/users/Gonciarov/gists{/gist_id}', 'starred_url': 'https://api.github.com/users/Gonciarov/starred{/owner}{/repo}', 'subscriptions_url': 'https://api.github.com/users/Gonciarov/subscriptions', 'organizations_url': 'https://api.github.com/users/Gonciarov/orgs', 'repos_url': 'https://api.github.com/users/Gonciarov/repos', 'events_url': 'https://api.github.com/users/Gonciarov/events{/privacy}', 'received_events_url': 'https://api.github.com/users/Gonciarov/received_events', 'type': 'User', 'site_admin': False, 'name': 'Ilja Gonciarov', 'company': 'Mr', 'blog': '', 'location': None, 'email': None, 'hireable': None, 'bio': None, 'twitter_username': None, 'public_repos': 51, 'public_gists': 0, 'followers': 3, 'following': 2, 'created_at': '2020-05-03T10:25:20Z', 'updated_at': '2024-01-05T11:05:16Z'}\n",
            "Ilja Gonciarov\n",
            "None\n",
            "Mr\n",
            "This nerd is called Ilja Gonciarov works at Mr in None\n"
          ]
        }
      ]
    },
    {
      "cell_type": "code",
      "source": [
        "# function\n",
        "import requests\n",
        "import json\n",
        "\n",
        "def github_scrapper(username):\n",
        "  url = f\"https://api.github.com/users/{username}\"\n",
        "  json_page = requests.get(url).content\n",
        "  result = json.loads(json_page)\n",
        "\n",
        "  print(f\"This nerd is called {result['name']} works at {result['company']} in {result['location']}\")\n",
        "\n",
        "username_provided = str(input('Please provide any Github username'))\n",
        "github_scrapper(username_provided)\n",
        "\n",
        "\n",
        "github_scrapper('Gonciarov')"
      ],
      "metadata": {
        "colab": {
          "base_uri": "https://localhost:8080/"
        },
        "id": "8gaEdhuqMXrJ",
        "outputId": "283e07ba-6577-4171-cf7e-4abcae9f928d"
      },
      "execution_count": null,
      "outputs": [
        {
          "output_type": "stream",
          "name": "stdout",
          "text": [
            "Please provide any Github usernamejo2-sysc\n",
            "This nerd is called None works at None in None\n",
            "This nerd is called Ilja Gonciarov works at Mr in None\n"
          ]
        }
      ]
    },
    {
      "cell_type": "code",
      "source": [
        "# XML\n",
        "\n",
        "import requests\n",
        "from bs4 import BeautifulSoup as soup\n",
        "\n",
        "url = \"https://news.google.com./rss\"\n",
        "\n",
        "xml_page = requests.get(url).content\n",
        "soup_page = soup(xml_page, 'xml')\n",
        "\n",
        "print(soup_page)\n",
        "print(type(soup_page))\n",
        "print(soup_page.title.text)\n",
        "\n",
        "news_list = soup_page.findAll('item')\n",
        "\n",
        "for news in news_list:\n",
        "  print(news.title.text)\n",
        "  print(news.link.text)\n",
        "  print(news.pubDate.text)\n",
        "  print(\"=\"*100)"
      ],
      "metadata": {
        "colab": {
          "base_uri": "https://localhost:8080/"
        },
        "id": "1v2STUPfQt37",
        "outputId": "59596def-b59c-4188-bd78-a6b2ef63a179"
      },
      "execution_count": null,
      "outputs": [
        {
          "output_type": "stream",
          "name": "stdout",
          "text": [
            "<?xml version=\"1.0\" encoding=\"utf-8\"?>\n",
            "<rss version=\"2.0\" xmlns:media=\"http://search.yahoo.com/mrss/\"><channel><generator>NFE/5.0</generator><title>Top stories - Google News</title><link>https://news.google.com/?hl=en-US&amp;gl=US&amp;ceid=US:en</link><language>en-US</language><webMaster>news-webmaster@google.com</webMaster><copyright>2024 Google Inc.</copyright><lastBuildDate>Tue, 23 Jan 2024 12:32:40 GMT</lastBuildDate><description>Google News</description><item><title>Nikki Haley sweeps Dixville Notch's primary, winning all 6 votes - The Associated Press</title><link>https://news.google.com/rss/articles/CBMib2h0dHBzOi8vYXBuZXdzLmNvbS9hcnRpY2xlL2RpeHZpbGxlLW5vdGNoLXByaW1hcnktdm90aW5nLW5ldy1oYW1wc2hpcmUtdHVlc2RheS0wZjdmNDIwMDU0NDAzNTEwMzY0NDY5YWQ1MjI1NTI3MNIBAA?oc=5</link><guid isPermaLink=\"false\">CBMib2h0dHBzOi8vYXBuZXdzLmNvbS9hcnRpY2xlL2RpeHZpbGxlLW5vdGNoLXByaW1hcnktdm90aW5nLW5ldy1oYW1wc2hpcmUtdHVlc2RheS0wZjdmNDIwMDU0NDAzNTEwMzY0NDY5YWQ1MjI1NTI3MNIBAA</guid><pubDate>Tue, 23 Jan 2024 10:43:00 GMT</pubDate><description>&lt;ol&gt;&lt;li&gt;&lt;a href=\"https://news.google.com/rss/articles/CBMib2h0dHBzOi8vYXBuZXdzLmNvbS9hcnRpY2xlL2RpeHZpbGxlLW5vdGNoLXByaW1hcnktdm90aW5nLW5ldy1oYW1wc2hpcmUtdHVlc2RheS0wZjdmNDIwMDU0NDAzNTEwMzY0NDY5YWQ1MjI1NTI3MNIBAA?oc=5\" target=\"_blank\"&gt;Nikki Haley sweeps Dixville Notch's primary, winning all 6 votes&lt;/a&gt;&amp;nbsp;&amp;nbsp;&lt;font color=\"#6f6f6f\"&gt;The Associated Press&lt;/font&gt;&lt;/li&gt;&lt;li&gt;&lt;a href=\"https://news.google.com/rss/articles/CCAiC0ZnMDR4N2hnMkdNmAEB?oc=5\" target=\"_blank\"&gt;Nikki Haley makes last push ahead of New Hampshire primary&lt;/a&gt;&amp;nbsp;&amp;nbsp;&lt;font color=\"#6f6f6f\"&gt;CBS Evening News&lt;/font&gt;&lt;/li&gt;&lt;li&gt;&lt;a href=\"https://news.google.com/rss/articles/CCAiC0RVZlJldUVSMGFnmAEB?oc=5\" target=\"_blank\"&gt;‘A political miracle’: What Nikki Haley needs to win New Hampshire&lt;/a&gt;&amp;nbsp;&amp;nbsp;&lt;font color=\"#6f6f6f\"&gt;MSNBC&lt;/font&gt;&lt;/li&gt;&lt;li&gt;&lt;a href=\"https://news.google.com/rss/articles/CBMidmh0dHBzOi8vd3d3LmNuYmMuY29tLzIwMjQvMDEvMjIvY2FuLWhhbGV5LWJlYXQtdHJ1bXAtYS1uZXctaGFtcHNoaXJlLXZmdy1oYWxsLXNwb3RsaWdodHMtaGVyLXN0YXJrLWVudGh1c2lhc20tZ2FwLmh0bWzSAXpodHRwczovL3d3dy5jbmJjLmNvbS9hbXAvMjAyNC8wMS8yMi9jYW4taGFsZXktYmVhdC10cnVtcC1hLW5ldy1oYW1wc2hpcmUtdmZ3LWhhbGwtc3BvdGxpZ2h0cy1oZXItc3RhcmstZW50aHVzaWFzbS1nYXAuaHRtbA?oc=5\" target=\"_blank\"&gt;Can Haley beat Trump? A New Hampshire VFW hall spotlights her stark enthusiasm gap&lt;/a&gt;&amp;nbsp;&amp;nbsp;&lt;font color=\"#6f6f6f\"&gt;CNBC&lt;/font&gt;&lt;/li&gt;&lt;li&gt;&lt;a href=\"https://news.google.com/rss/articles/CBMiV2h0dHBzOi8vd3d3LmZveG5ld3MuY29tL29waW5pb24vaGFsZXktZGVzYW50aXMtdHJ1bXAtbmV3LWhhbXBzaGlyZS1wcmltYXJ5LXVubGlrZS1vdGhlctIBW2h0dHBzOi8vd3d3LmZveG5ld3MuY29tL29waW5pb24vaGFsZXktZGVzYW50aXMtdHJ1bXAtbmV3LWhhbXBzaGlyZS1wcmltYXJ5LXVubGlrZS1vdGhlci5hbXA?oc=5\" target=\"_blank\"&gt;It's not just about Haley, DeSantis or Trump, this is a New Hampshire primary unlike any other&lt;/a&gt;&amp;nbsp;&amp;nbsp;&lt;font color=\"#6f6f6f\"&gt;Fox News&lt;/font&gt;&lt;/li&gt;&lt;/ol&gt;</description><source url=\"https://apnews.com\">The Associated Press</source></item><item><title>24 Israeli soldiers killed in Gaza during Israel-Hamas war, IDF says - The Washington Post</title><link>https://news.google.com/rss/articles/CBMiWWh0dHBzOi8vd3d3Lndhc2hpbmd0b25wb3N0LmNvbS93b3JsZC8yMDI0LzAxLzIzL2lzcmFlbC1zb2xkaWVycy1raWxsZWQtZ2F6YS13YXItaG9zdGFnZXMv0gEA?oc=5</link><guid isPermaLink=\"false\">CBMiWWh0dHBzOi8vd3d3Lndhc2hpbmd0b25wb3N0LmNvbS93b3JsZC8yMDI0LzAxLzIzL2lzcmFlbC1zb2xkaWVycy1raWxsZWQtZ2F6YS13YXItaG9zdGFnZXMv0gEA</guid><pubDate>Tue, 23 Jan 2024 11:12:17 GMT</pubDate><description>&lt;ol&gt;&lt;li&gt;&lt;a href=\"https://news.google.com/rss/articles/CBMiWWh0dHBzOi8vd3d3Lndhc2hpbmd0b25wb3N0LmNvbS93b3JsZC8yMDI0LzAxLzIzL2lzcmFlbC1zb2xkaWVycy1raWxsZWQtZ2F6YS13YXItaG9zdGFnZXMv0gEA?oc=5\" target=\"_blank\"&gt;24 Israeli soldiers killed in Gaza during Israel-Hamas war, IDF says&lt;/a&gt;&amp;nbsp;&amp;nbsp;&lt;font color=\"#6f6f6f\"&gt;The Washington Post&lt;/font&gt;&lt;/li&gt;&lt;li&gt;&lt;a href=\"https://news.google.com/rss/articles/CBMiQWh0dHBzOi8vbmV3cy55YWhvby5jb20vMTAtc29sZGllcnMta2lsbGVkLWdhemEtb25lLTA1MzczNjEyOS5odG1s0gEA?oc=5\" target=\"_blank\"&gt;21 Israeli troops are killed in the deadliest attack on the military since the Gaza offensive began&lt;/a&gt;&amp;nbsp;&amp;nbsp;&lt;font color=\"#6f6f6f\"&gt;Yahoo News&lt;/font&gt;&lt;/li&gt;&lt;li&gt;&lt;a href=\"https://news.google.com/rss/articles/CCAiC1p2UEdyUUFNaEhFmAEB?oc=5\" target=\"_blank\"&gt;Israel reports 24 soldiers killed in attack in Gaza&lt;/a&gt;&amp;nbsp;&amp;nbsp;&lt;font color=\"#6f6f6f\"&gt;Al Jazeera English&lt;/font&gt;&lt;/li&gt;&lt;li&gt;&lt;a href=\"https://news.google.com/rss/articles/CBMihAFodHRwczovL3d3dy50aW1lc29maXNyYWVsLmNvbS9saXZlYmxvZ19lbnRyeS9oZXJ6b2ctdGhlLW5hbWVzLW9mLW1vcmUtb2YtdGhlLWJlc3Qtb2Ytb3VyLXNvbnMtYXJlLWFkZGVkLXRvLXRoZS1oZWFkc3RvbmVzLW9mLWhlcm9lcy_SAQA?oc=5\" target=\"_blank\"&gt;Herzog: 'The names of more of the best of our sons are added to the headstones of heroes'&lt;/a&gt;&amp;nbsp;&amp;nbsp;&lt;font color=\"#6f6f6f\"&gt;The Times of Israel&lt;/font&gt;&lt;/li&gt;&lt;li&gt;&lt;a href=\"https://news.google.com/rss/articles/CCAiC2xNV3hlb0FaTXhvmAEB?oc=5\" target=\"_blank\"&gt;Al-Qassam Brigades Blows Up 21 Israeli Soldiers In RPG Hit On Merkava Tank | Watch&lt;/a&gt;&amp;nbsp;&amp;nbsp;&lt;font color=\"#6f6f6f\"&gt;Hindustan Times&lt;/font&gt;&lt;/li&gt;&lt;/ol&gt;</description><source url=\"https://www.washingtonpost.com\">The Washington Post</source></item><item><title>Cal State Professors Reach Tentative Deal to End Strike - The New York Times</title><link>https://news.google.com/rss/articles/CBMiT2h0dHBzOi8vd3d3Lm55dGltZXMuY29tLzIwMjQvMDEvMjMvdXMvY2FsaWZvcm5pYS1zdGF0ZS1mYWN1bHR5LXN0cmlrZS1kZWFsLmh0bWzSAQA?oc=5</link><guid isPermaLink=\"false\">CBMiT2h0dHBzOi8vd3d3Lm55dGltZXMuY29tLzIwMjQvMDEvMjMvdXMvY2FsaWZvcm5pYS1zdGF0ZS1mYWN1bHR5LXN0cmlrZS1kZWFsLmh0bWzSAQA</guid><pubDate>Tue, 23 Jan 2024 07:54:05 GMT</pubDate><description>&lt;ol&gt;&lt;li&gt;&lt;a href=\"https://news.google.com/rss/articles/CBMiT2h0dHBzOi8vd3d3Lm55dGltZXMuY29tLzIwMjQvMDEvMjMvdXMvY2FsaWZvcm5pYS1zdGF0ZS1mYWN1bHR5LXN0cmlrZS1kZWFsLmh0bWzSAQA?oc=5\" target=\"_blank\"&gt;Cal State Professors Reach Tentative Deal to End Strike&lt;/a&gt;&amp;nbsp;&amp;nbsp;&lt;font color=\"#6f6f6f\"&gt;The New York Times&lt;/font&gt;&lt;/li&gt;&lt;li&gt;&lt;a href=\"https://news.google.com/rss/articles/CCAiC0lpY0RpdFVzcjV3mAEB?oc=5\" target=\"_blank\"&gt;CFA ends strike after deal reached with CSU&lt;/a&gt;&amp;nbsp;&amp;nbsp;&lt;font color=\"#6f6f6f\"&gt;KCRA 3&lt;/font&gt;&lt;/li&gt;&lt;li&gt;&lt;a href=\"https://news.google.com/rss/articles/CBMiUGh0dHBzOi8vbmV3cy55YWhvby5jb20vY2FsaWZvcm5pYS1zdGF0ZS11bml2ZXJzaXR5LWZhY3VsdHktbGF1bmNoLTE2MjEzNTE3OC5odG1s0gEA?oc=5\" target=\"_blank\"&gt;California State University faculty reach tentative contract agreement and will end strike&lt;/a&gt;&amp;nbsp;&amp;nbsp;&lt;font color=\"#6f6f6f\"&gt;Yahoo News&lt;/font&gt;&lt;/li&gt;&lt;li&gt;&lt;a href=\"https://news.google.com/rss/articles/CCAiC0cwa1VnRXBNeDFnmAEB?oc=5\" target=\"_blank\"&gt;Tracking rain in SoCal, statewide Cal State University strike | The Rundown&lt;/a&gt;&amp;nbsp;&amp;nbsp;&lt;font color=\"#6f6f6f\"&gt;KCAL News&lt;/font&gt;&lt;/li&gt;&lt;li&gt;&lt;a href=\"https://news.google.com/rss/articles/CBMiSWh0dHBzOi8vbG9zdGNvYXN0b3V0cG9zdC5jb20vMjAyNC9qYW4vMjIvcGhvdG9zLWNhbC1wb2x5LWh1bWJvbGR0LXN0cmlrZS_SAQA?oc=5\" target=\"_blank\"&gt;(PHOTOS/VIDEO) Cal Poly Humboldt on Strike&lt;/a&gt;&amp;nbsp;&amp;nbsp;&lt;font color=\"#6f6f6f\"&gt;Lost Coast Outpost&lt;/font&gt;&lt;/li&gt;&lt;/ol&gt;</description><source url=\"https://www.nytimes.com\">The New York Times</source></item><item><title>NH primary plays outsized role in determining future of the Republican Party - NPR</title><link>https://news.google.com/rss/articles/CBMiaWh0dHBzOi8vd3d3Lm5wci5vcmcvMjAyNC8wMS8yMy8xMjI2MjQxMDQ3L25oLXByaW1hcnktZ29wLXJlcHVibGljYW4tbWFnYS1tb2RlcmF0ZS1pbmRlcGVuZGVudC10cnVtcC1oYWxledIBAA?oc=5</link><guid isPermaLink=\"false\">CBMiaWh0dHBzOi8vd3d3Lm5wci5vcmcvMjAyNC8wMS8yMy8xMjI2MjQxMDQ3L25oLXByaW1hcnktZ29wLXJlcHVibGljYW4tbWFnYS1tb2RlcmF0ZS1pbmRlcGVuZGVudC10cnVtcC1oYWxledIBAA</guid><pubDate>Tue, 23 Jan 2024 10:00:00 GMT</pubDate><description>&lt;ol&gt;&lt;li&gt;&lt;a href=\"https://news.google.com/rss/articles/CBMiaWh0dHBzOi8vd3d3Lm5wci5vcmcvMjAyNC8wMS8yMy8xMjI2MjQxMDQ3L25oLXByaW1hcnktZ29wLXJlcHVibGljYW4tbWFnYS1tb2RlcmF0ZS1pbmRlcGVuZGVudC10cnVtcC1oYWxledIBAA?oc=5\" target=\"_blank\"&gt;NH primary plays outsized role in determining future of the Republican Party&lt;/a&gt;&amp;nbsp;&amp;nbsp;&lt;font color=\"#6f6f6f\"&gt;NPR&lt;/font&gt;&lt;/li&gt;&lt;li&gt;&lt;a href=\"https://news.google.com/rss/articles/CCAiC0Z2b2lvLTkxem0wmAEB?oc=5\" target=\"_blank\"&gt;Republicans unable to overcome constituents' Trump devotion fall in line&lt;/a&gt;&amp;nbsp;&amp;nbsp;&lt;font color=\"#6f6f6f\"&gt;MSNBC&lt;/font&gt;&lt;/li&gt;&lt;li&gt;&lt;a href=\"https://news.google.com/rss/articles/CBMiTGh0dHBzOi8vd3d3Lndhc2hpbmd0b25wb3N0LmNvbS9wb2xpdGljcy8yMDI0LzAxLzIyL3RydW1wLWdhbWJsZS1yZXB1YmxpY2Fucy_SAQA?oc=5\" target=\"_blank\"&gt;4 reasons Trump is a gamble for Republicans&lt;/a&gt;&amp;nbsp;&amp;nbsp;&lt;font color=\"#6f6f6f\"&gt;The Washington Post&lt;/font&gt;&lt;/li&gt;&lt;li&gt;&lt;a href=\"https://news.google.com/rss/articles/CBMiWWh0dHBzOi8vd3d3Lndhc2hpbmd0b25wb3N0LmNvbS9vcGluaW9ucy8yMDI0LzAxLzIyL25ldy1oYW1wc2hpcmUtdHJ1bXAtaGFsZXktcmVwdWJsaWNhbnMv0gEA?oc=5\" target=\"_blank\"&gt;Opinion | N.H. Republicans should be honest about what backing Trump would mean&lt;/a&gt;&amp;nbsp;&amp;nbsp;&lt;font color=\"#6f6f6f\"&gt;The Washington Post&lt;/font&gt;&lt;/li&gt;&lt;li&gt;&lt;a href=\"https://news.google.com/rss/articles/CBMiYmh0dHBzOi8vd3d3LmxhdGltZXMuY29tL29waW5pb24vc3RvcnkvMjAyNC0wMS0yMi9uaWtraS1oYWxleS1yb24tZGVzYW50aXMtZG9uYWxkLXRydW1wLWdvcC1wcmltYXJ50gEA?oc=5\" target=\"_blank\"&gt;Opinion: The Republican presidential primary has been nothing but a giant grift&lt;/a&gt;&amp;nbsp;&amp;nbsp;&lt;font color=\"#6f6f6f\"&gt;Los Angeles Times&lt;/font&gt;&lt;/li&gt;&lt;/ol&gt;</description><source url=\"https://www.npr.org\">NPR</source></item><item><title>Supreme Court says Biden administration can remove razor wire that Texas installed along border - CBS News</title><link>https://news.google.com/rss/articles/CBMiUmh0dHBzOi8vd3d3LmNic25ld3MuY29tL25ld3Mvc3VwcmVtZS1jb3VydC10ZXhhcy1yYXpvci13aXJlLWNhc2UtdXMtbWV4aWNvLWJvcmRlci_SAVZodHRwczovL3d3dy5jYnNuZXdzLmNvbS9hbXAvbmV3cy9zdXByZW1lLWNvdXJ0LXRleGFzLXJhem9yLXdpcmUtY2FzZS11cy1tZXhpY28tYm9yZGVyLw?oc=5</link><guid isPermaLink=\"false\">CBMiUmh0dHBzOi8vd3d3LmNic25ld3MuY29tL25ld3Mvc3VwcmVtZS1jb3VydC10ZXhhcy1yYXpvci13aXJlLWNhc2UtdXMtbWV4aWNvLWJvcmRlci_SAVZodHRwczovL3d3dy5jYnNuZXdzLmNvbS9hbXAvbmV3cy9zdXByZW1lLWNvdXJ0LXRleGFzLXJhem9yLXdpcmUtY2FzZS11cy1tZXhpY28tYm9yZGVyLw</guid><pubDate>Tue, 23 Jan 2024 08:59:00 GMT</pubDate><description>&lt;ol&gt;&lt;li&gt;&lt;a href=\"https://news.google.com/rss/articles/CBMiUmh0dHBzOi8vd3d3LmNic25ld3MuY29tL25ld3Mvc3VwcmVtZS1jb3VydC10ZXhhcy1yYXpvci13aXJlLWNhc2UtdXMtbWV4aWNvLWJvcmRlci_SAVZodHRwczovL3d3dy5jYnNuZXdzLmNvbS9hbXAvbmV3cy9zdXByZW1lLWNvdXJ0LXRleGFzLXJhem9yLXdpcmUtY2FzZS11cy1tZXhpY28tYm9yZGVyLw?oc=5\" target=\"_blank\"&gt;Supreme Court says Biden administration can remove razor wire that Texas installed along border&lt;/a&gt;&amp;nbsp;&amp;nbsp;&lt;font color=\"#6f6f6f\"&gt;CBS News&lt;/font&gt;&lt;/li&gt;&lt;li&gt;&lt;a href=\"https://news.google.com/rss/articles/CBMiK2h0dHBzOi8vd3d3LmZveG5ld3MuY29tL3ZpZGVvLzYzNDUzODM2NjQxMTLSAQA?oc=5\" target=\"_blank\"&gt;Rep. Tony Gonzales on border crisis: 'We're looking for real solutions'&lt;/a&gt;&amp;nbsp;&amp;nbsp;&lt;font color=\"#6f6f6f\"&gt;Fox News&lt;/font&gt;&lt;/li&gt;&lt;li&gt;&lt;a href=\"https://news.google.com/rss/articles/CBMiUWh0dHBzOi8vd3d3LmNubi5jb20vMjAyNC8wMS8yMi9wb2xpdGljcy9zdXByZW1lLWNvdXJ0LXRleGFzLXJhem9yLXdpcmUvaW5kZXguaHRtbNIBVWh0dHBzOi8vYW1wLmNubi5jb20vY25uLzIwMjQvMDEvMjIvcG9saXRpY3Mvc3VwcmVtZS1jb3VydC10ZXhhcy1yYXpvci13aXJlL2luZGV4Lmh0bWw?oc=5\" target=\"_blank\"&gt;Supreme Court allows Biden administration to remove razor wire on US-Mexico border in 5-4 vote&lt;/a&gt;&amp;nbsp;&amp;nbsp;&lt;font color=\"#6f6f6f\"&gt;CNN&lt;/font&gt;&lt;/li&gt;&lt;li&gt;&lt;a href=\"https://news.google.com/rss/articles/CCAiCzVzNDlvWVBUYWhRmAEB?oc=5\" target=\"_blank\"&gt;Supreme Court allows removal of U.S.-Mexico border razor wire for now&lt;/a&gt;&amp;nbsp;&amp;nbsp;&lt;font color=\"#6f6f6f\"&gt;CBS News&lt;/font&gt;&lt;/li&gt;&lt;li&gt;&lt;a href=\"https://news.google.com/rss/articles/CBMiV2h0dHBzOi8vd3d3LmZveG5ld3MuY29tL3BvbGl0aWNzL3N1cHJlbWUtY291cnQtc2lkZXMtYmlkZW4tdGV4YXMtYm9yZGVyLXJhem9yLXdpcmUtY2FzZdIBW2h0dHBzOi8vd3d3LmZveG5ld3MuY29tL3BvbGl0aWNzL3N1cHJlbWUtY291cnQtc2lkZXMtYmlkZW4tdGV4YXMtYm9yZGVyLXJhem9yLXdpcmUtY2FzZS5hbXA?oc=5\" target=\"_blank\"&gt;Supreme Court sides with Biden in Texas border razor wire case; Border Patrol Union blasts decision&lt;/a&gt;&amp;nbsp;&amp;nbsp;&lt;font color=\"#6f6f6f\"&gt;Fox News&lt;/font&gt;&lt;/li&gt;&lt;/ol&gt;</description><source url=\"https://www.cbsnews.com\">CBS News</source></item><item><title>Suspect in killings of 8 near Chicago fatally shoots himself in Texas, police say - NBC News</title><link>https://news.google.com/rss/articles/CBMiT2h0dHBzOi8vd3d3Lm5iY25ld3MuY29tL25ld3MvdXMtbmV3cy84LWRlYWQtc2hvb3Rpbmctam9saWV0LWlsbGlub2lzLXJjbmExMzUxNzbSAStodHRwczovL3d3dy5uYmNuZXdzLmNvbS9uZXdzL2FtcC9yY25hMTM1MTc2?oc=5</link><guid isPermaLink=\"false\">CBMiT2h0dHBzOi8vd3d3Lm5iY25ld3MuY29tL25ld3MvdXMtbmV3cy84LWRlYWQtc2hvb3Rpbmctam9saWV0LWlsbGlub2lzLXJjbmExMzUxNzbSAStodHRwczovL3d3dy5uYmNuZXdzLmNvbS9uZXdzL2FtcC9yY25hMTM1MTc2</guid><pubDate>Tue, 23 Jan 2024 09:09:00 GMT</pubDate><description>&lt;ol&gt;&lt;li&gt;&lt;a href=\"https://news.google.com/rss/articles/CBMiT2h0dHBzOi8vd3d3Lm5iY25ld3MuY29tL25ld3MvdXMtbmV3cy84LWRlYWQtc2hvb3Rpbmctam9saWV0LWlsbGlub2lzLXJjbmExMzUxNzbSAStodHRwczovL3d3dy5uYmNuZXdzLmNvbS9uZXdzL2FtcC9yY25hMTM1MTc2?oc=5\" target=\"_blank\"&gt;Suspect in killings of 8 near Chicago fatally shoots himself in Texas, police say&lt;/a&gt;&amp;nbsp;&amp;nbsp;&lt;font color=\"#6f6f6f\"&gt;NBC News&lt;/font&gt;&lt;/li&gt;&lt;li&gt;&lt;a href=\"https://news.google.com/rss/articles/CCAiC2tpSEY2UWpqbTM4mAEB?oc=5\" target=\"_blank\"&gt;Shooting rampage suspect dead&lt;/a&gt;&amp;nbsp;&amp;nbsp;&lt;font color=\"#6f6f6f\"&gt;KTLA 5&lt;/font&gt;&lt;/li&gt;&lt;li&gt;&lt;a href=\"https://news.google.com/rss/articles/CBMiWmh0dHBzOi8vd3d3LmNubi5jb20vMjAyNC8wMS8yMi91cy9qb2xpZXQtY2hpY2Fnby1ob3VzZS1raWxsaW5ncy1zdXNwZWN0LW1hbmh1bnQvaW5kZXguaHRtbNIBXmh0dHBzOi8vYW1wLmNubi5jb20vY25uLzIwMjQvMDEvMjIvdXMvam9saWV0LWNoaWNhZ28taG91c2Uta2lsbGluZ3Mtc3VzcGVjdC1tYW5odW50L2luZGV4Lmh0bWw?oc=5\" target=\"_blank\"&gt;Suspect in killings of 7 people in 2 Chicago-area homes has died in Texas, police say&lt;/a&gt;&amp;nbsp;&amp;nbsp;&lt;font color=\"#6f6f6f\"&gt;CNN&lt;/font&gt;&lt;/li&gt;&lt;li&gt;&lt;a href=\"https://news.google.com/rss/articles/CBMihQFodHRwczovL3d3dy5uYmNjaGljYWdvLmNvbS9uZXdzL2xvY2FsL3dhdGNoLWxpdmUtam9saWV0LXBvbGljZS10by1wcm92aWRlLTYtcC1tLXVwZGF0ZS1hZnRlci1tdWx0aXBsZS1wZW9wbGUtc2hvdC1hbmQta2lsbGVkLzMzMzQ1Njgv0gGLAWh0dHBzOi8vd3d3Lm5iY2NoaWNhZ28uY29tL25ld3MvbG9jYWwvd2F0Y2gtbGl2ZS1qb2xpZXQtcG9saWNlLXRvLXByb3ZpZGUtNi1wLW0tdXBkYXRlLWFmdGVyLW11bHRpcGxlLXBlb3BsZS1zaG90LWFuZC1raWxsZWQvMzMzNDU2OC8_YW1wPTE?oc=5\" target=\"_blank\"&gt;Joliet police provide update after 7 people shot and killed&lt;/a&gt;&amp;nbsp;&amp;nbsp;&lt;font color=\"#6f6f6f\"&gt;NBC Chicago&lt;/font&gt;&lt;/li&gt;&lt;li&gt;&lt;a href=\"https://news.google.com/rss/articles/CBMiZ2h0dHBzOi8vYWJjbmV3cy5nby5jb20vVVMvcG9saWNlLWpvbGlldC1zZWFyY2hpbmctbWFuLWFmdGVyLW11bHRpcGxlLWRlY2Vhc2VkLXBlb3BsZS9zdG9yeT9pZD0xMDY1NzkxODXSAQA?oc=5\" target=\"_blank\"&gt;Suspect in Joliet, Illinois, homicides found dead&lt;/a&gt;&amp;nbsp;&amp;nbsp;&lt;font color=\"#6f6f6f\"&gt;ABC News&lt;/font&gt;&lt;/li&gt;&lt;/ol&gt;</description><source url=\"https://www.nbcnews.com\">NBC News</source></item><item><title>San Diego sees widespread flooding during wettest January day on record - NBC News</title><link>https://news.google.com/rss/articles/CBMibWh0dHBzOi8vd3d3Lm5iY25ld3MuY29tL25ld3MvdXMtbmV3cy9zYW4tZGllZ28tc2Vlcy13aWRlc3ByZWFkLWZsb29kaW5nLXdldHRlc3QtamFudWFyeS1kYXktcmVjb3JkLXJjbmExMzUxOTXSAStodHRwczovL3d3dy5uYmNuZXdzLmNvbS9uZXdzL2FtcC9yY25hMTM1MTk1?oc=5</link><guid isPermaLink=\"false\">CBMibWh0dHBzOi8vd3d3Lm5iY25ld3MuY29tL25ld3MvdXMtbmV3cy9zYW4tZGllZ28tc2Vlcy13aWRlc3ByZWFkLWZsb29kaW5nLXdldHRlc3QtamFudWFyeS1kYXktcmVjb3JkLXJjbmExMzUxOTXSAStodHRwczovL3d3dy5uYmNuZXdzLmNvbS9uZXdzL2FtcC9yY25hMTM1MTk1</guid><pubDate>Tue, 23 Jan 2024 10:34:00 GMT</pubDate><description>&lt;ol&gt;&lt;li&gt;&lt;a href=\"https://news.google.com/rss/articles/CBMibWh0dHBzOi8vd3d3Lm5iY25ld3MuY29tL25ld3MvdXMtbmV3cy9zYW4tZGllZ28tc2Vlcy13aWRlc3ByZWFkLWZsb29kaW5nLXdldHRlc3QtamFudWFyeS1kYXktcmVjb3JkLXJjbmExMzUxOTXSAStodHRwczovL3d3dy5uYmNuZXdzLmNvbS9uZXdzL2FtcC9yY25hMTM1MTk1?oc=5\" target=\"_blank\"&gt;San Diego sees widespread flooding during wettest January day on record&lt;/a&gt;&amp;nbsp;&amp;nbsp;&lt;font color=\"#6f6f6f\"&gt;NBC News&lt;/font&gt;&lt;/li&gt;&lt;li&gt;&lt;a href=\"https://news.google.com/rss/articles/CBMiaGh0dHBzOi8vd2VhdGhlci5jb20vbmV3cy93ZWF0aGVyL25ld3MvMjAyNC0wMS0yMi1jYWxpZm9ybmlhLXJhaW4tZmxvb2RpbmctbGFuZHNsaWRlcy1ldmFjdWF0aW9ucy1yZXNjdWVz0gEA?oc=5\" target=\"_blank\"&gt;California Rain Brings Floods, Rescues, Landslides | Weather.com&lt;/a&gt;&amp;nbsp;&amp;nbsp;&lt;font color=\"#6f6f6f\"&gt;The Weather Channel&lt;/font&gt;&lt;/li&gt;&lt;li&gt;&lt;a href=\"https://news.google.com/rss/articles/CCAiC3JpcE5FLTlTYm9BmAEB?oc=5\" target=\"_blank\"&gt;San Diego Storm Update 4PM | Mountain View damage, NB I-15 shutdown, latest weather alerts&lt;/a&gt;&amp;nbsp;&amp;nbsp;&lt;font color=\"#6f6f6f\"&gt;CBS 8 San Diego&lt;/font&gt;&lt;/li&gt;&lt;li&gt;&lt;a href=\"https://news.google.com/rss/articles/CBMiZ2h0dHBzOi8vd3d3LjEwbmV3cy5jb20vd2VhdGhlci9zYW4tZGllZ29zLXdlYXRoZXItZm9yZWNhc3QtZm9yLWphbnVhcnktMjItMjAyNC13ZXR0ZXN0LWphbnVhcnktZGF5LWV2ZXLSAQA?oc=5\" target=\"_blank\"&gt;Megan's Forecast: Wettest January Day Ever!&lt;/a&gt;&amp;nbsp;&amp;nbsp;&lt;font color=\"#6f6f6f\"&gt;ABC 10 News San Diego KGTV&lt;/font&gt;&lt;/li&gt;&lt;li&gt;&lt;a href=\"https://news.google.com/rss/articles/CBMiQGh0dHBzOi8vd3d3Lm55dGltZXMuY29tLzIwMjQvMDEvMjIvdXMvc2FuLWRpZWdvLXN0b3JtLWZsb29kLmh0bWzSAQA?oc=5\" target=\"_blank\"&gt;In San Diego, Furious Deluge Floods Homes and Freeways&lt;/a&gt;&amp;nbsp;&amp;nbsp;&lt;font color=\"#6f6f6f\"&gt;The New York Times&lt;/font&gt;&lt;/li&gt;&lt;/ol&gt;</description><source url=\"https://www.nbcnews.com\">NBC News</source></item><item><title>Georgia senator wants investigation of Fulton DA Fani Willis -  The Atlanta Journal Constitution</title><link>https://news.google.com/rss/articles/CBMigQFodHRwczovL3d3dy5hamMuY29tL3BvbGl0aWNzL2dlb3JnaWEtc2VuYXRvci1zZWVrcy1uZXctY29tbWl0dGVlLXRvLWludmVzdGlnYXRlLWZ1bHRvbi1kYS1mYW5pLXdpbGxpcy9aQUtaUFZWRlRaQUgzTU9YUzZONExLSUpIUS_SAQA?oc=5</link><guid isPermaLink=\"false\">CBMigQFodHRwczovL3d3dy5hamMuY29tL3BvbGl0aWNzL2dlb3JnaWEtc2VuYXRvci1zZWVrcy1uZXctY29tbWl0dGVlLXRvLWludmVzdGlnYXRlLWZ1bHRvbi1kYS1mYW5pLXdpbGxpcy9aQUtaUFZWRlRaQUgzTU9YUzZONExLSUpIUS_SAQA</guid><pubDate>Tue, 23 Jan 2024 07:18:36 GMT</pubDate><description>&lt;ol&gt;&lt;li&gt;&lt;a href=\"https://news.google.com/rss/articles/CBMigQFodHRwczovL3d3dy5hamMuY29tL3BvbGl0aWNzL2dlb3JnaWEtc2VuYXRvci1zZWVrcy1uZXctY29tbWl0dGVlLXRvLWludmVzdGlnYXRlLWZ1bHRvbi1kYS1mYW5pLXdpbGxpcy9aQUtaUFZWRlRaQUgzTU9YUzZONExLSUpIUS_SAQA?oc=5\" target=\"_blank\"&gt;Georgia senator wants investigation of Fulton DA Fani Willis&lt;/a&gt;&amp;nbsp;&amp;nbsp;&lt;font color=\"#6f6f6f\"&gt; The Atlanta Journal Constitution&lt;/font&gt;&lt;/li&gt;&lt;li&gt;&lt;a href=\"https://news.google.com/rss/articles/CBMiiAFodHRwczovL3d3dy5mb3huZXdzLmNvbS9wb2xpdGljcy9qdWRnZS10cnVtcC1wcm9zZWN1dG9ycy1kaXZvcmNlLWNhc2UtY3V0cy1vZmYtZGEtZmFuaS13aWxsaXMtbGF3eWVyLWR1cmluZy1oZWFyaW5nLWxldC1tZS1pbnRlcnJ1cHQteW910gGMAWh0dHBzOi8vd3d3LmZveG5ld3MuY29tL3BvbGl0aWNzL2p1ZGdlLXRydW1wLXByb3NlY3V0b3JzLWRpdm9yY2UtY2FzZS1jdXRzLW9mZi1kYS1mYW5pLXdpbGxpcy1sYXd5ZXItZHVyaW5nLWhlYXJpbmctbGV0LW1lLWludGVycnVwdC15b3UuYW1w?oc=5\" target=\"_blank\"&gt;Judge in Trump prosecutor’s divorce case cuts off DA Fani Willis lawyer during hearing: ‘Let me interrupt you’&lt;/a&gt;&amp;nbsp;&amp;nbsp;&lt;font color=\"#6f6f6f\"&gt;Fox News&lt;/font&gt;&lt;/li&gt;&lt;li&gt;&lt;a href=\"https://news.google.com/rss/articles/CBMiSWh0dHBzOi8vbmV3cy55YWhvby5jb20vanVkZ2Utb3JkZXJzLXVuc2VhbGluZy1kaXZvcmNlLWNhc2UtMTc0OTIxOTAzLmh0bWzSAQA?oc=5\" target=\"_blank\"&gt;Judge orders the unsealing of divorce case of Trump special prosecutor in Georgia accused of affair&lt;/a&gt;&amp;nbsp;&amp;nbsp;&lt;font color=\"#6f6f6f\"&gt;Yahoo News&lt;/font&gt;&lt;/li&gt;&lt;li&gt;&lt;a href=\"https://news.google.com/rss/articles/CBMieGh0dHBzOi8vd3d3LmZveDVhdGxhbnRhLmNvbS9uZXdzL2xlZ2lzbGF0aW9uLXByb3Bvc2VkLXRvLWNyZWF0ZS1zcGVjaWFsLXNlbmF0ZS1jb21taXR0ZWUtdG8taW52ZXN0aWdhdGUtZnVsdG9uLWNvdW50eS1kYdIBfGh0dHBzOi8vd3d3LmZveDVhdGxhbnRhLmNvbS9uZXdzL2xlZ2lzbGF0aW9uLXByb3Bvc2VkLXRvLWNyZWF0ZS1zcGVjaWFsLXNlbmF0ZS1jb21taXR0ZWUtdG8taW52ZXN0aWdhdGUtZnVsdG9uLWNvdW50eS1kYS5hbXA?oc=5\" target=\"_blank\"&gt;Legislation proposed to create special senate committee to investigate Fulton County DA&lt;/a&gt;&amp;nbsp;&amp;nbsp;&lt;font color=\"#6f6f6f\"&gt;FOX 5 Atlanta&lt;/font&gt;&lt;/li&gt;&lt;li&gt;&lt;a href=\"https://news.google.com/rss/articles/CBMiK2h0dHBzOi8vd3d3LmZveG5ld3MuY29tL3ZpZGVvLzYzNDUzNjY2MDYxMTLSAQA?oc=5\" target=\"_blank\"&gt;Fani Willis is ‘magnifying’ the damage: Jonathan Turley&lt;/a&gt;&amp;nbsp;&amp;nbsp;&lt;font color=\"#6f6f6f\"&gt;Fox News&lt;/font&gt;&lt;/li&gt;&lt;/ol&gt;</description><source url=\"https://www.ajc.com\"> The Atlanta Journal Constitution</source></item><item><title>Bones #20: Last unknown human remains of Green River Killer victim identified - KING5.com</title><link>https://news.google.com/rss/articles/CBMikAFodHRwczovL3d3dy5raW5nNS5jb20vYXJ0aWNsZS9uZXdzL2NyaW1lL2xhc3QtdW5rbm93bi12aWN0aW0tZ3JlZW4tcml2ZXIta2lsbGVyLWdhcnktcmlkZ3dheS1pZGVudGlmaWVkLzI4MS1lNjE1MTM4NC03ZjUxLTRjZWMtYjRiYy04ZjUxMWIwMDNmMWHSAZQBaHR0cHM6Ly93d3cua2luZzUuY29tL2FtcC9hcnRpY2xlL25ld3MvY3JpbWUvbGFzdC11bmtub3duLXZpY3RpbS1ncmVlbi1yaXZlci1raWxsZXItZ2FyeS1yaWRnd2F5LWlkZW50aWZpZWQvMjgxLWU2MTUxMzg0LTdmNTEtNGNlYy1iNGJjLThmNTExYjAwM2YxYQ?oc=5</link><guid isPermaLink=\"false\">CBMikAFodHRwczovL3d3dy5raW5nNS5jb20vYXJ0aWNsZS9uZXdzL2NyaW1lL2xhc3QtdW5rbm93bi12aWN0aW0tZ3JlZW4tcml2ZXIta2lsbGVyLWdhcnktcmlkZ3dheS1pZGVudGlmaWVkLzI4MS1lNjE1MTM4NC03ZjUxLTRjZWMtYjRiYy04ZjUxMWIwMDNmMWHSAZQBaHR0cHM6Ly93d3cua2luZzUuY29tL2FtcC9hcnRpY2xlL25ld3MvY3JpbWUvbGFzdC11bmtub3duLXZpY3RpbS1ncmVlbi1yaXZlci1raWxsZXItZ2FyeS1yaWRnd2F5LWlkZW50aWZpZWQvMjgxLWU2MTUxMzg0LTdmNTEtNGNlYy1iNGJjLThmNTExYjAwM2YxYQ</guid><pubDate>Mon, 22 Jan 2024 19:43:00 GMT</pubDate><description>&lt;ol&gt;&lt;li&gt;&lt;a href=\"https://news.google.com/rss/articles/CBMikAFodHRwczovL3d3dy5raW5nNS5jb20vYXJ0aWNsZS9uZXdzL2NyaW1lL2xhc3QtdW5rbm93bi12aWN0aW0tZ3JlZW4tcml2ZXIta2lsbGVyLWdhcnktcmlkZ3dheS1pZGVudGlmaWVkLzI4MS1lNjE1MTM4NC03ZjUxLTRjZWMtYjRiYy04ZjUxMWIwMDNmMWHSAZQBaHR0cHM6Ly93d3cua2luZzUuY29tL2FtcC9hcnRpY2xlL25ld3MvY3JpbWUvbGFzdC11bmtub3duLXZpY3RpbS1ncmVlbi1yaXZlci1raWxsZXItZ2FyeS1yaWRnd2F5LWlkZW50aWZpZWQvMjgxLWU2MTUxMzg0LTdmNTEtNGNlYy1iNGJjLThmNTExYjAwM2YxYQ?oc=5\" target=\"_blank\"&gt;Bones #20: Last unknown human remains of Green River Killer victim identified&lt;/a&gt;&amp;nbsp;&amp;nbsp;&lt;font color=\"#6f6f6f\"&gt;KING5.com&lt;/font&gt;&lt;/li&gt;&lt;li&gt;&lt;a href=\"https://news.google.com/rss/articles/CCAiC2duUU54YkJpMHVBmAEB?oc=5\" target=\"_blank\"&gt;Remains of last known victim of Green River killer identified&lt;/a&gt;&amp;nbsp;&amp;nbsp;&lt;font color=\"#6f6f6f\"&gt;NBC News&lt;/font&gt;&lt;/li&gt;&lt;li&gt;&lt;a href=\"https://news.google.com/rss/articles/CBMibWh0dHBzOi8vd3d3LmZveG5ld3MuY29tL3VzL2RuYS1ldmlkZW5jZS1pZGVudGlmaWVzLWxhc3Qta25vd24tdmljdGltLWdyZWVuLXJpdmVyLWtpbGxlci1hbG1vc3QtNDAteWVhcnMtbGF0ZXLSAXFodHRwczovL3d3dy5mb3huZXdzLmNvbS91cy9kbmEtZXZpZGVuY2UtaWRlbnRpZmllcy1sYXN0LWtub3duLXZpY3RpbS1ncmVlbi1yaXZlci1raWxsZXItYWxtb3N0LTQwLXllYXJzLWxhdGVyLmFtcA?oc=5\" target=\"_blank\"&gt;DNA evidence identifies last known victim of Green River Killer almost 40 years later&lt;/a&gt;&amp;nbsp;&amp;nbsp;&lt;font color=\"#6f6f6f\"&gt;Fox News&lt;/font&gt;&lt;/li&gt;&lt;li&gt;&lt;a href=\"https://news.google.com/rss/articles/CBMiiAFodHRwczovL3d3dy5zZWF0dGxldGltZXMuY29tL3NlYXR0bGUtbmV3cy9sYXctanVzdGljZS9sYXN0LWtub3duLXNldC1vZi1yZW1haW5zLWxpbmtlZC10by1ncmVlbi1yaXZlci1raWxsZXItaWRlbnRpZmllZC1hcy1ldmVyZXR0LXRlZW4v0gEA?oc=5\" target=\"_blank\"&gt;Last known set of remains linked to Green River killer identified as Everett teen&lt;/a&gt;&amp;nbsp;&amp;nbsp;&lt;font color=\"#6f6f6f\"&gt;The Seattle Times&lt;/font&gt;&lt;/li&gt;&lt;li&gt;&lt;a href=\"https://news.google.com/rss/articles/CCAiC0ZTWEszT0pORjYwmAEB?oc=5\" target=\"_blank\"&gt;Last unknown human remains of Green River Killer victim identified&lt;/a&gt;&amp;nbsp;&amp;nbsp;&lt;font color=\"#6f6f6f\"&gt;KING 5 Seattle&lt;/font&gt;&lt;/li&gt;&lt;/ol&gt;</description><source url=\"https://www.king5.com\">KING5.com</source></item><item><title>Floridians wait to see which version of Ron DeSantis returns from the presidential campaign trail - The Associated Press</title><link>https://news.google.com/rss/articles/CBMiWmh0dHBzOi8vYXBuZXdzLmNvbS9hcnRpY2xlL2Rlc2FudGlzLWZsb3JpZGEtZWxlY3Rpb24tMjAyNC0zNDU4ZGE5Mzk3Zjk1MzU5NDliYTlhN2JjMzQzZDRmMNIBAA?oc=5</link><guid isPermaLink=\"false\">CBMiWmh0dHBzOi8vYXBuZXdzLmNvbS9hcnRpY2xlL2Rlc2FudGlzLWZsb3JpZGEtZWxlY3Rpb24tMjAyNC0zNDU4ZGE5Mzk3Zjk1MzU5NDliYTlhN2JjMzQzZDRmMNIBAA</guid><pubDate>Tue, 23 Jan 2024 01:21:00 GMT</pubDate><description>&lt;ol&gt;&lt;li&gt;&lt;a href=\"https://news.google.com/rss/articles/CBMiWmh0dHBzOi8vYXBuZXdzLmNvbS9hcnRpY2xlL2Rlc2FudGlzLWZsb3JpZGEtZWxlY3Rpb24tMjAyNC0zNDU4ZGE5Mzk3Zjk1MzU5NDliYTlhN2JjMzQzZDRmMNIBAA?oc=5\" target=\"_blank\"&gt;Floridians wait to see which version of Ron DeSantis returns from the presidential campaign trail&lt;/a&gt;&amp;nbsp;&amp;nbsp;&lt;font color=\"#6f6f6f\"&gt;The Associated Press&lt;/font&gt;&lt;/li&gt;&lt;li&gt;&lt;a href=\"https://news.google.com/rss/articles/CBMibGh0dHBzOi8vdGhlaGlsbC5jb20vb3Bpbmlvbi9jYW1wYWlnbi80NDIxNDE3LXdpdGgtdHJ1bXBzLWhlbHAtdGhlLXJlc3VycmVjdGlvbi1vZi1yb24tZGVzYW50aXMtYmVnaW5zLXRvZGF5L9IBcGh0dHBzOi8vdGhlaGlsbC5jb20vb3Bpbmlvbi9jYW1wYWlnbi80NDIxNDE3LXdpdGgtdHJ1bXBzLWhlbHAtdGhlLXJlc3VycmVjdGlvbi1vZi1yb24tZGVzYW50aXMtYmVnaW5zLXRvZGF5L2FtcC8?oc=5\" target=\"_blank\"&gt;With Trump’s help, the resurrection of Ron DeSantis begins today&lt;/a&gt;&amp;nbsp;&amp;nbsp;&lt;font color=\"#6f6f6f\"&gt;The Hill&lt;/font&gt;&lt;/li&gt;&lt;li&gt;&lt;a href=\"https://news.google.com/rss/articles/CBMiRGh0dHBzOi8vd3d3Lm1pYW1paGVyYWxkLmNvbS9vcGluaW9uL2VkaXRvcmlhbHMvYXJ0aWNsZTI4NDUzMTE5MC5odG1s0gFEaHR0cHM6Ly9hbXAubWlhbWloZXJhbGQuY29tL29waW5pb24vZWRpdG9yaWFscy9hcnRpY2xlMjg0NTMxMTkwLmh0bWw?oc=5\" target=\"_blank\"&gt;Back to reality in Florida, DeSantis better drop the culture wars and get to work | Opinion&lt;/a&gt;&amp;nbsp;&amp;nbsp;&lt;font color=\"#6f6f6f\"&gt;Miami Herald&lt;/font&gt;&lt;/li&gt;&lt;li&gt;&lt;a href=\"https://news.google.com/rss/articles/CBMiamh0dHBzOi8vd3d3LnRhbXBhYmF5LmNvbS9vcGluaW9uLzIwMjQvMDEvMjMvZGVzYW50aXMtZmxvcmlkYS1pbnN1cmFuY2UtY3Jpc2lzLXByZXNpZGVudGlhbC1jYW1wYWlnbi10cnVtcC_SAQA?oc=5\" target=\"_blank\"&gt;Tip sheet for Ron DeSantis upon returning to Florida&lt;/a&gt;&amp;nbsp;&amp;nbsp;&lt;font color=\"#6f6f6f\"&gt;Tampa Bay Times&lt;/font&gt;&lt;/li&gt;&lt;li&gt;&lt;a href=\"https://news.google.com/rss/articles/CBMiUWh0dHBzOi8vd3d3LmNubi5jb20vMjAyNC8wMS8yMi9vcGluaW9ucy9kZXNhbnRpcy0yMDI0LXRydW1wLWhhbGV5LW1hcmsvaW5kZXguaHRtbNIBVWh0dHBzOi8vYW1wLmNubi5jb20vY25uLzIwMjQvMDEvMjIvb3BpbmlvbnMvZGVzYW50aXMtMjAyNC10cnVtcC1oYWxleS1tYXJrL2luZGV4Lmh0bWw?oc=5\" target=\"_blank\"&gt;Opinion: The real problem the DeSantis withdrawal poses for Haley&lt;/a&gt;&amp;nbsp;&amp;nbsp;&lt;font color=\"#6f6f6f\"&gt;CNN&lt;/font&gt;&lt;/li&gt;&lt;/ol&gt;</description><source url=\"https://apnews.com\">The Associated Press</source></item><item><title>US and UK launch fresh strikes on Houthis in Yemen - BBC.com</title><link>https://news.google.com/rss/articles/CBMiM2h0dHBzOi8vd3d3LmJiYy5jb20vbmV3cy93b3JsZC1taWRkbGUtZWFzdC02ODA2NDQyMtIBN2h0dHBzOi8vd3d3LmJiYy5jb20vbmV3cy93b3JsZC1taWRkbGUtZWFzdC02ODA2NDQyMi5hbXA?oc=5</link><guid isPermaLink=\"false\">CBMiM2h0dHBzOi8vd3d3LmJiYy5jb20vbmV3cy93b3JsZC1taWRkbGUtZWFzdC02ODA2NDQyMtIBN2h0dHBzOi8vd3d3LmJiYy5jb20vbmV3cy93b3JsZC1taWRkbGUtZWFzdC02ODA2NDQyMi5hbXA</guid><pubDate>Tue, 23 Jan 2024 10:35:00 GMT</pubDate><description>&lt;ol&gt;&lt;li&gt;&lt;a href=\"https://news.google.com/rss/articles/CBMiM2h0dHBzOi8vd3d3LmJiYy5jb20vbmV3cy93b3JsZC1taWRkbGUtZWFzdC02ODA2NDQyMtIBN2h0dHBzOi8vd3d3LmJiYy5jb20vbmV3cy93b3JsZC1taWRkbGUtZWFzdC02ODA2NDQyMi5hbXA?oc=5\" target=\"_blank\"&gt;US and UK launch fresh strikes on Houthis in Yemen&lt;/a&gt;&amp;nbsp;&amp;nbsp;&lt;font color=\"#6f6f6f\"&gt;BBC.com&lt;/font&gt;&lt;/li&gt;&lt;li&gt;&lt;a href=\"https://news.google.com/rss/articles/CBMia2h0dHBzOi8vd3d3LmZveG5ld3MuY29tL3dvcmxkL3VzLWRlZmVuc2Utb2ZmaWNpYWxzLW1vcmUtbGFyZ2Utc2NhbGUtc3RyaWtlcy1jb25kdWN0ZWQtYWdhaW5zdC1ob3V0aGktZm9yY2Vz0gFvaHR0cHM6Ly93d3cuZm94bmV3cy5jb20vd29ybGQvdXMtZGVmZW5zZS1vZmZpY2lhbHMtbW9yZS1sYXJnZS1zY2FsZS1zdHJpa2VzLWNvbmR1Y3RlZC1hZ2FpbnN0LWhvdXRoaS1mb3JjZXMuYW1w?oc=5\" target=\"_blank\"&gt;US Defense officials say more large scale strikes conducted against Houthi forces&lt;/a&gt;&amp;nbsp;&amp;nbsp;&lt;font color=\"#6f6f6f\"&gt;Fox News&lt;/font&gt;&lt;/li&gt;&lt;li&gt;&lt;a href=\"https://news.google.com/rss/articles/CCAiC1ExQzNRdnEycmxFmAEB?oc=5\" target=\"_blank\"&gt;U.S., U.K. conduct new strikes on Houthi militias in Yemen&lt;/a&gt;&amp;nbsp;&amp;nbsp;&lt;font color=\"#6f6f6f\"&gt;CBS Evening News&lt;/font&gt;&lt;/li&gt;&lt;li&gt;&lt;a href=\"https://news.google.com/rss/articles/CBMiQmh0dHBzOi8vZmluYW5jZS55YWhvby5jb20vbmV3cy9vaWwtaG9sZHMtZ2Fpbi11cy11ay0wMDEyMTU3MzMuaHRtbNIBAA?oc=5\" target=\"_blank\"&gt;Oil Holds Gain With Brent Above $80 as US Pounds Houthis Again&lt;/a&gt;&amp;nbsp;&amp;nbsp;&lt;font color=\"#6f6f6f\"&gt;Yahoo Finance&lt;/font&gt;&lt;/li&gt;&lt;li&gt;&lt;a href=\"https://news.google.com/rss/articles/CCAiC1pGakppc1dGVW1RmAEB?oc=5\" target=\"_blank\"&gt;News Wrap: U.S. strikes Houthi rebels after American ships attacked in Gulf of Aden&lt;/a&gt;&amp;nbsp;&amp;nbsp;&lt;font color=\"#6f6f6f\"&gt;PBS NewsHour&lt;/font&gt;&lt;/li&gt;&lt;/ol&gt;</description><source url=\"https://www.bbc.com\">BBC.com</source></item><item><title>China races to find landslide survivors in subzero temperatures - Al Jazeera English</title><link>https://news.google.com/rss/articles/CBMiaWh0dHBzOi8vd3d3LmFsamF6ZWVyYS5jb20vbmV3cy8yMDI0LzEvMjMvY2hpbmEtcmFjZXMtdG8tZmluZC1sYW5kc2xpZGUtc3Vydml2b3JzLWluLXN1Yi16ZXJvLXRlbXBlcmF0dXJlc9IBbWh0dHBzOi8vd3d3LmFsamF6ZWVyYS5jb20vYW1wL25ld3MvMjAyNC8xLzIzL2NoaW5hLXJhY2VzLXRvLWZpbmQtbGFuZHNsaWRlLXN1cnZpdm9ycy1pbi1zdWItemVyby10ZW1wZXJhdHVyZXM?oc=5</link><guid isPermaLink=\"false\">CBMiaWh0dHBzOi8vd3d3LmFsamF6ZWVyYS5jb20vbmV3cy8yMDI0LzEvMjMvY2hpbmEtcmFjZXMtdG8tZmluZC1sYW5kc2xpZGUtc3Vydml2b3JzLWluLXN1Yi16ZXJvLXRlbXBlcmF0dXJlc9IBbWh0dHBzOi8vd3d3LmFsamF6ZWVyYS5jb20vYW1wL25ld3MvMjAyNC8xLzIzL2NoaW5hLXJhY2VzLXRvLWZpbmQtbGFuZHNsaWRlLXN1cnZpdm9ycy1pbi1zdWItemVyby10ZW1wZXJhdHVyZXM</guid><pubDate>Tue, 23 Jan 2024 08:21:44 GMT</pubDate><description>&lt;ol&gt;&lt;li&gt;&lt;a href=\"https://news.google.com/rss/articles/CBMiaWh0dHBzOi8vd3d3LmFsamF6ZWVyYS5jb20vbmV3cy8yMDI0LzEvMjMvY2hpbmEtcmFjZXMtdG8tZmluZC1sYW5kc2xpZGUtc3Vydml2b3JzLWluLXN1Yi16ZXJvLXRlbXBlcmF0dXJlc9IBbWh0dHBzOi8vd3d3LmFsamF6ZWVyYS5jb20vYW1wL25ld3MvMjAyNC8xLzIzL2NoaW5hLXJhY2VzLXRvLWZpbmQtbGFuZHNsaWRlLXN1cnZpdm9ycy1pbi1zdWItemVyby10ZW1wZXJhdHVyZXM?oc=5\" target=\"_blank\"&gt;China races to find landslide survivors in subzero temperatures&lt;/a&gt;&amp;nbsp;&amp;nbsp;&lt;font color=\"#6f6f6f\"&gt;Al Jazeera English&lt;/font&gt;&lt;/li&gt;&lt;li&gt;&lt;a href=\"https://news.google.com/rss/articles/CCAiC3ZFUmxwY0FWWk93mAEB?oc=5\" target=\"_blank\"&gt;Video shows a huge scar on mountainside after a landslide hits a village in China&lt;/a&gt;&amp;nbsp;&amp;nbsp;&lt;font color=\"#6f6f6f\"&gt;NBC News&lt;/font&gt;&lt;/li&gt;&lt;li&gt;&lt;a href=\"https://news.google.com/rss/articles/CBMiQWh0dHBzOi8vd3d3LmZveG5ld3MuY29tL3dvcmxkL2xhbmRzbGlkZS1jaGluYS1idXJpZXMtcGVvcGxlLWhvbWVz0gFFaHR0cHM6Ly93d3cuZm94bmV3cy5jb20vd29ybGQvbGFuZHNsaWRlLWNoaW5hLWJ1cmllcy1wZW9wbGUtaG9tZXMuYW1w?oc=5\" target=\"_blank\"&gt;Landslide in China buries 47 people in more than a dozen homes&lt;/a&gt;&amp;nbsp;&amp;nbsp;&lt;font color=\"#6f6f6f\"&gt;Fox News&lt;/font&gt;&lt;/li&gt;&lt;li&gt;&lt;a href=\"https://news.google.com/rss/articles/CCAiC0ZCWkZwR1BkX2FVmAEB?oc=5\" target=\"_blank\"&gt;China landslide buries 47 people and kills eight in mountainous Yunnan province&lt;/a&gt;&amp;nbsp;&amp;nbsp;&lt;font color=\"#6f6f6f\"&gt;The Telegraph&lt;/font&gt;&lt;/li&gt;&lt;li&gt;&lt;a href=\"https://news.google.com/rss/articles/CBMiUmh0dHBzOi8vYXBuZXdzLmNvbS9hcnRpY2xlL2NoaW5hLWxhbmRzbGlkZS15dW5uYW4tMDVjYTY5YzliM2FhNTY3YWQ1OGY1N2E2OTE4Y2Q3ZDLSAQA?oc=5\" target=\"_blank\"&gt;Chinese state media say 20 people dead and 24 missing after landslide&lt;/a&gt;&amp;nbsp;&amp;nbsp;&lt;font color=\"#6f6f6f\"&gt;The Associated Press&lt;/font&gt;&lt;/li&gt;&lt;/ol&gt;</description><source url=\"https://www.aljazeera.com\">Al Jazeera English</source></item><item><title>China earthquake: 7.1 magnitude quake rattles part of Western China - The Associated Press</title><link>https://news.google.com/rss/articles/CBMiZmh0dHBzOi8vYXBuZXdzLmNvbS9hcnRpY2xlL2NoaW5hLXF1YWtlLXhpbmppYW5nLWt5cmd5enN0YW4ta2F6YWtoc3Rhbi00ODMzODcxNmU2MDQyNzlkMDg4YTgwN2Y5NzcwODc4ZdIBAA?oc=5</link><guid isPermaLink=\"false\">CBMiZmh0dHBzOi8vYXBuZXdzLmNvbS9hcnRpY2xlL2NoaW5hLXF1YWtlLXhpbmppYW5nLWt5cmd5enN0YW4ta2F6YWtoc3Rhbi00ODMzODcxNmU2MDQyNzlkMDg4YTgwN2Y5NzcwODc4ZdIBAA</guid><pubDate>Tue, 23 Jan 2024 10:52:30 GMT</pubDate><description>&lt;ol&gt;&lt;li&gt;&lt;a href=\"https://news.google.com/rss/articles/CBMiZmh0dHBzOi8vYXBuZXdzLmNvbS9hcnRpY2xlL2NoaW5hLXF1YWtlLXhpbmppYW5nLWt5cmd5enN0YW4ta2F6YWtoc3Rhbi00ODMzODcxNmU2MDQyNzlkMDg4YTgwN2Y5NzcwODc4ZdIBAA?oc=5\" target=\"_blank\"&gt;China earthquake: 7.1 magnitude quake rattles part of Western China&lt;/a&gt;&amp;nbsp;&amp;nbsp;&lt;font color=\"#6f6f6f\"&gt;The Associated Press&lt;/font&gt;&lt;/li&gt;&lt;li&gt;&lt;a href=\"https://news.google.com/rss/articles/CCAiC19WV0JlRUFpVHpRmAEB?oc=5\" target=\"_blank\"&gt;China Earthquake: 7.1-magnitude quake jolts China's Xinjiang | WION Originals&lt;/a&gt;&amp;nbsp;&amp;nbsp;&lt;font color=\"#6f6f6f\"&gt;WION&lt;/font&gt;&lt;/li&gt;&lt;li&gt;&lt;a href=\"https://news.google.com/rss/articles/CBMiVGh0dHBzOi8vd2VhdGhlci5jb20vbmV3cy93ZWF0aGVyL25ld3MvMjAyNC0wMS0yMi1lYXJ0aHF1YWtlLXN0cmlrZXMtY2hpbmEta2F6YWtoc3RhbtIBAA?oc=5\" target=\"_blank\"&gt;Magnitude 7.1 Earthquake Strikes Western China | Weather.com&lt;/a&gt;&amp;nbsp;&amp;nbsp;&lt;font color=\"#6f6f6f\"&gt;The Weather Channel&lt;/font&gt;&lt;/li&gt;&lt;li&gt;&lt;a href=\"https://news.google.com/rss/articles/CCAiC2xMODNKOGZHdVc0mAEB?oc=5\" target=\"_blank\"&gt;China: Homes shake and dozens injured as 7.0 magnitude earthquake hits Xinjiang region&lt;/a&gt;&amp;nbsp;&amp;nbsp;&lt;font color=\"#6f6f6f\"&gt;The Telegraph&lt;/font&gt;&lt;/li&gt;&lt;li&gt;&lt;a href=\"https://news.google.com/rss/articles/CBMicmh0dHBzOi8vd3d3LmNubi5jb20vMjAyNC8wMS8yMy9jaGluYS9wb3dlcmZ1bC03LTEtZWFydGhxdWFrZS1zdHJpa2VzLW5lYXItY2hpbmFzLWJvcmRlci13aXRoLWt5cmd5enN0YW4vaW5kZXguaHRtbNIBdmh0dHBzOi8vYW1wLmNubi5jb20vY25uLzIwMjQvMDEvMjMvY2hpbmEvcG93ZXJmdWwtNy0xLWVhcnRocXVha2Utc3RyaWtlcy1uZWFyLWNoaW5hcy1ib3JkZXItd2l0aC1reXJneXpzdGFuL2luZGV4Lmh0bWw?oc=5\" target=\"_blank\"&gt;Powerful 7.1 earthquake strikes near China’s border with Kyrgyzstan&lt;/a&gt;&amp;nbsp;&amp;nbsp;&lt;font color=\"#6f6f6f\"&gt;CNN&lt;/font&gt;&lt;/li&gt;&lt;/ol&gt;</description><source url=\"https://apnews.com\">The Associated Press</source></item><item><title>Navy SEAL lost at sea during maritime ship raid near Somalia identified as North Texan - NBC 5 Dallas-Fort Worth</title><link>https://news.google.com/rss/articles/CBMiggFodHRwczovL3d3dy5uYmNkZncuY29tL25ld3MvbG9jYWwvbmF2eS1zZWFsLWxvc3QtYXQtc2VhLWR1cmluZy1tYXJpdGltZS1zaGlwLXJhaWQtaWRlbnRpZmllZC1hcy1ub3J0aC10ZXhhbi1kZWNsYXJlZC1kZWFkLzM0NDEzODkv0gGIAWh0dHBzOi8vd3d3Lm5iY2Rmdy5jb20vbmV3cy9sb2NhbC9uYXZ5LXNlYWwtbG9zdC1hdC1zZWEtZHVyaW5nLW1hcml0aW1lLXNoaXAtcmFpZC1pZGVudGlmaWVkLWFzLW5vcnRoLXRleGFuLWRlY2xhcmVkLWRlYWQvMzQ0MTM4OS8_YW1wPTE?oc=5</link><guid isPermaLink=\"false\">CBMiggFodHRwczovL3d3dy5uYmNkZncuY29tL25ld3MvbG9jYWwvbmF2eS1zZWFsLWxvc3QtYXQtc2VhLWR1cmluZy1tYXJpdGltZS1zaGlwLXJhaWQtaWRlbnRpZmllZC1hcy1ub3J0aC10ZXhhbi1kZWNsYXJlZC1kZWFkLzM0NDEzODkv0gGIAWh0dHBzOi8vd3d3Lm5iY2Rmdy5jb20vbmV3cy9sb2NhbC9uYXZ5LXNlYWwtbG9zdC1hdC1zZWEtZHVyaW5nLW1hcml0aW1lLXNoaXAtcmFpZC1pZGVudGlmaWVkLWFzLW5vcnRoLXRleGFuLWRlY2xhcmVkLWRlYWQvMzQ0MTM4OS8_YW1wPTE</guid><pubDate>Tue, 23 Jan 2024 02:48:45 GMT</pubDate><description>&lt;ol&gt;&lt;li&gt;&lt;a href=\"https://news.google.com/rss/articles/CBMiggFodHRwczovL3d3dy5uYmNkZncuY29tL25ld3MvbG9jYWwvbmF2eS1zZWFsLWxvc3QtYXQtc2VhLWR1cmluZy1tYXJpdGltZS1zaGlwLXJhaWQtaWRlbnRpZmllZC1hcy1ub3J0aC10ZXhhbi1kZWNsYXJlZC1kZWFkLzM0NDEzODkv0gGIAWh0dHBzOi8vd3d3Lm5iY2Rmdy5jb20vbmV3cy9sb2NhbC9uYXZ5LXNlYWwtbG9zdC1hdC1zZWEtZHVyaW5nLW1hcml0aW1lLXNoaXAtcmFpZC1pZGVudGlmaWVkLWFzLW5vcnRoLXRleGFuLWRlY2xhcmVkLWRlYWQvMzQ0MTM4OS8_YW1wPTE?oc=5\" target=\"_blank\"&gt;Navy SEAL lost at sea during maritime ship raid near Somalia identified as North Texan&lt;/a&gt;&amp;nbsp;&amp;nbsp;&lt;font color=\"#6f6f6f\"&gt;NBC 5 Dallas-Fort Worth&lt;/font&gt;&lt;/li&gt;&lt;li&gt;&lt;a href=\"https://news.google.com/rss/articles/CBMiWmh0dHBzOi8vd3d3LmNubi5jb20vMjAyNC8wMS8yMi9wb2xpdGljcy91cy1pZGVudGlmaWVzLTItbmF2eS1zZWFscy1zb21hbGktY29hc3QvaW5kZXguaHRtbNIBXmh0dHBzOi8vYW1wLmNubi5jb20vY25uLzIwMjQvMDEvMjIvcG9saXRpY3MvdXMtaWRlbnRpZmllcy0yLW5hdnktc2VhbHMtc29tYWxpLWNvYXN0L2luZGV4Lmh0bWw?oc=5\" target=\"_blank\"&gt;US identifies 2 Navy SEALs declared dead after operation off Somali coast&lt;/a&gt;&amp;nbsp;&amp;nbsp;&lt;font color=\"#6f6f6f\"&gt;CNN&lt;/font&gt;&lt;/li&gt;&lt;li&gt;&lt;a href=\"https://news.google.com/rss/articles/CCAiC2VtN3BKMS16Nm1rmAEB?oc=5\" target=\"_blank\"&gt;Search suspended for 2 missing Navy SEALS&lt;/a&gt;&amp;nbsp;&amp;nbsp;&lt;font color=\"#6f6f6f\"&gt;13News Now&lt;/font&gt;&lt;/li&gt;&lt;li&gt;&lt;a href=\"https://news.google.com/rss/articles/CBMiW2h0dHBzOi8vbnlwb3N0LmNvbS8yMDI0LzAxLzIyL25ld3MvcmVkLXNlYS1kZWF0aHMtb2YtbmF2eS1zZWFscy1wcm9mb3VuZC1sb3NzLWZvci11cy1iaWRlbi_SAV9odHRwczovL255cG9zdC5jb20vMjAyNC8wMS8yMi9uZXdzL3JlZC1zZWEtZGVhdGhzLW9mLW5hdnktc2VhbHMtcHJvZm91bmQtbG9zcy1mb3ItdXMtYmlkZW4vYW1wLw?oc=5\" target=\"_blank\"&gt;Deaths of Navy SEALs in Red Sea a 'profound loss for our country': Biden&lt;/a&gt;&amp;nbsp;&amp;nbsp;&lt;font color=\"#6f6f6f\"&gt;New York Post &lt;/font&gt;&lt;/li&gt;&lt;li&gt;&lt;a href=\"https://news.google.com/rss/articles/CCAiC2U5d19rT2hlR1lJmAEB?oc=5\" target=\"_blank\"&gt;Navy SEAL from North Texas killed in Yemen incident, Navy says&lt;/a&gt;&amp;nbsp;&amp;nbsp;&lt;font color=\"#6f6f6f\"&gt;CBS TEXAS&lt;/font&gt;&lt;/li&gt;&lt;/ol&gt;</description><source url=\"https://www.nbcdfw.com\">NBC 5 Dallas-Fort Worth</source></item><item><title>China Weighs Stock Market Rescue Package Backed by $278 Billion - Bloomberg</title><link>https://news.google.com/rss/articles/CBMicGh0dHBzOi8vd3d3LmJsb29tYmVyZy5jb20vbmV3cy9hcnRpY2xlcy8yMDI0LTAxLTIzL2NoaW5hLW11bGxzLXN0b2NrLW1hcmtldC1yZXNjdWUtcGFja2FnZS1iYWNrZWQtYnktMjc4LWJpbGxpb27SAQA?oc=5</link><guid isPermaLink=\"false\">CBMicGh0dHBzOi8vd3d3LmJsb29tYmVyZy5jb20vbmV3cy9hcnRpY2xlcy8yMDI0LTAxLTIzL2NoaW5hLW11bGxzLXN0b2NrLW1hcmtldC1yZXNjdWUtcGFja2FnZS1iYWNrZWQtYnktMjc4LWJpbGxpb27SAQA</guid><pubDate>Tue, 23 Jan 2024 08:03:45 GMT</pubDate><description>&lt;ol&gt;&lt;li&gt;&lt;a href=\"https://news.google.com/rss/articles/CBMicGh0dHBzOi8vd3d3LmJsb29tYmVyZy5jb20vbmV3cy9hcnRpY2xlcy8yMDI0LTAxLTIzL2NoaW5hLW11bGxzLXN0b2NrLW1hcmtldC1yZXNjdWUtcGFja2FnZS1iYWNrZWQtYnktMjc4LWJpbGxpb27SAQA?oc=5\" target=\"_blank\"&gt;China Weighs Stock Market Rescue Package Backed by $278 Billion&lt;/a&gt;&amp;nbsp;&amp;nbsp;&lt;font color=\"#6f6f6f\"&gt;Bloomberg&lt;/font&gt;&lt;/li&gt;&lt;li&gt;&lt;a href=\"https://news.google.com/rss/articles/CCAiC3pyVE1zQ0hqYllrmAEB?oc=5\" target=\"_blank\"&gt;China Weighs Rescue Package for Slumping Stock Market&lt;/a&gt;&amp;nbsp;&amp;nbsp;&lt;font color=\"#6f6f6f\"&gt;Bloomberg Television&lt;/font&gt;&lt;/li&gt;&lt;li&gt;&lt;a href=\"https://news.google.com/rss/articles/CBMiemh0dHBzOi8vd3d3LmNuYmMuY29tLzIwMjQvMDEvMjMvY2hpbmEtcmVwb3J0ZWRseS13ZWlnaHMtbWVhc3VyZXMtdG8tc3VwcG9ydC1zdG9jay1tYXJrZXRzLWNvdWxkLW1vYmlsaXplLTI3OC1iaWxsaW9uLS5odG1s0gF-aHR0cHM6Ly93d3cuY25iYy5jb20vYW1wLzIwMjQvMDEvMjMvY2hpbmEtcmVwb3J0ZWRseS13ZWlnaHMtbWVhc3VyZXMtdG8tc3VwcG9ydC1zdG9jay1tYXJrZXRzLWNvdWxkLW1vYmlsaXplLTI3OC1iaWxsaW9uLS5odG1s?oc=5\" target=\"_blank\"&gt;China is weighing measures to prop up its stock markets, could reportedly mobilize $278 billion&lt;/a&gt;&amp;nbsp;&amp;nbsp;&lt;font color=\"#6f6f6f\"&gt;CNBC&lt;/font&gt;&lt;/li&gt;&lt;li&gt;&lt;a href=\"https://news.google.com/rss/articles/CCAiC21QNjVUaFd5SFk4mAEB?oc=5\" target=\"_blank\"&gt;China weighs stock market rescue package, report says | REUTERS&lt;/a&gt;&amp;nbsp;&amp;nbsp;&lt;font color=\"#6f6f6f\"&gt;Reuters&lt;/font&gt;&lt;/li&gt;&lt;li&gt;&lt;a href=\"https://news.google.com/rss/articles/CBMidWh0dHBzOi8vd3d3Lm1hcmtldHdhdGNoLmNvbS9zdG9yeS9oYW5nLXNlbmctanVtcHMtb2ZmLWxvd3Mtb24tcmVwb3J0LW9mLWJlaWppbmdzLTI3OC1iaWxsaW9uLXN1cHBvcnQtcGFja2FnZS1lNjZmODViNdIBeWh0dHBzOi8vd3d3Lm1hcmtldHdhdGNoLmNvbS9hbXAvc3RvcnkvaGFuZy1zZW5nLWp1bXBzLW9mZi1sb3dzLW9uLXJlcG9ydC1vZi1iZWlqaW5ncy0yNzgtYmlsbGlvbi1zdXBwb3J0LXBhY2thZ2UtZTY2Zjg1YjU?oc=5\" target=\"_blank\"&gt;Hang Seng jumps off lows on report of Beijing’s $278 billion support package&lt;/a&gt;&amp;nbsp;&amp;nbsp;&lt;font color=\"#6f6f6f\"&gt;MarketWatch&lt;/font&gt;&lt;/li&gt;&lt;/ol&gt;</description><source url=\"https://www.bloomberg.com\">Bloomberg</source></item><item><title>United Airlines to lose money over Boeing groundings - BBC.com</title><link>https://news.google.com/rss/articles/CBMiKmh0dHBzOi8vd3d3LmJiYy5jb20vbmV3cy9idXNpbmVzcy02ODA2NDk0ONIBLmh0dHBzOi8vd3d3LmJiYy5jb20vbmV3cy9idXNpbmVzcy02ODA2NDk0OC5hbXA?oc=5</link><guid isPermaLink=\"false\">CBMiKmh0dHBzOi8vd3d3LmJiYy5jb20vbmV3cy9idXNpbmVzcy02ODA2NDk0ONIBLmh0dHBzOi8vd3d3LmJiYy5jb20vbmV3cy9idXNpbmVzcy02ODA2NDk0OC5hbXA</guid><pubDate>Tue, 23 Jan 2024 10:38:54 GMT</pubDate><description>&lt;ol&gt;&lt;li&gt;&lt;a href=\"https://news.google.com/rss/articles/CBMiKmh0dHBzOi8vd3d3LmJiYy5jb20vbmV3cy9idXNpbmVzcy02ODA2NDk0ONIBLmh0dHBzOi8vd3d3LmJiYy5jb20vbmV3cy9idXNpbmVzcy02ODA2NDk0OC5hbXA?oc=5\" target=\"_blank\"&gt;United Airlines to lose money over Boeing groundings&lt;/a&gt;&amp;nbsp;&amp;nbsp;&lt;font color=\"#6f6f6f\"&gt;BBC.com&lt;/font&gt;&lt;/li&gt;&lt;li&gt;&lt;a href=\"https://news.google.com/rss/articles/CCAiCzFjWkUzUzhBNGxVmAEB?oc=5\" target=\"_blank\"&gt;United Airlines sees higher profits despite Boeing MAX hit | REUTERS&lt;/a&gt;&amp;nbsp;&amp;nbsp;&lt;font color=\"#6f6f6f\"&gt;Reuters&lt;/font&gt;&lt;/li&gt;&lt;li&gt;&lt;a href=\"https://news.google.com/rss/articles/CBMiP2h0dHBzOi8vd3d3LmNuYmMuY29tLzIwMjQvMDEvMjIvc3Bpcml0LXNoYXJlcy10dW1ibGUtYWdhaW4uaHRtbNIBQ2h0dHBzOi8vd3d3LmNuYmMuY29tL2FtcC8yMDI0LzAxLzIyL3NwaXJpdC1zaGFyZXMtdHVtYmxlLWFnYWluLmh0bWw?oc=5\" target=\"_blank\"&gt;United Airlines forecasts first-quarter loss due to Boeing 737 Max 9 grounding&lt;/a&gt;&amp;nbsp;&amp;nbsp;&lt;font color=\"#6f6f6f\"&gt;CNBC&lt;/font&gt;&lt;/li&gt;&lt;li&gt;&lt;a href=\"https://news.google.com/rss/articles/CBMicWh0dHBzOi8vd3d3LnNjaGFlZmZlcnNyZXNlYXJjaC5jb20vY29udGVudC9hbmFseXNpcy8yMDI0LzAxLzIyL2JsdWUtY2hpcC1haXJsaW5lLXN0b2NrLXByZXBzLWZvci1xdWFydGVybHktcmVwb3J00gEA?oc=5\" target=\"_blank\"&gt;Blue-Chip Airline Stock Preps for Quarterly Report&lt;/a&gt;&amp;nbsp;&amp;nbsp;&lt;font color=\"#6f6f6f\"&gt;Schaeffers Research&lt;/font&gt;&lt;/li&gt;&lt;li&gt;&lt;a href=\"https://news.google.com/rss/articles/CBMiQ2h0dHBzOi8vc2ltcGxlZmx5aW5nLmNvbS91bml0ZWQtYWlybGluZXMtZmluYW5jaWFsLXJlc3VsdHMtcTQtMjAyNC_SAQA?oc=5\" target=\"_blank\"&gt;Basic Economy Tickets Revenue Increased 20% At United Airlines In Q4 2023&lt;/a&gt;&amp;nbsp;&amp;nbsp;&lt;font color=\"#6f6f6f\"&gt;Simple Flying&lt;/font&gt;&lt;/li&gt;&lt;/ol&gt;</description><source url=\"https://www.bbc.com\">BBC.com</source></item><item><title>Procter &amp; Gamble revenue rises 3%, short of expectations - CNBC</title><link>https://news.google.com/rss/articles/CBMiR2h0dHBzOi8vd3d3LmNuYmMuY29tLzIwMjQvMDEvMjMvcHJvY3Rlci1nYW1ibGUtcGctcTItMjAyNC1lYXJuaW5ncy5odG1s0gFLaHR0cHM6Ly93d3cuY25iYy5jb20vYW1wLzIwMjQvMDEvMjMvcHJvY3Rlci1nYW1ibGUtcGctcTItMjAyNC1lYXJuaW5ncy5odG1s?oc=5</link><guid isPermaLink=\"false\">CBMiR2h0dHBzOi8vd3d3LmNuYmMuY29tLzIwMjQvMDEvMjMvcHJvY3Rlci1nYW1ibGUtcGctcTItMjAyNC1lYXJuaW5ncy5odG1s0gFLaHR0cHM6Ly93d3cuY25iYy5jb20vYW1wLzIwMjQvMDEvMjMvcHJvY3Rlci1nYW1ibGUtcGctcTItMjAyNC1lYXJuaW5ncy5odG1s</guid><pubDate>Tue, 23 Jan 2024 12:01:25 GMT</pubDate><description>&lt;ol&gt;&lt;li&gt;&lt;a href=\"https://news.google.com/rss/articles/CBMiR2h0dHBzOi8vd3d3LmNuYmMuY29tLzIwMjQvMDEvMjMvcHJvY3Rlci1nYW1ibGUtcGctcTItMjAyNC1lYXJuaW5ncy5odG1s0gFLaHR0cHM6Ly93d3cuY25iYy5jb20vYW1wLzIwMjQvMDEvMjMvcHJvY3Rlci1nYW1ibGUtcGctcTItMjAyNC1lYXJuaW5ncy5odG1s?oc=5\" target=\"_blank\"&gt;Procter &amp; Gamble revenue rises 3%, short of expectations&lt;/a&gt;&amp;nbsp;&amp;nbsp;&lt;font color=\"#6f6f6f\"&gt;CNBC&lt;/font&gt;&lt;/li&gt;&lt;li&gt;&lt;a href=\"https://news.google.com/rss/articles/CBMib2h0dHBzOi8vd3d3Lndzai5jb20vYnVzaW5lc3MvcmV0YWlsL3AtZy1lYXJuaW5ncy1zaG93LXNvbWUtY29uc3VtZXJzLWFyZS1nZXR0aW5nLXVzZWQtdG8taGlnaGVyLXByaWNlcy1lMjZkMTYxONIBAA?oc=5\" target=\"_blank\"&gt;P&amp;G Earnings Show Some Consumers Are Getting Used to Higher Prices&lt;/a&gt;&amp;nbsp;&amp;nbsp;&lt;font color=\"#6f6f6f\"&gt;The Wall Street Journal&lt;/font&gt;&lt;/li&gt;&lt;li&gt;&lt;a href=\"https://news.google.com/rss/articles/CBMidWh0dHBzOi8vd3d3Lm1hcmtldHdhdGNoLmNvbS9zdG9yeS9wcm9jdGVyLWdhbWJsZXMtc3RvY2stZ2FpbnMtYWZ0ZXItcHJvZml0LWJlYXQtYXMtc2FsZXMtZmFsbC1zbGlnaHRseS1zaG9ydC1mN2NmODkxNNIBAA?oc=5\" target=\"_blank\"&gt;Procter &amp; Gamble's stock gains after profit beat as sales fall slightly short&lt;/a&gt;&amp;nbsp;&amp;nbsp;&lt;font color=\"#6f6f6f\"&gt;MarketWatch&lt;/font&gt;&lt;/li&gt;&lt;li&gt;&lt;a href=\"https://news.google.com/rss/articles/CBMicWh0dHBzOi8vd3d3LmJsb29tYmVyZy5jb20vbmV3cy9hcnRpY2xlcy8yMDI0LTAxLTIzL3AtZy1zYWxlcy1taXNzLWVzdGltYXRlcy1hcy12b2x1bWUtc2xpcHMtZm9yLWEtc2V2ZW50aC1xdWFydGVy0gEA?oc=5\" target=\"_blank\"&gt;P&amp;G Sales Miss Estimates as Volume Slips for a Seventh Quarter&lt;/a&gt;&amp;nbsp;&amp;nbsp;&lt;font color=\"#6f6f6f\"&gt;Bloomberg&lt;/font&gt;&lt;/li&gt;&lt;li&gt;&lt;a href=\"https://news.google.com/rss/articles/CBMiigFodHRwczovL3d3dy50aGVnbG9iZWFuZG1haWwuY29tL2J1c2luZXNzL2ludGVybmF0aW9uYWwtYnVzaW5lc3MvYXJ0aWNsZS1wcm9jdGVyLWdhbWJsZS1jdXRzLWFubnVhbC1wcm9maXQtZm9yZWNhc3Qtb24tc2xvd2luZy1wcmljZS1oaWtlcy_SAQA?oc=5\" target=\"_blank\"&gt;Procter &amp; Gamble cuts annual profit forecast on slowing price hikes, Gillette business write down&lt;/a&gt;&amp;nbsp;&amp;nbsp;&lt;font color=\"#6f6f6f\"&gt;The Globe and Mail&lt;/font&gt;&lt;/li&gt;&lt;/ol&gt;</description><source url=\"https://www.cnbc.com\">CNBC</source></item><item><title>Johnson &amp; Johnson narrowly tops quarterly estimates as pharmaceutical, medtech sales jump - CNBC</title><link>https://news.google.com/rss/articles/CBMiSWh0dHBzOi8vd3d3LmNuYmMuY29tLzIwMjQvMDEvMjMvam9obnNvbi1qb2huc29uLWpuai1lYXJuaW5ncy1xNC0yMDIzLmh0bWzSAU1odHRwczovL3d3dy5jbmJjLmNvbS9hbXAvMjAyNC8wMS8yMy9qb2huc29uLWpvaG5zb24tam5qLWVhcm5pbmdzLXE0LTIwMjMuaHRtbA?oc=5</link><guid isPermaLink=\"false\">CBMiSWh0dHBzOi8vd3d3LmNuYmMuY29tLzIwMjQvMDEvMjMvam9obnNvbi1qb2huc29uLWpuai1lYXJuaW5ncy1xNC0yMDIzLmh0bWzSAU1odHRwczovL3d3dy5jbmJjLmNvbS9hbXAvMjAyNC8wMS8yMy9qb2huc29uLWpvaG5zb24tam5qLWVhcm5pbmdzLXE0LTIwMjMuaHRtbA</guid><pubDate>Tue, 23 Jan 2024 11:22:37 GMT</pubDate><description>&lt;ol&gt;&lt;li&gt;&lt;a href=\"https://news.google.com/rss/articles/CBMiSWh0dHBzOi8vd3d3LmNuYmMuY29tLzIwMjQvMDEvMjMvam9obnNvbi1qb2huc29uLWpuai1lYXJuaW5ncy1xNC0yMDIzLmh0bWzSAU1odHRwczovL3d3dy5jbmJjLmNvbS9hbXAvMjAyNC8wMS8yMy9qb2huc29uLWpvaG5zb24tam5qLWVhcm5pbmdzLXE0LTIwMjMuaHRtbA?oc=5\" target=\"_blank\"&gt;Johnson &amp; Johnson narrowly tops quarterly estimates as pharmaceutical, medtech sales jump&lt;/a&gt;&amp;nbsp;&amp;nbsp;&lt;font color=\"#6f6f6f\"&gt;CNBC&lt;/font&gt;&lt;/li&gt;&lt;li&gt;&lt;a href=\"https://news.google.com/rss/articles/CBMicmh0dHBzOi8vd3d3LmJsb29tYmVyZy5jb20vbmV3cy9hcnRpY2xlcy8yMDI0LTAxLTIzL2otai1zLWRydWdzLWRldmljZXMtZHJpdmUtcHJvZml0LWFib3ZlLXdhbGwtc3RyZWV0LWV4cGVjdGF0aW9uc9IBAA?oc=5\" target=\"_blank\"&gt;J&amp;J's Drugs, Devices Drive Profit Above Wall Street Expectations&lt;/a&gt;&amp;nbsp;&amp;nbsp;&lt;font color=\"#6f6f6f\"&gt;Bloomberg&lt;/font&gt;&lt;/li&gt;&lt;li&gt;&lt;a href=\"https://news.google.com/rss/articles/CBMiSmh0dHBzOi8vd3d3LmJhcnJvbnMuY29tL2FydGljbGVzL2puai1qb2huc29uLWVhcm5pbmdzLXN0b2NrLXByaWNlLWU5MzY0OGM10gFOaHR0cHM6Ly93d3cuYmFycm9ucy5jb20vYW1wL2FydGljbGVzL2puai1qb2huc29uLWVhcm5pbmdzLXN0b2NrLXByaWNlLWU5MzY0OGM1?oc=5\" target=\"_blank\"&gt;Johnson &amp; Johnson Earnings Match Expectations. The Stock Slips.&lt;/a&gt;&amp;nbsp;&amp;nbsp;&lt;font color=\"#6f6f6f\"&gt;Barron's&lt;/font&gt;&lt;/li&gt;&lt;li&gt;&lt;a href=\"https://news.google.com/rss/articles/CBMidGh0dHBzOi8vd3d3LnRoZXN0cmVldC5jb20vaW52ZXN0aW5nL3N0b2Nrcy9qb2huc29uLWpvaG5zb24taG9sZHMtMjAyNC1wcm9maXQtZm9yZWNhc3Qtc3RlYWR5LWFmdGVyLXNvbGlkLXE0LWVhcm5pbmdz0gEA?oc=5\" target=\"_blank\"&gt;Johnson &amp; Johnson holds 2024 profit forecast steady after solid Q4 earnings&lt;/a&gt;&amp;nbsp;&amp;nbsp;&lt;font color=\"#6f6f6f\"&gt;TheStreet&lt;/font&gt;&lt;/li&gt;&lt;li&gt;&lt;a href=\"https://news.google.com/rss/articles/CBMiSGh0dHBzOi8vZmluYW5jZS55YWhvby5jb20vbmV3cy9qLWotYmVhdHMtcHJvZml0LWVzdGltYXRlcy0xMTIzMjc4NzguaHRtbNIBAA?oc=5\" target=\"_blank\"&gt;J&amp;J profit beats Wall Street estimates amid strong demand for Stelara treatment&lt;/a&gt;&amp;nbsp;&amp;nbsp;&lt;font color=\"#6f6f6f\"&gt;Yahoo Finance&lt;/font&gt;&lt;/li&gt;&lt;/ol&gt;</description><source url=\"https://www.cnbc.com\">CNBC</source></item><item><title>No, the Samsung Galaxy S22 isn't getting Galaxy AI features – here's why - TechRadar</title><link>https://news.google.com/rss/articles/CBMiemh0dHBzOi8vd3d3LnRlY2hyYWRhci5jb20vcGhvbmVzL3NhbXN1bmctZ2FsYXh5LXBob25lcy9uby10aGUtc2Ftc3VuZy1nYWxheHktczIyLWlzbnQtZ2V0dGluZy1nYWxheHktYWktZmVhdHVyZXMtaGVyZXMtd2h50gEA?oc=5</link><guid isPermaLink=\"false\">CBMiemh0dHBzOi8vd3d3LnRlY2hyYWRhci5jb20vcGhvbmVzL3NhbXN1bmctZ2FsYXh5LXBob25lcy9uby10aGUtc2Ftc3VuZy1nYWxheHktczIyLWlzbnQtZ2V0dGluZy1nYWxheHktYWktZmVhdHVyZXMtaGVyZXMtd2h50gEA</guid><pubDate>Tue, 23 Jan 2024 07:22:56 GMT</pubDate><description>&lt;ol&gt;&lt;li&gt;&lt;a href=\"https://news.google.com/rss/articles/CBMiemh0dHBzOi8vd3d3LnRlY2hyYWRhci5jb20vcGhvbmVzL3NhbXN1bmctZ2FsYXh5LXBob25lcy9uby10aGUtc2Ftc3VuZy1nYWxheHktczIyLWlzbnQtZ2V0dGluZy1nYWxheHktYWktZmVhdHVyZXMtaGVyZXMtd2h50gEA?oc=5\" target=\"_blank\"&gt;No, the Samsung Galaxy S22 isn't getting Galaxy AI features – here's why&lt;/a&gt;&amp;nbsp;&amp;nbsp;&lt;font color=\"#6f6f6f\"&gt;TechRadar&lt;/font&gt;&lt;/li&gt;&lt;li&gt;&lt;a href=\"https://news.google.com/rss/articles/CBMiUGh0dHBzOi8vZ2l6bW9kby5jb20vc2Ftc3VuZy1nYWxheHktczI0LXBlcmZvcm1hbmNlLWJlbmNobWFya3MtYW5kcm9pZC0xODUxMTgxOTMx0gEA?oc=5\" target=\"_blank\"&gt;Samsung Galaxy S24 Ultra Early Impressions: The Ultra Is Not an Understatement&lt;/a&gt;&amp;nbsp;&amp;nbsp;&lt;font color=\"#6f6f6f\"&gt;Gizmodo&lt;/font&gt;&lt;/li&gt;&lt;li&gt;&lt;a href=\"https://news.google.com/rss/articles/CBMidWh0dHBzOi8vd3d3LnRvbXNndWlkZS5jb20vbmV3cy9zYW1zdW5nLWdhbGF4eS1zMjRzLWdhbGF4eS1haS1pcy1jb21pbmctdG8tdGhlLXMyMy1idXQtczIyLW93bmVycy1jb3VsZC1iZS1vdXQtb2YtbHVja9IBAA?oc=5\" target=\"_blank\"&gt;Samsung Galaxy S24's Galaxy AI is coming to the S23 — but S22 owners could be out of luck&lt;/a&gt;&amp;nbsp;&amp;nbsp;&lt;font color=\"#6f6f6f\"&gt;Tom's Guide&lt;/font&gt;&lt;/li&gt;&lt;li&gt;&lt;a href=\"https://news.google.com/rss/articles/CCAiCzVETHdpTy00cEpnmAEB?oc=5\" target=\"_blank\"&gt;Samsung Galaxy S24 and Galaxy S24+ First Look #gadgets360 #smartphone&lt;/a&gt;&amp;nbsp;&amp;nbsp;&lt;font color=\"#6f6f6f\"&gt;Gadgets 360&lt;/font&gt;&lt;/li&gt;&lt;li&gt;&lt;a href=\"https://news.google.com/rss/articles/CBMiZWh0dHBzOi8vYmdyLmNvbS90ZWNoL2dhbGF4eS1zMjQtd2F0ZXJtYXJrcy1mYWtlLWFpLXBob3Rvcy1idXQteW91LWNhbi1yZW1vdmUtdGhlbS1zby10aGVyZXMtbm8tcG9pbnQv0gEA?oc=5\" target=\"_blank\"&gt;Galaxy S24 watermarks fake AI photos, but you can remove them so there's no point&lt;/a&gt;&amp;nbsp;&amp;nbsp;&lt;font color=\"#6f6f6f\"&gt;BGR&lt;/font&gt;&lt;/li&gt;&lt;/ol&gt;</description><source url=\"https://www.techradar.com\">TechRadar</source></item><item><title>‘Palworld,’ a divisive Pokémon lookalike, is 2024’s first viral hit game - The Washington Post</title><link>https://news.google.com/rss/articles/CBMiYWh0dHBzOi8vd3d3Lndhc2hpbmd0b25wb3N0LmNvbS9lbnRlcnRhaW5tZW50L3ZpZGVvLWdhbWVzLzIwMjQvMDEvMjIvcGFsd29ybGQtcG9rZW1vbi12aXJhbC1zYWxlcy_SAQA?oc=5</link><guid isPermaLink=\"false\">CBMiYWh0dHBzOi8vd3d3Lndhc2hpbmd0b25wb3N0LmNvbS9lbnRlcnRhaW5tZW50L3ZpZGVvLWdhbWVzLzIwMjQvMDEvMjIvcGFsd29ybGQtcG9rZW1vbi12aXJhbC1zYWxlcy_SAQA</guid><pubDate>Tue, 23 Jan 2024 03:45:00 GMT</pubDate><description>&lt;ol&gt;&lt;li&gt;&lt;a href=\"https://news.google.com/rss/articles/CBMiYWh0dHBzOi8vd3d3Lndhc2hpbmd0b25wb3N0LmNvbS9lbnRlcnRhaW5tZW50L3ZpZGVvLWdhbWVzLzIwMjQvMDEvMjIvcGFsd29ybGQtcG9rZW1vbi12aXJhbC1zYWxlcy_SAQA?oc=5\" target=\"_blank\"&gt;‘Palworld,’ a divisive Pokémon lookalike, is 2024’s first viral hit game&lt;/a&gt;&amp;nbsp;&amp;nbsp;&lt;font color=\"#6f6f6f\"&gt;The Washington Post&lt;/font&gt;&lt;/li&gt;&lt;li&gt;&lt;a href=\"https://news.google.com/rss/articles/CBMia2h0dHBzOi8vd3d3Lmlnbi5jb20vYXJ0aWNsZXMvcGFsd29ybGQtZGV2cy1zYXlzLXRoZXktaGF2ZS1yZWNlaXZlZC1kZWF0aC10aHJlYXRzLWFtaWQtcG9rbW9uLXJpcC1vZmYtY2xhaW1z0gEA?oc=5\" target=\"_blank\"&gt;Palworld Devs Says They Have Received Death Threats Amid Pokémon 'Rip-Off' Claims&lt;/a&gt;&amp;nbsp;&amp;nbsp;&lt;font color=\"#6f6f6f\"&gt;IGN&lt;/font&gt;&lt;/li&gt;&lt;li&gt;&lt;a href=\"https://news.google.com/rss/articles/CBMiOGh0dHBzOi8vd3d3LnRoZWdhbWVyLmNvbS9wYWx3b3JsZC1wbGFnaWFyaXNtLWFpLXBva2Vtb24v0gEA?oc=5\" target=\"_blank\"&gt;Why Is Palworld's Plagiarism Different?&lt;/a&gt;&amp;nbsp;&amp;nbsp;&lt;font color=\"#6f6f6f\"&gt;TheGamer&lt;/font&gt;&lt;/li&gt;&lt;li&gt;&lt;a href=\"https://news.google.com/rss/articles/CBMiS2h0dHBzOi8vd3d3LmRpZ2l0YWx0cmVuZHMuY29tL2dhbWluZy9wYWx3b3JsZC1ub3QtYS1wb2tlbW9uLWtpbGxlci1vcGluaW9uL9IBT2h0dHBzOi8vd3d3LmRpZ2l0YWx0cmVuZHMuY29tL2dhbWluZy9wYWx3b3JsZC1ub3QtYS1wb2tlbW9uLWtpbGxlci1vcGluaW9uLz9hbXA?oc=5\" target=\"_blank\"&gt;No, Palworld isn’t going to be a ‘Pokémon killer’&lt;/a&gt;&amp;nbsp;&amp;nbsp;&lt;font color=\"#6f6f6f\"&gt;Digital Trends&lt;/font&gt;&lt;/li&gt;&lt;li&gt;&lt;a href=\"https://news.google.com/rss/articles/CBMiUmh0dHBzOi8va290YWt1LmNvbS9wYWx3b3JsZC1wb2tlbW9uLWxhd3N1aXQtcG9ja2V0cGFpci1uaW50ZW5kby1wYy14Ym94LTE4NTExODQ5MDfSAQA?oc=5\" target=\"_blank\"&gt;Palworld Devs Aren't Worried About A Nintendo Lawsuit&lt;/a&gt;&amp;nbsp;&amp;nbsp;&lt;font color=\"#6f6f6f\"&gt;Kotaku&lt;/font&gt;&lt;/li&gt;&lt;/ol&gt;</description><source url=\"https://www.washingtonpost.com\">The Washington Post</source></item><item><title>Here's What Apple Vision Pro's Huge Box Looks Like - MacRumors</title><link>https://news.google.com/rss/articles/CBMiUWh0dHBzOi8vd3d3Lm1hY3J1bW9ycy5jb20vMjAyNC8wMS8yMi9oZXJlcy13aGF0LWFwcGxlLXZpc2lvbi1wcm9zLWJveC1sb29rcy1saWtlL9IBAA?oc=5</link><guid isPermaLink=\"false\">CBMiUWh0dHBzOi8vd3d3Lm1hY3J1bW9ycy5jb20vMjAyNC8wMS8yMi9oZXJlcy13aGF0LWFwcGxlLXZpc2lvbi1wcm9zLWJveC1sb29rcy1saWtlL9IBAA</guid><pubDate>Mon, 22 Jan 2024 23:05:05 GMT</pubDate><description>&lt;ol&gt;&lt;li&gt;&lt;a href=\"https://news.google.com/rss/articles/CBMiUWh0dHBzOi8vd3d3Lm1hY3J1bW9ycy5jb20vMjAyNC8wMS8yMi9oZXJlcy13aGF0LWFwcGxlLXZpc2lvbi1wcm9zLWJveC1sb29rcy1saWtlL9IBAA?oc=5\" target=\"_blank\"&gt;Here's What Apple Vision Pro's Huge Box Looks Like&lt;/a&gt;&amp;nbsp;&amp;nbsp;&lt;font color=\"#6f6f6f\"&gt;MacRumors&lt;/font&gt;&lt;/li&gt;&lt;li&gt;&lt;a href=\"https://news.google.com/rss/articles/CBMiVGh0dHBzOi8vYmdyLmNvbS90ZWNoL3Zpc2lvbi1wcm8tbGVhay1zaG93cy10aGUtY3JhenktbmV3LXdheS1hcHBsZS1kZXNpZ25lZC10aGUtYm94L9IBAA?oc=5\" target=\"_blank\"&gt;Vision Pro leak shows the cool new way Apple designed the box&lt;/a&gt;&amp;nbsp;&amp;nbsp;&lt;font color=\"#6f6f6f\"&gt;BGR&lt;/font&gt;&lt;/li&gt;&lt;li&gt;&lt;a href=\"https://news.google.com/rss/articles/CBMiWGh0dHBzOi8vd3d3Lmdpem1vY2hpbmEuY29tLzIwMjQvMDEvMjMvYXBwbGUtdmlzaW9uLXByby1taXhlZC1yZWFsaXR5LWhlYWRzZXQtcmV0YWlsLWJveC_SAQA?oc=5\" target=\"_blank\"&gt;Apple Vision Pro's Massive Retail Box Revealed! What's in the Box?&lt;/a&gt;&amp;nbsp;&amp;nbsp;&lt;font color=\"#6f6f6f\"&gt;gizmochina&lt;/font&gt;&lt;/li&gt;&lt;li&gt;&lt;a href=\"https://news.google.com/rss/articles/CBMiQ2h0dHBzOi8vd3d3LmlwaG9uZWluY2FuYWRhLmNhLzIwMjQvMDEvMjIvZmlyc3QtbG9vay12aXNpb24tcHJvLWJveC_SAQA?oc=5\" target=\"_blank\"&gt;Leak Reveals Apple Vision Pro Retail Box and It's Huge • iPhone in Canada Blog&lt;/a&gt;&amp;nbsp;&amp;nbsp;&lt;font color=\"#6f6f6f\"&gt;iPhone in Canada&lt;/font&gt;&lt;/li&gt;&lt;/ol&gt;</description><source url=\"https://www.macrumors.com\">MacRumors</source></item><item><title>Apple tells artists how much more money they can make with spatial audio - The Verge</title><link>https://news.google.com/rss/articles/CBMiZWh0dHBzOi8vd3d3LnRoZXZlcmdlLmNvbS8yMDI0LzEvMjIvMjQwNDc0NjEvYXBwbGUtbXVzaWMtc3BhdGlhbC1hdWRpby1yb3lhbHRpZXMtZG9sYnktYXRtb3Mtc3RyZWFtaW5n0gEA?oc=5</link><guid isPermaLink=\"false\">CBMiZWh0dHBzOi8vd3d3LnRoZXZlcmdlLmNvbS8yMDI0LzEvMjIvMjQwNDc0NjEvYXBwbGUtbXVzaWMtc3BhdGlhbC1hdWRpby1yb3lhbHRpZXMtZG9sYnktYXRtb3Mtc3RyZWFtaW5n0gEA</guid><pubDate>Tue, 23 Jan 2024 01:43:00 GMT</pubDate><description>&lt;ol&gt;&lt;li&gt;&lt;a href=\"https://news.google.com/rss/articles/CBMiZWh0dHBzOi8vd3d3LnRoZXZlcmdlLmNvbS8yMDI0LzEvMjIvMjQwNDc0NjEvYXBwbGUtbXVzaWMtc3BhdGlhbC1hdWRpby1yb3lhbHRpZXMtZG9sYnktYXRtb3Mtc3RyZWFtaW5n0gEA?oc=5\" target=\"_blank\"&gt;Apple tells artists how much more money they can make with spatial audio&lt;/a&gt;&amp;nbsp;&amp;nbsp;&lt;font color=\"#6f6f6f\"&gt;The Verge&lt;/font&gt;&lt;/li&gt;&lt;li&gt;&lt;a href=\"https://news.google.com/rss/articles/CBMiP2h0dHBzOi8vOXRvNW1hYy5jb20vMjAyNC8wMS8yMi9hcHBsZS1tdXNpYy1zcGF0aWFsLWF1ZGlvLWJvbnVzL9IBAA?oc=5\" target=\"_blank\"&gt;Apple Music will now pay 10% higher royalties to artists for Spatial Audio music&lt;/a&gt;&amp;nbsp;&amp;nbsp;&lt;font color=\"#6f6f6f\"&gt;9to5Mac&lt;/font&gt;&lt;/li&gt;&lt;li&gt;&lt;a href=\"https://news.google.com/rss/articles/CBMigQFodHRwczovL3d3dy5tdXNpY2J1c2luZXNzd29ybGR3aWRlLmNvbS9hcHBsZS1tdXNpYy10by1wYXktYXJ0aXN0cy11cC10by0xMC1oaWdoZXItcm95YWx0aWVzLWZvci1tdXNpYy1hdmFpbGFibGUtaW4tc3BhdGlhbC1hdWRpby_SAQA?oc=5\" target=\"_blank\"&gt;Apple Music to pay artists up to 10% higher royalties for music available in Spatial Audio&lt;/a&gt;&amp;nbsp;&amp;nbsp;&lt;font color=\"#6f6f6f\"&gt;Music Business Worldwide&lt;/font&gt;&lt;/li&gt;&lt;li&gt;&lt;a href=\"https://news.google.com/rss/articles/CBMibWh0dHBzOi8vdGVjaGNydW5jaC5jb20vMjAyNC8wMS8yMi9hcHBsZS13aWxsLXBheS1hcnRpc3RzLW1vcmUtdG8taGF2ZS1hLXNwYXRpYWwtYXVkaW8tdmVyc2lvbi1vbi1hcHBsZS1tdXNpYy_SAXFodHRwczovL3RlY2hjcnVuY2guY29tLzIwMjQvMDEvMjIvYXBwbGUtd2lsbC1wYXktYXJ0aXN0cy1tb3JlLXRvLWhhdmUtYS1zcGF0aWFsLWF1ZGlvLXZlcnNpb24tb24tYXBwbGUtbXVzaWMvYW1wLw?oc=5\" target=\"_blank\"&gt;Apple will pay artists more to have a spatial audio version on Apple Music&lt;/a&gt;&amp;nbsp;&amp;nbsp;&lt;font color=\"#6f6f6f\"&gt;TechCrunch&lt;/font&gt;&lt;/li&gt;&lt;li&gt;&lt;a href=\"https://news.google.com/rss/articles/CBMiZGh0dHBzOi8vd3d3LnJvbGxpbmdzdG9uZS5jb20vbXVzaWMvbXVzaWMtbmV3cy9hcHBsZS1tdXNpYy1oaWdoZXItcm95YWx0aWVzLXNwYXRpYWwtYXVkaW8tMTIzNDk1MTU3NC_SAWhodHRwczovL3d3dy5yb2xsaW5nc3RvbmUuY29tL211c2ljL211c2ljLW5ld3MvYXBwbGUtbXVzaWMtaGlnaGVyLXJveWFsdGllcy1zcGF0aWFsLWF1ZGlvLTEyMzQ5NTE1NzQvYW1wLw?oc=5\" target=\"_blank\"&gt;Apple Music Will Pay Artists More for Higher Quality Audio&lt;/a&gt;&amp;nbsp;&amp;nbsp;&lt;font color=\"#6f6f6f\"&gt;Rolling Stone&lt;/font&gt;&lt;/li&gt;&lt;/ol&gt;</description><source url=\"https://www.theverge.com\">The Verge</source></item><item><title>The Bachelor Joey on First Episode, Living with His Sister &amp; Jimmy Tries to Figure Out Who He Chose - Jimmy Kimmel Live</title><link>https://news.google.com/rss/articles/CCAiC2JscmRjSzl1QkJnmAEB?oc=5</link><guid isPermaLink=\"false\">CCAiC2JscmRjSzl1QkJnmAEB</guid><pubDate>Tue, 23 Jan 2024 07:00:15 GMT</pubDate><description>&lt;ol&gt;&lt;li&gt;&lt;a href=\"https://news.google.com/rss/articles/CCAiC2JscmRjSzl1QkJnmAEB?oc=5\" target=\"_blank\"&gt;The Bachelor Joey on First Episode, Living with His Sister &amp; Jimmy Tries to Figure Out Who He Chose&lt;/a&gt;&amp;nbsp;&amp;nbsp;&lt;font color=\"#6f6f6f\"&gt;Jimmy Kimmel Live&lt;/font&gt;&lt;/li&gt;&lt;li&gt;&lt;a href=\"https://news.google.com/rss/articles/CBMiPmh0dHBzOi8vcGVvcGxlLmNvbS90aGUtYmFjaGVsb3Itc2Vhc29uLTI4LWVsaW1pbmF0aW9ucy04NTQ3MDA30gEA?oc=5\" target=\"_blank\"&gt;Who Went Home on The Bachelor Season 28? Joey Graziadei's Order of Elimination&lt;/a&gt;&amp;nbsp;&amp;nbsp;&lt;font color=\"#6f6f6f\"&gt;PEOPLE&lt;/font&gt;&lt;/li&gt;&lt;li&gt;&lt;a href=\"https://news.google.com/rss/articles/CBMiW2h0dHBzOi8vd3d3LnlhaG9vLmNvbS9lbnRlcnRhaW5tZW50L2JhY2hlbG9yLWpvZXktZ3JhemlhZGVpLWRldGFpbHMtdmlzaXRpbmctMjAzNzMzNzk5Lmh0bWzSAQA?oc=5\" target=\"_blank\"&gt;'The Bachelor' Joey Graziadei Details How Visiting 'Golden Bachelor' Group Date Helped Him Prepare&lt;/a&gt;&amp;nbsp;&amp;nbsp;&lt;font color=\"#6f6f6f\"&gt;Yahoo Entertainment&lt;/font&gt;&lt;/li&gt;&lt;li&gt;&lt;a href=\"https://news.google.com/rss/articles/CBMiZWh0dHBzOi8vd3d3LnVzYXRvZGF5LmNvbS9zdG9yeS9lbnRlcnRhaW5tZW50L3R2LzIwMjQvMDEvMjIvdGhlLWJhY2hlbG9yLWNvbnRlc3RhbnRzLTIwMjQvNzIyNzAwODgwMDcv0gEA?oc=5\" target=\"_blank\"&gt;'The Bachelor' contestants: Meet the cast of women vying for Joey Graziadei's heart&lt;/a&gt;&amp;nbsp;&amp;nbsp;&lt;font color=\"#6f6f6f\"&gt;USA TODAY&lt;/font&gt;&lt;/li&gt;&lt;li&gt;&lt;a href=\"https://news.google.com/rss/articles/CBMiT2h0dHBzOi8vcGVvcGxlLmNvbS90aGUtYmFjaGVsb3ItcmVjYXAtam9leS1ncmF6aWFkZWktc2Vhc29uLTI4LXByZW1pZXJlLTg1NDc1NTPSAQA?oc=5\" target=\"_blank\"&gt;'The Bachelor' Premiere Recap: Woman Sets Joey's Date Card on Fire&lt;/a&gt;&amp;nbsp;&amp;nbsp;&lt;font color=\"#6f6f6f\"&gt;PEOPLE&lt;/font&gt;&lt;/li&gt;&lt;/ol&gt;</description><source url=\"https://www.youtube.com\">Jimmy Kimmel Live</source></item><item><title>Netflix Film Chief Scott Stuber Will Leave to Start New Company - Bloomberg</title><link>https://news.google.com/rss/articles/CBMicmh0dHBzOi8vd3d3LmJsb29tYmVyZy5jb20vbmV3cy9hcnRpY2xlcy8yMDI0LTAxLTIyL25ldGZsaXgtZmlsbS1jaGllZi1zY290dC1zdHViZXItd2lsbC1sZWF2ZS10by1zdGFydC1uZXctY29tcGFuedIBAA?oc=5</link><guid isPermaLink=\"false\">CBMicmh0dHBzOi8vd3d3LmJsb29tYmVyZy5jb20vbmV3cy9hcnRpY2xlcy8yMDI0LTAxLTIyL25ldGZsaXgtZmlsbS1jaGllZi1zY290dC1zdHViZXItd2lsbC1sZWF2ZS10by1zdGFydC1uZXctY29tcGFuedIBAA</guid><pubDate>Tue, 23 Jan 2024 05:44:14 GMT</pubDate><description>&lt;ol&gt;&lt;li&gt;&lt;a href=\"https://news.google.com/rss/articles/CBMicmh0dHBzOi8vd3d3LmJsb29tYmVyZy5jb20vbmV3cy9hcnRpY2xlcy8yMDI0LTAxLTIyL25ldGZsaXgtZmlsbS1jaGllZi1zY290dC1zdHViZXItd2lsbC1sZWF2ZS10by1zdGFydC1uZXctY29tcGFuedIBAA?oc=5\" target=\"_blank\"&gt;Netflix Film Chief Scott Stuber Will Leave to Start New Company&lt;/a&gt;&amp;nbsp;&amp;nbsp;&lt;font color=\"#6f6f6f\"&gt;Bloomberg&lt;/font&gt;&lt;/li&gt;&lt;li&gt;&lt;a href=\"https://news.google.com/rss/articles/CCAiC0paSlV1OUJvWFJVmAEB?oc=5\" target=\"_blank\"&gt;Netflix Film Chief Scott Stuber to Leave, Start New Company&lt;/a&gt;&amp;nbsp;&amp;nbsp;&lt;font color=\"#6f6f6f\"&gt;Bloomberg Television&lt;/font&gt;&lt;/li&gt;&lt;li&gt;&lt;a href=\"https://news.google.com/rss/articles/CBMiRWh0dHBzOi8vZGVhZGxpbmUuY29tLzIwMjQvMDEvc2NvdHQtc3R1YmVyLWxlYXZpbmctbmV0ZmxpeC0xMjM1ODAxMTU4L9IBSWh0dHBzOi8vZGVhZGxpbmUuY29tLzIwMjQvMDEvc2NvdHQtc3R1YmVyLWxlYXZpbmctbmV0ZmxpeC0xMjM1ODAxMTU4L2FtcC8?oc=5\" target=\"_blank\"&gt;Scott Stuber Leaving Netflix Head Of Film Post&lt;/a&gt;&amp;nbsp;&amp;nbsp;&lt;font color=\"#6f6f6f\"&gt;Deadline&lt;/font&gt;&lt;/li&gt;&lt;li&gt;&lt;a href=\"https://news.google.com/rss/articles/CCAiC25FeVFvaDUyOExrmAEB?oc=5\" target=\"_blank\"&gt;Scott Stuber steps back from Netflix Film Chief role | World Business Watch | WION News&lt;/a&gt;&amp;nbsp;&amp;nbsp;&lt;font color=\"#6f6f6f\"&gt;WION&lt;/font&gt;&lt;/li&gt;&lt;li&gt;&lt;a href=\"https://news.google.com/rss/articles/CBMiYmh0dHBzOi8vdmFyaWV0eS5jb20vMjAyNC9maWxtL25ld3MvbmV0ZmxpeC1maWxtLWNoaWVmLXNjb3R0LXN0dWJlci1sZWF2aW5nLW5ldy1jb21wYW55LTEyMzU4ODI0NDYv0gFmaHR0cHM6Ly92YXJpZXR5LmNvbS8yMDI0L2ZpbG0vbmV3cy9uZXRmbGl4LWZpbG0tY2hpZWYtc2NvdHQtc3R1YmVyLWxlYXZpbmctbmV3LWNvbXBhbnktMTIzNTg4MjQ0Ni9hbXAv?oc=5\" target=\"_blank\"&gt;Netflix Film Chief Scott Stuber Leaving to Start New Company&lt;/a&gt;&amp;nbsp;&amp;nbsp;&lt;font color=\"#6f6f6f\"&gt;Variety&lt;/font&gt;&lt;/li&gt;&lt;/ol&gt;</description><source url=\"https://www.bloomberg.com\">Bloomberg</source></item><item><title>Aries Horoscope Today: January 23, 2024 - VOGUE India</title><link>https://news.google.com/rss/articles/CBMiTWh0dHBzOi8vd3d3LnZvZ3VlLmluL2hvcm9zY29wZS9wcm9kdWN0L2FyaWVzLWhvcm9zY29wZS10b2RheS1qYW51YXJ5LTIzLTIwMjQv0gFRaHR0cHM6Ly93d3cudm9ndWUuaW4vaG9yb3Njb3BlL3Byb2R1Y3QvYXJpZXMtaG9yb3Njb3BlLXRvZGF5LWphbnVhcnktMjMtMjAyNC9hbXAv?oc=5</link><guid isPermaLink=\"false\">CBMiTWh0dHBzOi8vd3d3LnZvZ3VlLmluL2hvcm9zY29wZS9wcm9kdWN0L2FyaWVzLWhvcm9zY29wZS10b2RheS1qYW51YXJ5LTIzLTIwMjQv0gFRaHR0cHM6Ly93d3cudm9ndWUuaW4vaG9yb3Njb3BlL3Byb2R1Y3QvYXJpZXMtaG9yb3Njb3BlLXRvZGF5LWphbnVhcnktMjMtMjAyNC9hbXAv</guid><pubDate>Tue, 23 Jan 2024 00:20:35 GMT</pubDate><description>&lt;ol&gt;&lt;li&gt;&lt;a href=\"https://news.google.com/rss/articles/CBMiTWh0dHBzOi8vd3d3LnZvZ3VlLmluL2hvcm9zY29wZS9wcm9kdWN0L2FyaWVzLWhvcm9zY29wZS10b2RheS1qYW51YXJ5LTIzLTIwMjQv0gFRaHR0cHM6Ly93d3cudm9ndWUuaW4vaG9yb3Njb3BlL3Byb2R1Y3QvYXJpZXMtaG9yb3Njb3BlLXRvZGF5LWphbnVhcnktMjMtMjAyNC9hbXAv?oc=5\" target=\"_blank\"&gt;Aries Horoscope Today: January 23, 2024&lt;/a&gt;&amp;nbsp;&amp;nbsp;&lt;font color=\"#6f6f6f\"&gt;VOGUE India&lt;/font&gt;&lt;/li&gt;&lt;li&gt;&lt;a href=\"https://news.google.com/rss/articles/CBMiRmh0dHBzOi8vd3d3LnZpY2UuY29tL2VuL2FydGljbGUvZXB2OGprL2RhaWx5LWhvcm9zY29wZS1qYW51YXJ5LTIzLTIwMjTSAQA?oc=5\" target=\"_blank\"&gt;Daily Horoscope: January 23, 2024&lt;/a&gt;&amp;nbsp;&amp;nbsp;&lt;font color=\"#6f6f6f\"&gt;VICE&lt;/font&gt;&lt;/li&gt;&lt;li&gt;&lt;a href=\"https://news.google.com/rss/articles/CBMijwFodHRwczovL3d3dy5oaW5kdXN0YW50aW1lcy5jb20vYXN0cm9sb2d5L2hvcm9zY29wZS9hcmllcy1kYWlseS1ob3Jvc2NvcGUtdG9kYXktamFuLTIzLTIwMjQtcHJlZGljdHMtYS1zdXJwcmlzZS1sb3ZlLWFmZmFpci0xMDE3MDU5MzA2OTcwMjUuaHRtbNIBkwFodHRwczovL3d3dy5oaW5kdXN0YW50aW1lcy5jb20vYXN0cm9sb2d5L2hvcm9zY29wZS9hcmllcy1kYWlseS1ob3Jvc2NvcGUtdG9kYXktamFuLTIzLTIwMjQtcHJlZGljdHMtYS1zdXJwcmlzZS1sb3ZlLWFmZmFpci0xMDE3MDU5MzA2OTcwMjUtYW1wLmh0bWw?oc=5\" target=\"_blank\"&gt;Aries Daily Horoscope Today, Jan 23, 2024 predicts a surprise love affair&lt;/a&gt;&amp;nbsp;&amp;nbsp;&lt;font color=\"#6f6f6f\"&gt;Hindustan Times&lt;/font&gt;&lt;/li&gt;&lt;li&gt;&lt;a href=\"https://news.google.com/rss/articles/CBMiQ2h0dHBzOi8vd3d3LnlvdXJ0YW5nby5jb20vMjAyNDM3MDU1OC9sb3ZlLWhvcm9zY29wZS1qYW51YXJ5LTIzLTIwMjTSAUdodHRwczovL3d3dy55b3VydGFuZ28uY29tLzIwMjQzNzA1NTgvbG92ZS1ob3Jvc2NvcGUtamFudWFyeS0yMy0yMDI0P2FtcA?oc=5\" target=\"_blank\"&gt;Love Horoscope For January 23, 2024 Opens Hearts&lt;/a&gt;&amp;nbsp;&amp;nbsp;&lt;font color=\"#6f6f6f\"&gt;YourTango&lt;/font&gt;&lt;/li&gt;&lt;li&gt;&lt;a href=\"https://news.google.com/rss/articles/CBMiZWh0dHBzOi8vd3d3LnNmZ2F0ZS5jb20vaG9yb3Njb3BlL2FydGljbGUvaG9yb3Njb3BlLXR1ZXNkYXktMDEtMjMtMjQtY2hyaXN0b3BoZXItcmVuc3Ryb20tMTg2MTM2MjIucGhw0gEA?oc=5\" target=\"_blank\"&gt;Horoscope for Tuesday, 01/23/24 by Christopher Renstrom&lt;/a&gt;&amp;nbsp;&amp;nbsp;&lt;font color=\"#6f6f6f\"&gt;SFGATE&lt;/font&gt;&lt;/li&gt;&lt;/ol&gt;</description><source url=\"https://www.vogue.in\">VOGUE India</source></item><item><title>Oscars nominations 2024: Barbie and Oppenheimer set to dominate - BBC.com</title><link>https://news.google.com/rss/articles/CBMiNGh0dHBzOi8vd3d3LmJiYy5jb20vbmV3cy9lbnRlcnRhaW5tZW50LWFydHMtNjgwMTY4NjDSAThodHRwczovL3d3dy5iYmMuY29tL25ld3MvZW50ZXJ0YWlubWVudC1hcnRzLTY4MDE2ODYwLmFtcA?oc=5</link><guid isPermaLink=\"false\">CBMiNGh0dHBzOi8vd3d3LmJiYy5jb20vbmV3cy9lbnRlcnRhaW5tZW50LWFydHMtNjgwMTY4NjDSAThodHRwczovL3d3dy5iYmMuY29tL25ld3MvZW50ZXJ0YWlubWVudC1hcnRzLTY4MDE2ODYwLmFtcA</guid><pubDate>Tue, 23 Jan 2024 09:18:00 GMT</pubDate><description>&lt;ol&gt;&lt;li&gt;&lt;a href=\"https://news.google.com/rss/articles/CBMiNGh0dHBzOi8vd3d3LmJiYy5jb20vbmV3cy9lbnRlcnRhaW5tZW50LWFydHMtNjgwMTY4NjDSAThodHRwczovL3d3dy5iYmMuY29tL25ld3MvZW50ZXJ0YWlubWVudC1hcnRzLTY4MDE2ODYwLmFtcA?oc=5\" target=\"_blank\"&gt;Oscars nominations 2024: Barbie and Oppenheimer set to dominate&lt;/a&gt;&amp;nbsp;&amp;nbsp;&lt;font color=\"#6f6f6f\"&gt;BBC.com&lt;/font&gt;&lt;/li&gt;&lt;li&gt;&lt;a href=\"https://news.google.com/rss/articles/CCAiC1d5eWF0Q1BBRXlnmAEB?oc=5\" target=\"_blank\"&gt;Picks and predictions for 2024 Oscar nominations&lt;/a&gt;&amp;nbsp;&amp;nbsp;&lt;font color=\"#6f6f6f\"&gt;ABC News&lt;/font&gt;&lt;/li&gt;&lt;li&gt;&lt;a href=\"https://news.google.com/rss/articles/CBMiQ2h0dHBzOi8vd3d3LmF2Y2x1Yi5jb20vb3NjYXJzLTIwMjQtbm9taW5hdGlvbnMtbG9uZ3Nob3RzLTE4NTExODE2MDPSAQA?oc=5\" target=\"_blank\"&gt;Oscar longshots we'd like to see nominated in 2024&lt;/a&gt;&amp;nbsp;&amp;nbsp;&lt;font color=\"#6f6f6f\"&gt;The A.V. Club&lt;/font&gt;&lt;/li&gt;&lt;li&gt;&lt;a href=\"https://news.google.com/rss/articles/CBMitAFodHRwczovL3d3dy50aGV3ZXN0ZXJseXN1bi5jb20vb3Bpbmlvbi9ndWVzdC1jb2x1bW5zL2F0LXRoZS13ZXN0ZXJseS1saWJyYXJ5LWFuZC13aWxjb3gtcGFyay1iZWF0LXRoZS1ydXNoLXRvLXdhdGNoLW9zY2FyLW5vbWluZWVzL2FydGljbGVfMDU4ZTE2MzAtYjhiOS0xMWVlLWFjNWQtMjc0ZTBlM2FmZmI2Lmh0bWzSAQA?oc=5\" target=\"_blank\"&gt;At the Westerly Library and Wilcox Park: Beat the rush to watch Oscar nominees&lt;/a&gt;&amp;nbsp;&amp;nbsp;&lt;font color=\"#6f6f6f\"&gt;The Westerly Sun&lt;/font&gt;&lt;/li&gt;&lt;li&gt;&lt;a href=\"https://news.google.com/rss/articles/CBMiV2h0dHBzOi8vd3d3LndmbXouY29tL25ld3MvYXdhcmRzLXNlYXNvbi9pbWFnZV9iNjA3MTI5Yy03YTQzLTVkOTctYWUwMS1jNWY3OGU1YjAzYjAuaHRtbNIBAA?oc=5\" target=\"_blank\"&gt;Awards Season | News | wfmz.com&lt;/a&gt;&amp;nbsp;&amp;nbsp;&lt;font color=\"#6f6f6f\"&gt;69News WFMZ-TV&lt;/font&gt;&lt;/li&gt;&lt;/ol&gt;</description><source url=\"https://www.bbc.com\">BBC.com</source></item><item><title>Sixers’ Joel Embiid breaks Wilt Chamberlain’s franchise record in masterful performance vs Spurs - Fox News</title><link>https://news.google.com/rss/articles/CBMiemh0dHBzOi8vd3d3LmZveG5ld3MuY29tL3Nwb3J0cy9zaXhlcnMtam9lbC1lbWJpaWQtYnJlYWtzLXdpbHQtY2hhbWJlcmxhaW5zLWZyYW5jaGlzZS1yZWNvcmQtbWFzdGVyZnVsLXBlcmZvcm1hbmNlLXZzLXNwdXJz0gF-aHR0cHM6Ly93d3cuZm94bmV3cy5jb20vc3BvcnRzL3NpeGVycy1qb2VsLWVtYmlpZC1icmVha3Mtd2lsdC1jaGFtYmVybGFpbnMtZnJhbmNoaXNlLXJlY29yZC1tYXN0ZXJmdWwtcGVyZm9ybWFuY2UtdnMtc3B1cnMuYW1w?oc=5</link><guid isPermaLink=\"false\">CBMiemh0dHBzOi8vd3d3LmZveG5ld3MuY29tL3Nwb3J0cy9zaXhlcnMtam9lbC1lbWJpaWQtYnJlYWtzLXdpbHQtY2hhbWJlcmxhaW5zLWZyYW5jaGlzZS1yZWNvcmQtbWFzdGVyZnVsLXBlcmZvcm1hbmNlLXZzLXNwdXJz0gF-aHR0cHM6Ly93d3cuZm94bmV3cy5jb20vc3BvcnRzL3NpeGVycy1qb2VsLWVtYmlpZC1icmVha3Mtd2lsdC1jaGFtYmVybGFpbnMtZnJhbmNoaXNlLXJlY29yZC1tYXN0ZXJmdWwtcGVyZm9ybWFuY2UtdnMtc3B1cnMuYW1w</guid><pubDate>Tue, 23 Jan 2024 04:55:00 GMT</pubDate><description>&lt;ol&gt;&lt;li&gt;&lt;a href=\"https://news.google.com/rss/articles/CBMiemh0dHBzOi8vd3d3LmZveG5ld3MuY29tL3Nwb3J0cy9zaXhlcnMtam9lbC1lbWJpaWQtYnJlYWtzLXdpbHQtY2hhbWJlcmxhaW5zLWZyYW5jaGlzZS1yZWNvcmQtbWFzdGVyZnVsLXBlcmZvcm1hbmNlLXZzLXNwdXJz0gF-aHR0cHM6Ly93d3cuZm94bmV3cy5jb20vc3BvcnRzL3NpeGVycy1qb2VsLWVtYmlpZC1icmVha3Mtd2lsdC1jaGFtYmVybGFpbnMtZnJhbmNoaXNlLXJlY29yZC1tYXN0ZXJmdWwtcGVyZm9ybWFuY2UtdnMtc3B1cnMuYW1w?oc=5\" target=\"_blank\"&gt;Sixers’ Joel Embiid breaks Wilt Chamberlain’s franchise record in masterful performance vs Spurs&lt;/a&gt;&amp;nbsp;&amp;nbsp;&lt;font color=\"#6f6f6f\"&gt;Fox News&lt;/font&gt;&lt;/li&gt;&lt;li&gt;&lt;a href=\"https://news.google.com/rss/articles/CCAiCy1jVHVGbzhDaDFZmAEB?oc=5\" target=\"_blank\"&gt;JOEL EMBIID DROPS A CAREER-HIGH, RECORD-BREAKING 70-PIECE 😱 | NBA on ESPN&lt;/a&gt;&amp;nbsp;&amp;nbsp;&lt;font color=\"#6f6f6f\"&gt;ESPN&lt;/font&gt;&lt;/li&gt;&lt;li&gt;&lt;a href=\"https://news.google.com/rss/articles/CBMicmh0dHBzOi8vY2x1dGNocG9pbnRzLmNvbS90aW1iZXJ3b2x2ZXMtbmV3cy1sZWJyb24tamFtZXMtY291bGRudC1iZWxpZXZlLWthcmwtYW50aG9ueS10b3ducy01OC1wb2ludHMtaW4tMy1xdWFydGVyc9IBAA?oc=5\" target=\"_blank\"&gt;Timberwolves: LeBron James couldn't believe Karl-Anthony Towns' 58 points in 3 quarters&lt;/a&gt;&amp;nbsp;&amp;nbsp;&lt;font color=\"#6f6f6f\"&gt;ClutchPoints&lt;/font&gt;&lt;/li&gt;&lt;li&gt;&lt;a href=\"https://news.google.com/rss/articles/CCAiCzlTanZaUEZpREgwmAEB?oc=5\" target=\"_blank\"&gt;EVERY POINT From Joel Embiid's 70-PT CAREER-HIGH Performance! | January 22, 2024&lt;/a&gt;&amp;nbsp;&amp;nbsp;&lt;font color=\"#6f6f6f\"&gt;NBA&lt;/font&gt;&lt;/li&gt;&lt;li&gt;&lt;a href=\"https://news.google.com/rss/articles/CBMiY2h0dHBzOi8vd3d3LmVzcG4uY29tL25iYS9zdG9yeS9fL2lkLzM5MzY2MTcwL3BoaWxhZGVscGhpYS03NmVycy1zdGFyLWpvZWwtZW1iaWlkLWRyb3BzLTcwLXNwdXJzLXdpbtIBAA?oc=5\" target=\"_blank\"&gt;Joel Embiid drops 70, breaking Wilt Chamberlain's 76ers record&lt;/a&gt;&amp;nbsp;&amp;nbsp;&lt;font color=\"#6f6f6f\"&gt;ESPN&lt;/font&gt;&lt;/li&gt;&lt;/ol&gt;</description><source url=\"https://www.foxnews.com\">Fox News</source></item><item><title>Bills Fans Support Tyler Bass by Donating to Local Animal Charity - Sports Illustrated</title><link>https://news.google.com/rss/articles/CBMiXWh0dHBzOi8vd3d3LnNpLmNvbS9uZmwvMjAyNC8wMS8yMy9iaWxscy1mYW5zLXN1cHBvcnQtdHlsZXItYmFzcy1kb25hdGluZy1sb2NhbC1hbmltYWwtY2hhcml0edIBAA?oc=5</link><guid isPermaLink=\"false\">CBMiXWh0dHBzOi8vd3d3LnNpLmNvbS9uZmwvMjAyNC8wMS8yMy9iaWxscy1mYW5zLXN1cHBvcnQtdHlsZXItYmFzcy1kb25hdGluZy1sb2NhbC1hbmltYWwtY2hhcml0edIBAA</guid><pubDate>Tue, 23 Jan 2024 00:28:28 GMT</pubDate><description>&lt;ol&gt;&lt;li&gt;&lt;a href=\"https://news.google.com/rss/articles/CBMiXWh0dHBzOi8vd3d3LnNpLmNvbS9uZmwvMjAyNC8wMS8yMy9iaWxscy1mYW5zLXN1cHBvcnQtdHlsZXItYmFzcy1kb25hdGluZy1sb2NhbC1hbmltYWwtY2hhcml0edIBAA?oc=5\" target=\"_blank\"&gt;Bills Fans Support Tyler Bass by Donating to Local Animal Charity&lt;/a&gt;&amp;nbsp;&amp;nbsp;&lt;font color=\"#6f6f6f\"&gt;Sports Illustrated&lt;/font&gt;&lt;/li&gt;&lt;li&gt;&lt;a href=\"https://news.google.com/rss/articles/CBMiQ2h0dHBzOi8vd3d3Lndhc2hpbmd0b25wb3N0LmNvbS9zcG9ydHMvMjAyNC8wMS8yMi9iaWxscy1sb3NlLWNoaWVmcy_SAQA?oc=5\" target=\"_blank\"&gt;Analysis | The Bills blew their best chance to beat the Chiefs. What now?&lt;/a&gt;&amp;nbsp;&amp;nbsp;&lt;font color=\"#6f6f6f\"&gt;The Washington Post&lt;/font&gt;&lt;/li&gt;&lt;li&gt;&lt;a href=\"https://news.google.com/rss/articles/CBMiY2h0dHBzOi8vd3d3LmNubi5jb20vMjAyNC8wMS8yMi9zcG9ydC9idWZmYWxvLWJpbGxzLXdpZGUtcmlnaHQtdHlsZXItYmFzcy1jaGllZnMtc3B0LWludGwvaW5kZXguaHRtbNIBZ2h0dHBzOi8vYW1wLmNubi5jb20vY25uLzIwMjQvMDEvMjIvc3BvcnQvYnVmZmFsby1iaWxscy13aWRlLXJpZ2h0LXR5bGVyLWJhc3MtY2hpZWZzLXNwdC1pbnRsL2luZGV4Lmh0bWw?oc=5\" target=\"_blank\"&gt;‘Wide right’: The two words that haunt Buffalo Bills fans&lt;/a&gt;&amp;nbsp;&amp;nbsp;&lt;font color=\"#6f6f6f\"&gt;CNN&lt;/font&gt;&lt;/li&gt;&lt;li&gt;&lt;a href=\"https://news.google.com/rss/articles/CBMiWGh0dHBzOi8vd3d3LmthbnNhc2NpdHkuY29tL3Nwb3J0cy9zcHQtY29sdW1ucy1ibG9ncy92YWhlLWdyZWdvcmlhbi9hcnRpY2xlMjg0NTQ4MTg1Lmh0bWzSAVhodHRwczovL2FtcC5rYW5zYXNjaXR5LmNvbS9zcG9ydHMvc3B0LWNvbHVtbnMtYmxvZ3MvdmFoZS1ncmVnb3JpYW4vYXJ0aWNsZTI4NDU0ODE4NS5odG1s?oc=5\" target=\"_blank\"&gt;Tortured Bills are a reminder of KC Chiefs’ past. Why this run should be savored&lt;/a&gt;&amp;nbsp;&amp;nbsp;&lt;font color=\"#6f6f6f\"&gt;Kansas City Star&lt;/font&gt;&lt;/li&gt;&lt;li&gt;&lt;a href=\"https://news.google.com/rss/articles/CBMicWh0dHBzOi8vd3d3LmF1ZGFjeS5jb20vd2dyNTUwL3Nwb3J0cy9iaWxscy9jYXBhY2Npby1hcnJvdy11cC1hcnJvdy1kb3duLWNoaWVmcy1hdC1iaWxscy0yMDIzLWFmYy1kaXZpc2lvbmFsLXJvdW5k0gEA?oc=5\" target=\"_blank\"&gt;Capaccio: Arrow Up/Arrow Down: Chiefs at Bills&lt;/a&gt;&amp;nbsp;&amp;nbsp;&lt;font color=\"#6f6f6f\"&gt;WGR550&lt;/font&gt;&lt;/li&gt;&lt;/ol&gt;</description><source url=\"https://www.si.com\">Sports Illustrated</source></item><item><title>2024 Baseball Hall of Fame voting: Eight things to know about potentially dramatic reveal, plus predictions - CBS Sports</title><link>https://news.google.com/rss/articles/CBMijQFodHRwczovL3d3dy5jYnNzcG9ydHMuY29tL21sYi9uZXdzLzIwMjQtYmFzZWJhbGwtaGFsbC1vZi1mYW1lLXZvdGluZy1laWdodC10aGluZ3MtdG8ta25vdy1hYm91dC1wb3RlbnRpYWxseS1kcmFtYXRpYy1yZXZlYWwtcGx1cy1wcmVkaWN0aW9ucy_SAZEBaHR0cHM6Ly93d3cuY2Jzc3BvcnRzLmNvbS9tbGIvbmV3cy8yMDI0LWJhc2ViYWxsLWhhbGwtb2YtZmFtZS12b3RpbmctZWlnaHQtdGhpbmdzLXRvLWtub3ctYWJvdXQtcG90ZW50aWFsbHktZHJhbWF0aWMtcmV2ZWFsLXBsdXMtcHJlZGljdGlvbnMvYW1wLw?oc=5</link><guid isPermaLink=\"false\">CBMijQFodHRwczovL3d3dy5jYnNzcG9ydHMuY29tL21sYi9uZXdzLzIwMjQtYmFzZWJhbGwtaGFsbC1vZi1mYW1lLXZvdGluZy1laWdodC10aGluZ3MtdG8ta25vdy1hYm91dC1wb3RlbnRpYWxseS1kcmFtYXRpYy1yZXZlYWwtcGx1cy1wcmVkaWN0aW9ucy_SAZEBaHR0cHM6Ly93d3cuY2Jzc3BvcnRzLmNvbS9tbGIvbmV3cy8yMDI0LWJhc2ViYWxsLWhhbGwtb2YtZmFtZS12b3RpbmctZWlnaHQtdGhpbmdzLXRvLWtub3ctYWJvdXQtcG90ZW50aWFsbHktZHJhbWF0aWMtcmV2ZWFsLXBsdXMtcHJlZGljdGlvbnMvYW1wLw</guid><pubDate>Tue, 23 Jan 2024 06:53:00 GMT</pubDate><description>&lt;ol&gt;&lt;li&gt;&lt;a href=\"https://news.google.com/rss/articles/CBMijQFodHRwczovL3d3dy5jYnNzcG9ydHMuY29tL21sYi9uZXdzLzIwMjQtYmFzZWJhbGwtaGFsbC1vZi1mYW1lLXZvdGluZy1laWdodC10aGluZ3MtdG8ta25vdy1hYm91dC1wb3RlbnRpYWxseS1kcmFtYXRpYy1yZXZlYWwtcGx1cy1wcmVkaWN0aW9ucy_SAZEBaHR0cHM6Ly93d3cuY2Jzc3BvcnRzLmNvbS9tbGIvbmV3cy8yMDI0LWJhc2ViYWxsLWhhbGwtb2YtZmFtZS12b3RpbmctZWlnaHQtdGhpbmdzLXRvLWtub3ctYWJvdXQtcG90ZW50aWFsbHktZHJhbWF0aWMtcmV2ZWFsLXBsdXMtcHJlZGljdGlvbnMvYW1wLw?oc=5\" target=\"_blank\"&gt;2024 Baseball Hall of Fame voting: Eight things to know about potentially dramatic reveal, plus predictions&lt;/a&gt;&amp;nbsp;&amp;nbsp;&lt;font color=\"#6f6f6f\"&gt;CBS Sports&lt;/font&gt;&lt;/li&gt;&lt;li&gt;&lt;a href=\"https://news.google.com/rss/articles/CBMifGh0dHBzOi8vd3d3LnVzYXRvZGF5LmNvbS9zdG9yeS9zcG9ydHMvbWxiL2NvbHVtbmlzdC9ib2ItbmlnaHRlbmdhbGUvMjAyNC8wMS8yMi9iYXNlYmFsbC1oYWxsLW9mLWZhbWUtdm90aW5nLW1sYi83MjMwNTA4NDAwNy_SAQA?oc=5\" target=\"_blank\"&gt;Baseball Hall of Fame voting: MLB standards have shifted dramatically&lt;/a&gt;&amp;nbsp;&amp;nbsp;&lt;font color=\"#6f6f6f\"&gt;USA TODAY&lt;/font&gt;&lt;/li&gt;&lt;li&gt;&lt;a href=\"https://news.google.com/rss/articles/CBMiamh0dHBzOi8vd3d3LmVzcG4uY29tL21sYi9zdG9yeS9fL2lkLzM5MzQ0NDY2L2Fkcmlhbi1iZWx0cmUtaGFsbC1mYW1lLTIwMjQtZG9kZ2Vycy1yYW5nZXJzLW1hcmluZXJzLXJlZC1zb3jSAQA?oc=5\" target=\"_blank\"&gt;What makes Adrian Beltre a Hall of Famer -- through the eyes of those who know him best&lt;/a&gt;&amp;nbsp;&amp;nbsp;&lt;font color=\"#6f6f6f\"&gt;ESPN&lt;/font&gt;&lt;/li&gt;&lt;li&gt;&lt;a href=\"https://news.google.com/rss/articles/CBMiWmh0dHBzOi8vd3d3LmNubi5jb20vMjAyNC8wMS8yMy9zcG9ydC9iYXNlYmFsbC1oYWxsLW9mLWZhbWUtYmFsbG90LTIwMjQtc3B0LWludGwvaW5kZXguaHRtbNIBXmh0dHBzOi8vYW1wLmNubi5jb20vY25uLzIwMjQvMDEvMjMvc3BvcnQvYmFzZWJhbGwtaGFsbC1vZi1mYW1lLWJhbGxvdC0yMDI0LXNwdC1pbnRsL2luZGV4Lmh0bWw?oc=5\" target=\"_blank\"&gt;Adrián Beltré and Joe Mauer among those likely to join National Baseball Hall of Fame in 2024 ballot&lt;/a&gt;&amp;nbsp;&amp;nbsp;&lt;font color=\"#6f6f6f\"&gt;CNN&lt;/font&gt;&lt;/li&gt;&lt;li&gt;&lt;a href=\"https://news.google.com/rss/articles/CBMikwFodHRwczovL3d3dy5zb3V0aHNpZGVzb3guY29tLzIwMjQvMS8yMi8yNDA0NjM4OC9zb3V0aC1zaWRlLXNveC1lbGVjdHMtdGhyZWUtdG8tdGhlLWhhbGwtb2YtZmFtZS1hZHJpYW4tYmVsdHJlLWpvZS1tYXVlci10b2RkLWhlbHRvbi1idWVocmxlLTEtc2hvcnTSAQA?oc=5\" target=\"_blank\"&gt;Stop by and vote in the second annual South Side Sox Veterans Committee Hall of Fame election!&lt;/a&gt;&amp;nbsp;&amp;nbsp;&lt;font color=\"#6f6f6f\"&gt;South Side Sox&lt;/font&gt;&lt;/li&gt;&lt;/ol&gt;</description><source url=\"https://www.cbssports.com\">CBS Sports</source></item><item><title>Chris Finch on loss after Karl-Anthony Town's 62 - 'Immature basketball' - ESPN</title><link>https://news.google.com/rss/articles/CBMiZmh0dHBzOi8vd3d3LmVzcG4uY29tL25iYS9zdG9yeS9fL2lkLzM5MzY2NjA2L2NocmlzLWZpbmNoLWxvc3Mta2FybC1hbnRob255LXRvd24tNjItaW1tYXR1cmUtYmFza2V0YmFsbNIBAA?oc=5</link><guid isPermaLink=\"false\">CBMiZmh0dHBzOi8vd3d3LmVzcG4uY29tL25iYS9zdG9yeS9fL2lkLzM5MzY2NjA2L2NocmlzLWZpbmNoLWxvc3Mta2FybC1hbnRob255LXRvd24tNjItaW1tYXR1cmUtYmFza2V0YmFsbNIBAA</guid><pubDate>Tue, 23 Jan 2024 05:37:30 GMT</pubDate><description>&lt;ol&gt;&lt;li&gt;&lt;a href=\"https://news.google.com/rss/articles/CBMiZmh0dHBzOi8vd3d3LmVzcG4uY29tL25iYS9zdG9yeS9fL2lkLzM5MzY2NjA2L2NocmlzLWZpbmNoLWxvc3Mta2FybC1hbnRob255LXRvd24tNjItaW1tYXR1cmUtYmFza2V0YmFsbNIBAA?oc=5\" target=\"_blank\"&gt;Chris Finch on loss after Karl-Anthony Town's 62 - 'Immature basketball'&lt;/a&gt;&amp;nbsp;&amp;nbsp;&lt;font color=\"#6f6f6f\"&gt;ESPN&lt;/font&gt;&lt;/li&gt;&lt;li&gt;&lt;a href=\"https://news.google.com/rss/articles/CCAiC3JlT1c0dDhfY3JvmAEB?oc=5\" target=\"_blank\"&gt;EVERY POINT From Karl-Anthony Towns' 62-PT CAREER-HIGH Performance! | January 22, 2024&lt;/a&gt;&amp;nbsp;&amp;nbsp;&lt;font color=\"#6f6f6f\"&gt;NBA&lt;/font&gt;&lt;/li&gt;&lt;li&gt;&lt;a href=\"https://news.google.com/rss/articles/CBMikAFodHRwczovL3d3dy5jYnNzcG9ydHMuY29tL25iYS9uZXdzL2thcmwtYW50aG9ueS10b3ducy1qb2lucy1zdGFja2VkLWdyb3VwLW9mLW5iYS1wbGF5ZXJzLXRvLWxvc2UtYWZ0ZXItYS02MC1wb2ludC1nYW1lLWJlY29tZXMtMjFzdC1wbGF5ZXItZXZlci_SAZQBaHR0cHM6Ly93d3cuY2Jzc3BvcnRzLmNvbS9uYmEvbmV3cy9rYXJsLWFudGhvbnktdG93bnMtam9pbnMtc3RhY2tlZC1ncm91cC1vZi1uYmEtcGxheWVycy10by1sb3NlLWFmdGVyLWEtNjAtcG9pbnQtZ2FtZS1iZWNvbWVzLTIxc3QtcGxheWVyLWV2ZXIvYW1wLw?oc=5\" target=\"_blank\"&gt;Karl-Anthony Towns joins stacked group of NBA players to lose after a 60-point game; becomes 21st player ever&lt;/a&gt;&amp;nbsp;&amp;nbsp;&lt;font color=\"#6f6f6f\"&gt;CBS Sports&lt;/font&gt;&lt;/li&gt;&lt;li&gt;&lt;a href=\"https://news.google.com/rss/articles/CCAiC0tDeHRITmh6QUJVmAEB?oc=5\" target=\"_blank\"&gt;KAT'S CAREER-HIGH 62-PT NIGHT SPOILED BY BRANDON MILLER'S 27 PTS 🔥&lt;/a&gt;&amp;nbsp;&amp;nbsp;&lt;font color=\"#6f6f6f\"&gt;ESPN&lt;/font&gt;&lt;/li&gt;&lt;li&gt;&lt;a href=\"https://news.google.com/rss/articles/CBMiggFodHRwczovL3d3dy5tcHJuZXdzLm9yZy9zdG9yeS8yMDI0LzAxLzIzL3Rvd25zLXNjb3Jlcy1mcmFuY2hpc2VyZWNvcmQtNjItcG9pbnRzLWJ1dC1ob3JuZXRzLXJhbGx5LWZvci0xMjgxMjUtd2luLW92ZXItdGltYmVyd29sdmVz0gEA?oc=5\" target=\"_blank\"&gt;Towns scores franchise-record 62 points, but Hornets rally for 128-125 win over Timberwolves&lt;/a&gt;&amp;nbsp;&amp;nbsp;&lt;font color=\"#6f6f6f\"&gt;MPR News&lt;/font&gt;&lt;/li&gt;&lt;/ol&gt;</description><source url=\"https://www.espn.com\">ESPN</source></item><item><title>Japanese lunar lander touches down and Axiom space launches its third mission with SpaceX - TechCrunch</title><link>https://news.google.com/rss/articles/CBMifGh0dHBzOi8vdGVjaGNydW5jaC5jb20vMjAyNC8wMS8yMi9qYXBhbmVzZS1sdW5hci1sYW5kZXItdG91Y2hlcy1kb3duLWFuZC1heGlvbS1zcGFjZS1sYXVuY2hlcy1pdHMtdGhpcmQtbWlzc2lvbi13aXRoLXNwYWNleC_SAYABaHR0cHM6Ly90ZWNoY3J1bmNoLmNvbS8yMDI0LzAxLzIyL2phcGFuZXNlLWx1bmFyLWxhbmRlci10b3VjaGVzLWRvd24tYW5kLWF4aW9tLXNwYWNlLWxhdW5jaGVzLWl0cy10aGlyZC1taXNzaW9uLXdpdGgtc3BhY2V4L2FtcC8?oc=5</link><guid isPermaLink=\"false\">CBMifGh0dHBzOi8vdGVjaGNydW5jaC5jb20vMjAyNC8wMS8yMi9qYXBhbmVzZS1sdW5hci1sYW5kZXItdG91Y2hlcy1kb3duLWFuZC1heGlvbS1zcGFjZS1sYXVuY2hlcy1pdHMtdGhpcmQtbWlzc2lvbi13aXRoLXNwYWNleC_SAYABaHR0cHM6Ly90ZWNoY3J1bmNoLmNvbS8yMDI0LzAxLzIyL2phcGFuZXNlLWx1bmFyLWxhbmRlci10b3VjaGVzLWRvd24tYW5kLWF4aW9tLXNwYWNlLWxhdW5jaGVzLWl0cy10aGlyZC1taXNzaW9uLXdpdGgtc3BhY2V4L2FtcC8</guid><pubDate>Mon, 22 Jan 2024 20:00:39 GMT</pubDate><description>&lt;ol&gt;&lt;li&gt;&lt;a href=\"https://news.google.com/rss/articles/CBMifGh0dHBzOi8vdGVjaGNydW5jaC5jb20vMjAyNC8wMS8yMi9qYXBhbmVzZS1sdW5hci1sYW5kZXItdG91Y2hlcy1kb3duLWFuZC1heGlvbS1zcGFjZS1sYXVuY2hlcy1pdHMtdGhpcmQtbWlzc2lvbi13aXRoLXNwYWNleC_SAYABaHR0cHM6Ly90ZWNoY3J1bmNoLmNvbS8yMDI0LzAxLzIyL2phcGFuZXNlLWx1bmFyLWxhbmRlci10b3VjaGVzLWRvd24tYW5kLWF4aW9tLXNwYWNlLWxhdW5jaGVzLWl0cy10aGlyZC1taXNzaW9uLXdpdGgtc3BhY2V4L2FtcC8?oc=5\" target=\"_blank\"&gt;Japanese lunar lander touches down and Axiom space launches its third mission with SpaceX&lt;/a&gt;&amp;nbsp;&amp;nbsp;&lt;font color=\"#6f6f6f\"&gt;TechCrunch&lt;/font&gt;&lt;/li&gt;&lt;li&gt;&lt;a href=\"https://news.google.com/rss/articles/CBMiNWh0dHBzOi8vd3d3LmJiYy5jb20vbmV3cy9zY2llbmNlLWVudmlyb25tZW50LTY4MDU1MTg20gE5aHR0cHM6Ly93d3cuYmJjLmNvbS9uZXdzL3NjaWVuY2UtZW52aXJvbm1lbnQtNjgwNTUxODYuYW1w?oc=5\" target=\"_blank\"&gt;Japan hopes sunlight can save stricken Slim Moon lander&lt;/a&gt;&amp;nbsp;&amp;nbsp;&lt;font color=\"#6f6f6f\"&gt;BBC.com&lt;/font&gt;&lt;/li&gt;&lt;li&gt;&lt;a href=\"https://news.google.com/rss/articles/CCAiCy12Q2xoYi1NYUY0mAEB?oc=5\" target=\"_blank\"&gt;Japan reaches the moon, but fate of rover unclear&lt;/a&gt;&amp;nbsp;&amp;nbsp;&lt;font color=\"#6f6f6f\"&gt;South China Morning Post&lt;/font&gt;&lt;/li&gt;&lt;li&gt;&lt;a href=\"https://news.google.com/rss/articles/CBMiXmh0dHBzOi8vd3d3LmFzdHJvbm9teS5jb20vc3BhY2UtZXhwbG9yYXRpb24vamFwYW4tYmVjb21lcy10aGUtNXRoLWNvdW50cnktdG8tbGFuZC1vbi10aGUtbW9vbi_SAQA?oc=5\" target=\"_blank\"&gt;Japan becomes the 5th country to land on the Moon | Astronomy.com&lt;/a&gt;&amp;nbsp;&amp;nbsp;&lt;font color=\"#6f6f6f\"&gt;Astronomy Magazine&lt;/font&gt;&lt;/li&gt;&lt;li&gt;&lt;a href=\"https://news.google.com/rss/articles/CBMiRGh0dHBzOi8vY29zbW9zbWFnYXppbmUuY29tL3NwYWNlL2phcGFuLWxhbmRzLW1hcnMtaGVsaWNvcHRlci1hd2FrZXMv0gEA?oc=5\" target=\"_blank\"&gt;Japan lands, Mars helicopter awakes&lt;/a&gt;&amp;nbsp;&amp;nbsp;&lt;font color=\"#6f6f6f\"&gt;Cosmos&lt;/font&gt;&lt;/li&gt;&lt;/ol&gt;</description><source url=\"https://techcrunch.com\">TechCrunch</source></item><item><title>Ongoing solar storms: Spectacular auroras and radio blackouts - Earth.com</title><link>https://news.google.com/rss/articles/CBMiWGh0dHBzOi8vd3d3LmVhcnRoLmNvbS9uZXdzL29uZ29pbmctc29sYXItc3Rvcm1zLXNwZWN0YWN1bGFyLWF1cm9yYXMtYW5kLXJhZGlvLWJsYWNrb3V0cy_SAQA?oc=5</link><guid isPermaLink=\"false\">CBMiWGh0dHBzOi8vd3d3LmVhcnRoLmNvbS9uZXdzL29uZ29pbmctc29sYXItc3Rvcm1zLXNwZWN0YWN1bGFyLWF1cm9yYXMtYW5kLXJhZGlvLWJsYWNrb3V0cy_SAQA</guid><pubDate>Tue, 23 Jan 2024 01:36:37 GMT</pubDate><description>&lt;ol&gt;&lt;li&gt;&lt;a href=\"https://news.google.com/rss/articles/CBMiWGh0dHBzOi8vd3d3LmVhcnRoLmNvbS9uZXdzL29uZ29pbmctc29sYXItc3Rvcm1zLXNwZWN0YWN1bGFyLWF1cm9yYXMtYW5kLXJhZGlvLWJsYWNrb3V0cy_SAQA?oc=5\" target=\"_blank\"&gt;Ongoing solar storms: Spectacular auroras and radio blackouts&lt;/a&gt;&amp;nbsp;&amp;nbsp;&lt;font color=\"#6f6f6f\"&gt;Earth.com&lt;/font&gt;&lt;/li&gt;&lt;li&gt;&lt;a href=\"https://news.google.com/rss/articles/CBMiZWh0dHBzOi8vd3d3LnVzYXRvZGF5LmNvbS9zdG9yeS9uZXdzL25hdGlvbi8yMDI0LzAxLzIyL25vcnRoZXJuLWxpZ2h0cy1hdXJvcmEtYm9yZWFsaXMtdXMvNzIzMDkxMDcwMDcv0gEA?oc=5\" target=\"_blank\"&gt;Which states could see northern lights Monday? What forecast shows&lt;/a&gt;&amp;nbsp;&amp;nbsp;&lt;font color=\"#6f6f6f\"&gt;USA TODAY&lt;/font&gt;&lt;/li&gt;&lt;li&gt;&lt;a href=\"https://news.google.com/rss/articles/CBMicGh0dHBzOi8vd3d3Lm5kdHYuY29tL3NjaWVuY2Uvc29sYXItc3Rvcm0tY2F1c2VzLXJhZGlvLWJsYWNrb3V0LW9uLWVhcnRoLWFub3RoZXItZXhwZWN0ZWQtdG8taGl0LXRvbW9ycm93LTQ5MTU1OTbSAXZodHRwczovL3d3dy5uZHR2LmNvbS9zY2llbmNlL3NvbGFyLXN0b3JtLWNhdXNlcy1yYWRpby1ibGFja291dC1vbi1lYXJ0aC1hbm90aGVyLWV4cGVjdGVkLXRvLWhpdC10b21vcnJvdy00OTE1NTk2L2FtcC8x?oc=5\" target=\"_blank\"&gt;Solar Storm Causes Radio Blackout On Earth, Another Expected To Hit Tomorrow&lt;/a&gt;&amp;nbsp;&amp;nbsp;&lt;font color=\"#6f6f6f\"&gt;NDTV&lt;/font&gt;&lt;/li&gt;&lt;li&gt;&lt;a href=\"https://news.google.com/rss/articles/CBMiTGh0dHBzOi8vNmFiYy5jb20vc29sYXItc3Rvcm0tY29yb25hbC1tYXNzLWVqZWN0aW9uLWF1cm9yYS1mb3JlY2FzdC8xNDM1MDcyMC_SAQA?oc=5\" target=\"_blank\"&gt;Could a solar storm this week cause tech disruptions? NOAA expert explains&lt;/a&gt;&amp;nbsp;&amp;nbsp;&lt;font color=\"#6f6f6f\"&gt;WPVI-TV&lt;/font&gt;&lt;/li&gt;&lt;li&gt;&lt;a href=\"https://news.google.com/rss/articles/CBMiR2h0dHBzOi8vdGhlbWVzc2VuZ2VyLmNvbS90ZWNoL2F1cm9yYXMtc3BhY2Utd2VhdGhlci1jbWUtbm9ydGhlcm4tbGlnaHRz0gEA?oc=5\" target=\"_blank\"&gt;The Sun Hurled Plasma at Earth on Saturday. It Hits Tonight&lt;/a&gt;&amp;nbsp;&amp;nbsp;&lt;font color=\"#6f6f6f\"&gt;The Messenger&lt;/font&gt;&lt;/li&gt;&lt;/ol&gt;</description><source url=\"https://www.earth.com\">Earth.com</source></item><item><title>NASA Just Shot A Laser At India's Moon Lander - IFLScience</title><link>https://news.google.com/rss/articles/CBMiTWh0dHBzOi8vd3d3LmlmbHNjaWVuY2UuY29tL25hc2EtanVzdC1zaG90LWEtbGFzZXItYXQtaW5kaWFzLW1vb24tbGFuZGVyLTcyNTYy0gEA?oc=5</link><guid isPermaLink=\"false\">CBMiTWh0dHBzOi8vd3d3LmlmbHNjaWVuY2UuY29tL25hc2EtanVzdC1zaG90LWEtbGFzZXItYXQtaW5kaWFzLW1vb24tbGFuZGVyLTcyNTYy0gEA</guid><pubDate>Tue, 23 Jan 2024 01:11:44 GMT</pubDate><description>&lt;ol&gt;&lt;li&gt;&lt;a href=\"https://news.google.com/rss/articles/CBMiTWh0dHBzOi8vd3d3LmlmbHNjaWVuY2UuY29tL25hc2EtanVzdC1zaG90LWEtbGFzZXItYXQtaW5kaWFzLW1vb24tbGFuZGVyLTcyNTYy0gEA?oc=5\" target=\"_blank\"&gt;NASA Just Shot A Laser At India's Moon Lander&lt;/a&gt;&amp;nbsp;&amp;nbsp;&lt;font color=\"#6f6f6f\"&gt;IFLScience&lt;/font&gt;&lt;/li&gt;&lt;li&gt;&lt;a href=\"https://news.google.com/rss/articles/CCAiC3ZxbE9iQzNhMlJRmAEB?oc=5\" target=\"_blank\"&gt;ISRO's Chandrayaan-3 Comes Back To Life; Watch How It Will Guide Astronauts Landing On Moon&lt;/a&gt;&amp;nbsp;&amp;nbsp;&lt;font color=\"#6f6f6f\"&gt;Hindustan Times&lt;/font&gt;&lt;/li&gt;&lt;li&gt;&lt;a href=\"https://news.google.com/rss/articles/CBMiT2h0dHBzOi8vZ2l6bW9kby5jb20vbmFzYS12aWtyYW0tbGFzZXItY29tbXVuaWNhdGlvbi1tb29uLWxhbmRlci1sb2xhLTE4NTExODEzNDbSAQA?oc=5\" target=\"_blank\"&gt;Lunar Satellite Shoots Lasers to a Moon Lander for the First Time&lt;/a&gt;&amp;nbsp;&amp;nbsp;&lt;font color=\"#6f6f6f\"&gt;Gizmodo&lt;/font&gt;&lt;/li&gt;&lt;li&gt;&lt;a href=\"https://news.google.com/rss/articles/CBMiSmh0dHBzOi8vd3d3LnlhaG9vLmNvbS9saWZlc3R5bGUvbmFzYS1ib3VuY2VzLWxhc2VyLW9mZi1vcmVvLTE5MDcwNjAyNC5odG1s0gEA?oc=5\" target=\"_blank\"&gt;NASA bounces laser off 'Oreo-sized' mirror on the moon for 1st time, paving the way for high-precision lunar landings&lt;/a&gt;&amp;nbsp;&amp;nbsp;&lt;font color=\"#6f6f6f\"&gt;Yahoo Life&lt;/font&gt;&lt;/li&gt;&lt;li&gt;&lt;a href=\"https://news.google.com/rss/articles/CBMiQ2h0dHBzOi8vd3d3LnBvcHNjaS5jb20vdGVjaG5vbG9neS9uYXNhLXJldHJvcmVmbGVjdG9yLW1vb24tb3JiaXRlci_SAQA?oc=5\" target=\"_blank\"&gt;NASA bounced a laser off a cookie-sized device on the moon&lt;/a&gt;&amp;nbsp;&amp;nbsp;&lt;font color=\"#6f6f6f\"&gt;Popular Science&lt;/font&gt;&lt;/li&gt;&lt;/ol&gt;</description><source url=\"https://www.iflscience.com\">IFLScience</source></item><item><title>James Webb telescope spots bizarre 'cat tail' flowing out of nearby star, and scientists can't fully explain it - Livescience.com</title><link>https://news.google.com/rss/articles/CBMilwFodHRwczovL3d3dy5saXZlc2NpZW5jZS5jb20vc3BhY2UvYXN0cm9ub215L2phbWVzLXdlYmItdGVsZXNjb3BlLXNwb3RzLWJpemFycmUtY2F0LXRhaWwtZmxvd2luZy1vdXQtb2YtbmVhcmJ5LXN0YXItYW5kLXNjaWVudGlzdHMtY2FudC1mdWxseS1leHBsYWluLWl00gEA?oc=5</link><guid isPermaLink=\"false\">CBMilwFodHRwczovL3d3dy5saXZlc2NpZW5jZS5jb20vc3BhY2UvYXN0cm9ub215L2phbWVzLXdlYmItdGVsZXNjb3BlLXNwb3RzLWJpemFycmUtY2F0LXRhaWwtZmxvd2luZy1vdXQtb2YtbmVhcmJ5LXN0YXItYW5kLXNjaWVudGlzdHMtY2FudC1mdWxseS1leHBsYWluLWl00gEA</guid><pubDate>Mon, 22 Jan 2024 15:36:05 GMT</pubDate><description>&lt;a href=\"https://news.google.com/rss/articles/CBMilwFodHRwczovL3d3dy5saXZlc2NpZW5jZS5jb20vc3BhY2UvYXN0cm9ub215L2phbWVzLXdlYmItdGVsZXNjb3BlLXNwb3RzLWJpemFycmUtY2F0LXRhaWwtZmxvd2luZy1vdXQtb2YtbmVhcmJ5LXN0YXItYW5kLXNjaWVudGlzdHMtY2FudC1mdWxseS1leHBsYWluLWl00gEA?oc=5\" target=\"_blank\"&gt;James Webb telescope spots bizarre 'cat tail' flowing out of nearby star, and scientists can't fully explain it&lt;/a&gt;&amp;nbsp;&amp;nbsp;&lt;font color=\"#6f6f6f\"&gt;Livescience.com&lt;/font&gt;</description><source url=\"https://www.livescience.com\">Livescience.com</source></item><item><title>Cameroon begins routine malaria shots in global milestone - Reuters</title><link>https://news.google.com/rss/articles/CBMicWh0dHBzOi8vd3d3LnJldXRlcnMuY29tL3dvcmxkL2FmcmljYS9jYW1lcm9vbi1sYXVuY2hlcy1tYWxhcmlhLXZhY2NpbmF0aW9uLXByb2dyYW1tZS1nbG9iYWwtbWlsZXN0b25lLTIwMjQtMDEtMjIv0gEA?oc=5</link><guid isPermaLink=\"false\">CBMicWh0dHBzOi8vd3d3LnJldXRlcnMuY29tL3dvcmxkL2FmcmljYS9jYW1lcm9vbi1sYXVuY2hlcy1tYWxhcmlhLXZhY2NpbmF0aW9uLXByb2dyYW1tZS1nbG9iYWwtbWlsZXN0b25lLTIwMjQtMDEtMjIv0gEA</guid><pubDate>Mon, 22 Jan 2024 22:59:00 GMT</pubDate><description>&lt;ol&gt;&lt;li&gt;&lt;a href=\"https://news.google.com/rss/articles/CBMicWh0dHBzOi8vd3d3LnJldXRlcnMuY29tL3dvcmxkL2FmcmljYS9jYW1lcm9vbi1sYXVuY2hlcy1tYWxhcmlhLXZhY2NpbmF0aW9uLXByb2dyYW1tZS1nbG9iYWwtbWlsZXN0b25lLTIwMjQtMDEtMjIv0gEA?oc=5\" target=\"_blank\"&gt;Cameroon begins routine malaria shots in global milestone&lt;/a&gt;&amp;nbsp;&amp;nbsp;&lt;font color=\"#6f6f6f\"&gt;Reuters&lt;/font&gt;&lt;/li&gt;&lt;li&gt;&lt;a href=\"https://news.google.com/rss/articles/CCAiCzhaNnktamhQZGtvmAEB?oc=5\" target=\"_blank\"&gt;Cameroon starts world-first malaria mass vaccine rollout | BBC News&lt;/a&gt;&amp;nbsp;&amp;nbsp;&lt;font color=\"#6f6f6f\"&gt;BBC News&lt;/font&gt;&lt;/li&gt;&lt;li&gt;&lt;a href=\"https://news.google.com/rss/articles/CBMiXGh0dHBzOi8vd3d3LmNic25ld3MuY29tL25ld3MvbWFsYXJpYS12YWNjaW5hdGlvbi1hZnJpY2EtY2FtZXJvb24taW5mZWN0aW9ucy1kZWF0aHMtY2hpbGRyZW4v0gFgaHR0cHM6Ly93d3cuY2JzbmV3cy5jb20vYW1wL25ld3MvbWFsYXJpYS12YWNjaW5hdGlvbi1hZnJpY2EtY2FtZXJvb24taW5mZWN0aW9ucy1kZWF0aHMtY2hpbGRyZW4v?oc=5\" target=\"_blank\"&gt;Malaria mass-vaccination program launches in Cameroon, bringing hope as Africa battles surging infections&lt;/a&gt;&amp;nbsp;&amp;nbsp;&lt;font color=\"#6f6f6f\"&gt;CBS News&lt;/font&gt;&lt;/li&gt;&lt;li&gt;&lt;a href=\"https://news.google.com/rss/articles/CCAiC2JzUTVsWnhmdndnmAEB?oc=5\" target=\"_blank\"&gt;Cameroon is starting the world's first malaria vaccine program for children | DW News&lt;/a&gt;&amp;nbsp;&amp;nbsp;&lt;font color=\"#6f6f6f\"&gt;DW News&lt;/font&gt;&lt;/li&gt;&lt;li&gt;&lt;a href=\"https://news.google.com/rss/articles/CBMiLmh0dHBzOi8vd3d3LmJiYy5jb20vbmV3cy93b3JsZC1hZnJpY2EtNjgwMzcwMDjSATJodHRwczovL3d3dy5iYmMuY29tL25ld3Mvd29ybGQtYWZyaWNhLTY4MDM3MDA4LmFtcA?oc=5\" target=\"_blank\"&gt;Cameroon starts world-first malaria mass vaccine rollout&lt;/a&gt;&amp;nbsp;&amp;nbsp;&lt;font color=\"#6f6f6f\"&gt;BBC.com&lt;/font&gt;&lt;/li&gt;&lt;/ol&gt;</description><source url=\"https://www.reuters.com\">Reuters</source></item><item><title>New blood test that screens for Alzheimer’s may be a step closer to reality, study suggests - CNN</title><link>https://news.google.com/rss/articles/CBMiVmh0dHBzOi8vd3d3LmNubi5jb20vMjAyNC8wMS8yMi9oZWFsdGgvYWx6aGVpbWVycy1ibG9vZC10ZXN0LXNjcmVlbmluZy1zdHVkeS9pbmRleC5odG1s0gFaaHR0cHM6Ly9hbXAuY25uLmNvbS9jbm4vMjAyNC8wMS8yMi9oZWFsdGgvYWx6aGVpbWVycy1ibG9vZC10ZXN0LXNjcmVlbmluZy1zdHVkeS9pbmRleC5odG1s?oc=5</link><guid isPermaLink=\"false\">CBMiVmh0dHBzOi8vd3d3LmNubi5jb20vMjAyNC8wMS8yMi9oZWFsdGgvYWx6aGVpbWVycy1ibG9vZC10ZXN0LXNjcmVlbmluZy1zdHVkeS9pbmRleC5odG1s0gFaaHR0cHM6Ly9hbXAuY25uLmNvbS9jbm4vMjAyNC8wMS8yMi9oZWFsdGgvYWx6aGVpbWVycy1ibG9vZC10ZXN0LXNjcmVlbmluZy1zdHVkeS9pbmRleC5odG1s</guid><pubDate>Tue, 23 Jan 2024 03:56:00 GMT</pubDate><description>&lt;ol&gt;&lt;li&gt;&lt;a href=\"https://news.google.com/rss/articles/CBMiVmh0dHBzOi8vd3d3LmNubi5jb20vMjAyNC8wMS8yMi9oZWFsdGgvYWx6aGVpbWVycy1ibG9vZC10ZXN0LXNjcmVlbmluZy1zdHVkeS9pbmRleC5odG1s0gFaaHR0cHM6Ly9hbXAuY25uLmNvbS9jbm4vMjAyNC8wMS8yMi9oZWFsdGgvYWx6aGVpbWVycy1ibG9vZC10ZXN0LXNjcmVlbmluZy1zdHVkeS9pbmRleC5odG1s?oc=5\" target=\"_blank\"&gt;New blood test that screens for Alzheimer’s may be a step closer to reality, study suggests&lt;/a&gt;&amp;nbsp;&amp;nbsp;&lt;font color=\"#6f6f6f\"&gt;CNN&lt;/font&gt;&lt;/li&gt;&lt;li&gt;&lt;a href=\"https://news.google.com/rss/articles/CCAiCzU2TEw4Z04ycWZVmAEB?oc=5\" target=\"_blank\"&gt;Simple blood test could detect Alzheimer's&lt;/a&gt;&amp;nbsp;&amp;nbsp;&lt;font color=\"#6f6f6f\"&gt;4 News Now&lt;/font&gt;&lt;/li&gt;&lt;li&gt;&lt;a href=\"https://news.google.com/rss/articles/CBMicmh0dHBzOi8vd3d3LnRoZWd1YXJkaWFuLmNvbS9zb2NpZXR5LzIwMjQvamFuLzIzL2Jsb29kLXRlc3QtY291bGQtcmV2b2x1dGlvbmlzZS1kaWFnbm9zaXMtb2YtYWx6aGVpbWVycy1leHBlcnRzLXNhedIBcmh0dHBzOi8vYW1wLnRoZWd1YXJkaWFuLmNvbS9zb2NpZXR5LzIwMjQvamFuLzIzL2Jsb29kLXRlc3QtY291bGQtcmV2b2x1dGlvbmlzZS1kaWFnbm9zaXMtb2YtYWx6aGVpbWVycy1leHBlcnRzLXNheQ?oc=5\" target=\"_blank\"&gt;Blood test could revolutionise diagnosis of Alzheimer’s, experts say&lt;/a&gt;&amp;nbsp;&amp;nbsp;&lt;font color=\"#6f6f6f\"&gt;The Guardian&lt;/font&gt;&lt;/li&gt;&lt;li&gt;&lt;a href=\"https://news.google.com/rss/articles/CBMigAFodHRwczovL255cG9zdC5jb20vMjAyNC8wMS8yMi9saWZlc3R5bGUvYWx6aGVpbWVycy1yaXNrcy1jYW4tYmUtZGV0ZWN0ZWQtMTUteWVhcnMtaW4tYWR2YW5jZS13aXRoLWJyZWFrdGhyb3VnaC1ibG9vZC10ZXN0LXN0dWR5L9IBhAFodHRwczovL255cG9zdC5jb20vMjAyNC8wMS8yMi9saWZlc3R5bGUvYWx6aGVpbWVycy1yaXNrcy1jYW4tYmUtZGV0ZWN0ZWQtMTUteWVhcnMtaW4tYWR2YW5jZS13aXRoLWJyZWFrdGhyb3VnaC1ibG9vZC10ZXN0LXN0dWR5L2FtcC8?oc=5\" target=\"_blank\"&gt;Alzheimer's risks can be detected 15 years in advance with breakthrough blood test: study&lt;/a&gt;&amp;nbsp;&amp;nbsp;&lt;font color=\"#6f6f6f\"&gt;New York Post &lt;/font&gt;&lt;/li&gt;&lt;li&gt;&lt;a href=\"https://news.google.com/rss/articles/CBMiTmh0dHBzOi8vdGhlaGlsbC5jb20vcG9saWN5L2hlYWx0aGNhcmUvNDQyMTg3NS1hbHpoZWltZXJzLWJsb29kLXRlc3Qtc2NyZWVuaW5nL9IBAA?oc=5\" target=\"_blank\"&gt;Alzheimer's blood test could be used to screen even before symptoms: Study&lt;/a&gt;&amp;nbsp;&amp;nbsp;&lt;font color=\"#6f6f6f\"&gt;The Hill&lt;/font&gt;&lt;/li&gt;&lt;/ol&gt;</description><source url=\"https://www.cnn.com\">CNN</source></item><item><title>This is the greatest risk factor of death in people with obesity, according to a new study - CNN</title><link>https://news.google.com/rss/articles/CBMiS2h0dHBzOi8vd3d3LmNubi5jb20vMjAyNC8wMS8yMi9oZWFsdGgvb2Jlc2l0eS1pc29sYXRpb24td2VsbG5lc3MvaW5kZXguaHRtbNIBT2h0dHBzOi8vYW1wLmNubi5jb20vY25uLzIwMjQvMDEvMjIvaGVhbHRoL29iZXNpdHktaXNvbGF0aW9uLXdlbGxuZXNzL2luZGV4Lmh0bWw?oc=5</link><guid isPermaLink=\"false\">CBMiS2h0dHBzOi8vd3d3LmNubi5jb20vMjAyNC8wMS8yMi9oZWFsdGgvb2Jlc2l0eS1pc29sYXRpb24td2VsbG5lc3MvaW5kZXguaHRtbNIBT2h0dHBzOi8vYW1wLmNubi5jb20vY25uLzIwMjQvMDEvMjIvaGVhbHRoL29iZXNpdHktaXNvbGF0aW9uLXdlbGxuZXNzL2luZGV4Lmh0bWw</guid><pubDate>Tue, 23 Jan 2024 02:30:00 GMT</pubDate><description>&lt;ol&gt;&lt;li&gt;&lt;a href=\"https://news.google.com/rss/articles/CBMiS2h0dHBzOi8vd3d3LmNubi5jb20vMjAyNC8wMS8yMi9oZWFsdGgvb2Jlc2l0eS1pc29sYXRpb24td2VsbG5lc3MvaW5kZXguaHRtbNIBT2h0dHBzOi8vYW1wLmNubi5jb20vY25uLzIwMjQvMDEvMjIvaGVhbHRoL29iZXNpdHktaXNvbGF0aW9uLXdlbGxuZXNzL2luZGV4Lmh0bWw?oc=5\" target=\"_blank\"&gt;This is the greatest risk factor of death in people with obesity, according to a new study&lt;/a&gt;&amp;nbsp;&amp;nbsp;&lt;font color=\"#6f6f6f\"&gt;CNN&lt;/font&gt;&lt;/li&gt;&lt;li&gt;&lt;a href=\"https://news.google.com/rss/articles/CBMiZWh0dHBzOi8vd3d3Lm1lZGljYWxuZXdzdG9kYXkuY29tL2FydGljbGVzL2ltcHJvdmluZy1zb2NpYWwtaXNvbGF0aW9uLWxvbmVsaW5lc3MtcmVkdWNlLW1vcnRhbGl0eS1yaXNr0gEA?oc=5\" target=\"_blank\"&gt;Improving social isolation, loneliness may cut death risk by up to 36%&lt;/a&gt;&amp;nbsp;&amp;nbsp;&lt;font color=\"#6f6f6f\"&gt;Medical News Today&lt;/font&gt;&lt;/li&gt;&lt;/ol&gt;</description><source url=\"https://www.cnn.com\">CNN</source></item><item><title>Measles vaccine campaign targets unprotected millions - BBC.com</title><link>https://news.google.com/rss/articles/CBMiKGh0dHBzOi8vd3d3LmJiYy5jb20vbmV3cy9oZWFsdGgtNjgwNTczMTfSASxodHRwczovL3d3dy5iYmMuY29tL25ld3MvaGVhbHRoLTY4MDU3MzE3LmFtcA?oc=5</link><guid isPermaLink=\"false\">CBMiKGh0dHBzOi8vd3d3LmJiYy5jb20vbmV3cy9oZWFsdGgtNjgwNTczMTfSASxodHRwczovL3d3dy5iYmMuY29tL25ld3MvaGVhbHRoLTY4MDU3MzE3LmFtcA</guid><pubDate>Mon, 22 Jan 2024 14:28:00 GMT</pubDate><description>&lt;ol&gt;&lt;li&gt;&lt;a href=\"https://news.google.com/rss/articles/CBMiKGh0dHBzOi8vd3d3LmJiYy5jb20vbmV3cy9oZWFsdGgtNjgwNTczMTfSASxodHRwczovL3d3dy5iYmMuY29tL25ld3MvaGVhbHRoLTY4MDU3MzE3LmFtcA?oc=5\" target=\"_blank\"&gt;Measles vaccine campaign targets unprotected millions&lt;/a&gt;&amp;nbsp;&amp;nbsp;&lt;font color=\"#6f6f6f\"&gt;BBC.com&lt;/font&gt;&lt;/li&gt;&lt;li&gt;&lt;a href=\"https://news.google.com/rss/articles/CCAiC1FHQXhUdVdYT0NRmAEB?oc=5\" target=\"_blank\"&gt;UK Measles Outbreak: Most cases reported in children under 10 years of age | WION News&lt;/a&gt;&amp;nbsp;&amp;nbsp;&lt;font color=\"#6f6f6f\"&gt;WION&lt;/font&gt;&lt;/li&gt;&lt;li&gt;&lt;a href=\"https://news.google.com/rss/articles/CBMicWh0dHBzOi8vd3d3LmJsb29tYmVyZy5jb20vbmV3cy9hcnRpY2xlcy8yMDI0LTAxLTIzL21lYXNsZXMtY2FzZXMtcmlzZS0zMC1mb2xkLWluLWV1cm9wZS1hbGFybWluZy1oZWFsdGgtb2ZmaWNpYWxz0gEA?oc=5\" target=\"_blank\"&gt;Measles Cases Rise 30-Fold In Europe, Alarming Health Officials&lt;/a&gt;&amp;nbsp;&amp;nbsp;&lt;font color=\"#6f6f6f\"&gt;Bloomberg&lt;/font&gt;&lt;/li&gt;&lt;li&gt;&lt;a href=\"https://news.google.com/rss/articles/CBMiZGh0dHBzOi8vYWJjbmV3cy5nby5jb20vSGVhbHRoL3dpcmVTdG9yeS9taWxsaW9ucy11ay11cmdlZC12YWNjaW5hdGlvbnMtc3VyZ2UtbWVhc2xlcy1jYXNlcy0xMDY1NjIxMjHSAWhodHRwczovL2FiY25ld3MuZ28uY29tL2FtcC9IZWFsdGgvd2lyZVN0b3J5L21pbGxpb25zLXVrLXVyZ2VkLXZhY2NpbmF0aW9ucy1zdXJnZS1tZWFzbGVzLWNhc2VzLTEwNjU2MjEyMQ?oc=5\" target=\"_blank\"&gt;Millions in the UK are being urged to get vaccinations during a surge in measles cases&lt;/a&gt;&amp;nbsp;&amp;nbsp;&lt;font color=\"#6f6f6f\"&gt;ABC News&lt;/font&gt;&lt;/li&gt;&lt;li&gt;&lt;a href=\"https://news.google.com/rss/articles/CCAiC3JsSEJQWDBZY2JZmAEB?oc=5\" target=\"_blank\"&gt;UK Measles Outbreak: Health officials urge parents to book children for vaccinations&lt;/a&gt;&amp;nbsp;&amp;nbsp;&lt;font color=\"#6f6f6f\"&gt;WION&lt;/font&gt;&lt;/li&gt;&lt;/ol&gt;</description><source url=\"https://www.bbc.com\">BBC.com</source></item></channel></rss>\n",
            "<class 'bs4.BeautifulSoup'>\n",
            "Top stories - Google News\n",
            "Nikki Haley sweeps Dixville Notch's primary, winning all 6 votes - The Associated Press\n",
            "https://news.google.com/rss/articles/CBMib2h0dHBzOi8vYXBuZXdzLmNvbS9hcnRpY2xlL2RpeHZpbGxlLW5vdGNoLXByaW1hcnktdm90aW5nLW5ldy1oYW1wc2hpcmUtdHVlc2RheS0wZjdmNDIwMDU0NDAzNTEwMzY0NDY5YWQ1MjI1NTI3MNIBAA?oc=5\n",
            "Tue, 23 Jan 2024 10:43:00 GMT\n",
            "====================================================================================================\n",
            "24 Israeli soldiers killed in Gaza during Israel-Hamas war, IDF says - The Washington Post\n",
            "https://news.google.com/rss/articles/CBMiWWh0dHBzOi8vd3d3Lndhc2hpbmd0b25wb3N0LmNvbS93b3JsZC8yMDI0LzAxLzIzL2lzcmFlbC1zb2xkaWVycy1raWxsZWQtZ2F6YS13YXItaG9zdGFnZXMv0gEA?oc=5\n",
            "Tue, 23 Jan 2024 11:12:17 GMT\n",
            "====================================================================================================\n",
            "Cal State Professors Reach Tentative Deal to End Strike - The New York Times\n",
            "https://news.google.com/rss/articles/CBMiT2h0dHBzOi8vd3d3Lm55dGltZXMuY29tLzIwMjQvMDEvMjMvdXMvY2FsaWZvcm5pYS1zdGF0ZS1mYWN1bHR5LXN0cmlrZS1kZWFsLmh0bWzSAQA?oc=5\n",
            "Tue, 23 Jan 2024 07:54:05 GMT\n",
            "====================================================================================================\n",
            "NH primary plays outsized role in determining future of the Republican Party - NPR\n",
            "https://news.google.com/rss/articles/CBMiaWh0dHBzOi8vd3d3Lm5wci5vcmcvMjAyNC8wMS8yMy8xMjI2MjQxMDQ3L25oLXByaW1hcnktZ29wLXJlcHVibGljYW4tbWFnYS1tb2RlcmF0ZS1pbmRlcGVuZGVudC10cnVtcC1oYWxledIBAA?oc=5\n",
            "Tue, 23 Jan 2024 10:00:00 GMT\n",
            "====================================================================================================\n",
            "Supreme Court says Biden administration can remove razor wire that Texas installed along border - CBS News\n",
            "https://news.google.com/rss/articles/CBMiUmh0dHBzOi8vd3d3LmNic25ld3MuY29tL25ld3Mvc3VwcmVtZS1jb3VydC10ZXhhcy1yYXpvci13aXJlLWNhc2UtdXMtbWV4aWNvLWJvcmRlci_SAVZodHRwczovL3d3dy5jYnNuZXdzLmNvbS9hbXAvbmV3cy9zdXByZW1lLWNvdXJ0LXRleGFzLXJhem9yLXdpcmUtY2FzZS11cy1tZXhpY28tYm9yZGVyLw?oc=5\n",
            "Tue, 23 Jan 2024 08:59:00 GMT\n",
            "====================================================================================================\n",
            "Suspect in killings of 8 near Chicago fatally shoots himself in Texas, police say - NBC News\n",
            "https://news.google.com/rss/articles/CBMiT2h0dHBzOi8vd3d3Lm5iY25ld3MuY29tL25ld3MvdXMtbmV3cy84LWRlYWQtc2hvb3Rpbmctam9saWV0LWlsbGlub2lzLXJjbmExMzUxNzbSAStodHRwczovL3d3dy5uYmNuZXdzLmNvbS9uZXdzL2FtcC9yY25hMTM1MTc2?oc=5\n",
            "Tue, 23 Jan 2024 09:09:00 GMT\n",
            "====================================================================================================\n",
            "San Diego sees widespread flooding during wettest January day on record - NBC News\n",
            "https://news.google.com/rss/articles/CBMibWh0dHBzOi8vd3d3Lm5iY25ld3MuY29tL25ld3MvdXMtbmV3cy9zYW4tZGllZ28tc2Vlcy13aWRlc3ByZWFkLWZsb29kaW5nLXdldHRlc3QtamFudWFyeS1kYXktcmVjb3JkLXJjbmExMzUxOTXSAStodHRwczovL3d3dy5uYmNuZXdzLmNvbS9uZXdzL2FtcC9yY25hMTM1MTk1?oc=5\n",
            "Tue, 23 Jan 2024 10:34:00 GMT\n",
            "====================================================================================================\n",
            "Georgia senator wants investigation of Fulton DA Fani Willis -  The Atlanta Journal Constitution\n",
            "https://news.google.com/rss/articles/CBMigQFodHRwczovL3d3dy5hamMuY29tL3BvbGl0aWNzL2dlb3JnaWEtc2VuYXRvci1zZWVrcy1uZXctY29tbWl0dGVlLXRvLWludmVzdGlnYXRlLWZ1bHRvbi1kYS1mYW5pLXdpbGxpcy9aQUtaUFZWRlRaQUgzTU9YUzZONExLSUpIUS_SAQA?oc=5\n",
            "Tue, 23 Jan 2024 07:18:36 GMT\n",
            "====================================================================================================\n",
            "Bones #20: Last unknown human remains of Green River Killer victim identified - KING5.com\n",
            "https://news.google.com/rss/articles/CBMikAFodHRwczovL3d3dy5raW5nNS5jb20vYXJ0aWNsZS9uZXdzL2NyaW1lL2xhc3QtdW5rbm93bi12aWN0aW0tZ3JlZW4tcml2ZXIta2lsbGVyLWdhcnktcmlkZ3dheS1pZGVudGlmaWVkLzI4MS1lNjE1MTM4NC03ZjUxLTRjZWMtYjRiYy04ZjUxMWIwMDNmMWHSAZQBaHR0cHM6Ly93d3cua2luZzUuY29tL2FtcC9hcnRpY2xlL25ld3MvY3JpbWUvbGFzdC11bmtub3duLXZpY3RpbS1ncmVlbi1yaXZlci1raWxsZXItZ2FyeS1yaWRnd2F5LWlkZW50aWZpZWQvMjgxLWU2MTUxMzg0LTdmNTEtNGNlYy1iNGJjLThmNTExYjAwM2YxYQ?oc=5\n",
            "Mon, 22 Jan 2024 19:43:00 GMT\n",
            "====================================================================================================\n",
            "Floridians wait to see which version of Ron DeSantis returns from the presidential campaign trail - The Associated Press\n",
            "https://news.google.com/rss/articles/CBMiWmh0dHBzOi8vYXBuZXdzLmNvbS9hcnRpY2xlL2Rlc2FudGlzLWZsb3JpZGEtZWxlY3Rpb24tMjAyNC0zNDU4ZGE5Mzk3Zjk1MzU5NDliYTlhN2JjMzQzZDRmMNIBAA?oc=5\n",
            "Tue, 23 Jan 2024 01:21:00 GMT\n",
            "====================================================================================================\n",
            "US and UK launch fresh strikes on Houthis in Yemen - BBC.com\n",
            "https://news.google.com/rss/articles/CBMiM2h0dHBzOi8vd3d3LmJiYy5jb20vbmV3cy93b3JsZC1taWRkbGUtZWFzdC02ODA2NDQyMtIBN2h0dHBzOi8vd3d3LmJiYy5jb20vbmV3cy93b3JsZC1taWRkbGUtZWFzdC02ODA2NDQyMi5hbXA?oc=5\n",
            "Tue, 23 Jan 2024 10:35:00 GMT\n",
            "====================================================================================================\n",
            "China races to find landslide survivors in subzero temperatures - Al Jazeera English\n",
            "https://news.google.com/rss/articles/CBMiaWh0dHBzOi8vd3d3LmFsamF6ZWVyYS5jb20vbmV3cy8yMDI0LzEvMjMvY2hpbmEtcmFjZXMtdG8tZmluZC1sYW5kc2xpZGUtc3Vydml2b3JzLWluLXN1Yi16ZXJvLXRlbXBlcmF0dXJlc9IBbWh0dHBzOi8vd3d3LmFsamF6ZWVyYS5jb20vYW1wL25ld3MvMjAyNC8xLzIzL2NoaW5hLXJhY2VzLXRvLWZpbmQtbGFuZHNsaWRlLXN1cnZpdm9ycy1pbi1zdWItemVyby10ZW1wZXJhdHVyZXM?oc=5\n",
            "Tue, 23 Jan 2024 08:21:44 GMT\n",
            "====================================================================================================\n",
            "China earthquake: 7.1 magnitude quake rattles part of Western China - The Associated Press\n",
            "https://news.google.com/rss/articles/CBMiZmh0dHBzOi8vYXBuZXdzLmNvbS9hcnRpY2xlL2NoaW5hLXF1YWtlLXhpbmppYW5nLWt5cmd5enN0YW4ta2F6YWtoc3Rhbi00ODMzODcxNmU2MDQyNzlkMDg4YTgwN2Y5NzcwODc4ZdIBAA?oc=5\n",
            "Tue, 23 Jan 2024 10:52:30 GMT\n",
            "====================================================================================================\n",
            "Navy SEAL lost at sea during maritime ship raid near Somalia identified as North Texan - NBC 5 Dallas-Fort Worth\n",
            "https://news.google.com/rss/articles/CBMiggFodHRwczovL3d3dy5uYmNkZncuY29tL25ld3MvbG9jYWwvbmF2eS1zZWFsLWxvc3QtYXQtc2VhLWR1cmluZy1tYXJpdGltZS1zaGlwLXJhaWQtaWRlbnRpZmllZC1hcy1ub3J0aC10ZXhhbi1kZWNsYXJlZC1kZWFkLzM0NDEzODkv0gGIAWh0dHBzOi8vd3d3Lm5iY2Rmdy5jb20vbmV3cy9sb2NhbC9uYXZ5LXNlYWwtbG9zdC1hdC1zZWEtZHVyaW5nLW1hcml0aW1lLXNoaXAtcmFpZC1pZGVudGlmaWVkLWFzLW5vcnRoLXRleGFuLWRlY2xhcmVkLWRlYWQvMzQ0MTM4OS8_YW1wPTE?oc=5\n",
            "Tue, 23 Jan 2024 02:48:45 GMT\n",
            "====================================================================================================\n",
            "China Weighs Stock Market Rescue Package Backed by $278 Billion - Bloomberg\n",
            "https://news.google.com/rss/articles/CBMicGh0dHBzOi8vd3d3LmJsb29tYmVyZy5jb20vbmV3cy9hcnRpY2xlcy8yMDI0LTAxLTIzL2NoaW5hLW11bGxzLXN0b2NrLW1hcmtldC1yZXNjdWUtcGFja2FnZS1iYWNrZWQtYnktMjc4LWJpbGxpb27SAQA?oc=5\n",
            "Tue, 23 Jan 2024 08:03:45 GMT\n",
            "====================================================================================================\n",
            "United Airlines to lose money over Boeing groundings - BBC.com\n",
            "https://news.google.com/rss/articles/CBMiKmh0dHBzOi8vd3d3LmJiYy5jb20vbmV3cy9idXNpbmVzcy02ODA2NDk0ONIBLmh0dHBzOi8vd3d3LmJiYy5jb20vbmV3cy9idXNpbmVzcy02ODA2NDk0OC5hbXA?oc=5\n",
            "Tue, 23 Jan 2024 10:38:54 GMT\n",
            "====================================================================================================\n",
            "Procter & Gamble revenue rises 3%, short of expectations - CNBC\n",
            "https://news.google.com/rss/articles/CBMiR2h0dHBzOi8vd3d3LmNuYmMuY29tLzIwMjQvMDEvMjMvcHJvY3Rlci1nYW1ibGUtcGctcTItMjAyNC1lYXJuaW5ncy5odG1s0gFLaHR0cHM6Ly93d3cuY25iYy5jb20vYW1wLzIwMjQvMDEvMjMvcHJvY3Rlci1nYW1ibGUtcGctcTItMjAyNC1lYXJuaW5ncy5odG1s?oc=5\n",
            "Tue, 23 Jan 2024 12:01:25 GMT\n",
            "====================================================================================================\n",
            "Johnson & Johnson narrowly tops quarterly estimates as pharmaceutical, medtech sales jump - CNBC\n",
            "https://news.google.com/rss/articles/CBMiSWh0dHBzOi8vd3d3LmNuYmMuY29tLzIwMjQvMDEvMjMvam9obnNvbi1qb2huc29uLWpuai1lYXJuaW5ncy1xNC0yMDIzLmh0bWzSAU1odHRwczovL3d3dy5jbmJjLmNvbS9hbXAvMjAyNC8wMS8yMy9qb2huc29uLWpvaG5zb24tam5qLWVhcm5pbmdzLXE0LTIwMjMuaHRtbA?oc=5\n",
            "Tue, 23 Jan 2024 11:22:37 GMT\n",
            "====================================================================================================\n",
            "No, the Samsung Galaxy S22 isn't getting Galaxy AI features – here's why - TechRadar\n",
            "https://news.google.com/rss/articles/CBMiemh0dHBzOi8vd3d3LnRlY2hyYWRhci5jb20vcGhvbmVzL3NhbXN1bmctZ2FsYXh5LXBob25lcy9uby10aGUtc2Ftc3VuZy1nYWxheHktczIyLWlzbnQtZ2V0dGluZy1nYWxheHktYWktZmVhdHVyZXMtaGVyZXMtd2h50gEA?oc=5\n",
            "Tue, 23 Jan 2024 07:22:56 GMT\n",
            "====================================================================================================\n",
            "‘Palworld,’ a divisive Pokémon lookalike, is 2024’s first viral hit game - The Washington Post\n",
            "https://news.google.com/rss/articles/CBMiYWh0dHBzOi8vd3d3Lndhc2hpbmd0b25wb3N0LmNvbS9lbnRlcnRhaW5tZW50L3ZpZGVvLWdhbWVzLzIwMjQvMDEvMjIvcGFsd29ybGQtcG9rZW1vbi12aXJhbC1zYWxlcy_SAQA?oc=5\n",
            "Tue, 23 Jan 2024 03:45:00 GMT\n",
            "====================================================================================================\n",
            "Here's What Apple Vision Pro's Huge Box Looks Like - MacRumors\n",
            "https://news.google.com/rss/articles/CBMiUWh0dHBzOi8vd3d3Lm1hY3J1bW9ycy5jb20vMjAyNC8wMS8yMi9oZXJlcy13aGF0LWFwcGxlLXZpc2lvbi1wcm9zLWJveC1sb29rcy1saWtlL9IBAA?oc=5\n",
            "Mon, 22 Jan 2024 23:05:05 GMT\n",
            "====================================================================================================\n",
            "Apple tells artists how much more money they can make with spatial audio - The Verge\n",
            "https://news.google.com/rss/articles/CBMiZWh0dHBzOi8vd3d3LnRoZXZlcmdlLmNvbS8yMDI0LzEvMjIvMjQwNDc0NjEvYXBwbGUtbXVzaWMtc3BhdGlhbC1hdWRpby1yb3lhbHRpZXMtZG9sYnktYXRtb3Mtc3RyZWFtaW5n0gEA?oc=5\n",
            "Tue, 23 Jan 2024 01:43:00 GMT\n",
            "====================================================================================================\n",
            "The Bachelor Joey on First Episode, Living with His Sister & Jimmy Tries to Figure Out Who He Chose - Jimmy Kimmel Live\n",
            "https://news.google.com/rss/articles/CCAiC2JscmRjSzl1QkJnmAEB?oc=5\n",
            "Tue, 23 Jan 2024 07:00:15 GMT\n",
            "====================================================================================================\n",
            "Netflix Film Chief Scott Stuber Will Leave to Start New Company - Bloomberg\n",
            "https://news.google.com/rss/articles/CBMicmh0dHBzOi8vd3d3LmJsb29tYmVyZy5jb20vbmV3cy9hcnRpY2xlcy8yMDI0LTAxLTIyL25ldGZsaXgtZmlsbS1jaGllZi1zY290dC1zdHViZXItd2lsbC1sZWF2ZS10by1zdGFydC1uZXctY29tcGFuedIBAA?oc=5\n",
            "Tue, 23 Jan 2024 05:44:14 GMT\n",
            "====================================================================================================\n",
            "Aries Horoscope Today: January 23, 2024 - VOGUE India\n",
            "https://news.google.com/rss/articles/CBMiTWh0dHBzOi8vd3d3LnZvZ3VlLmluL2hvcm9zY29wZS9wcm9kdWN0L2FyaWVzLWhvcm9zY29wZS10b2RheS1qYW51YXJ5LTIzLTIwMjQv0gFRaHR0cHM6Ly93d3cudm9ndWUuaW4vaG9yb3Njb3BlL3Byb2R1Y3QvYXJpZXMtaG9yb3Njb3BlLXRvZGF5LWphbnVhcnktMjMtMjAyNC9hbXAv?oc=5\n",
            "Tue, 23 Jan 2024 00:20:35 GMT\n",
            "====================================================================================================\n",
            "Oscars nominations 2024: Barbie and Oppenheimer set to dominate - BBC.com\n",
            "https://news.google.com/rss/articles/CBMiNGh0dHBzOi8vd3d3LmJiYy5jb20vbmV3cy9lbnRlcnRhaW5tZW50LWFydHMtNjgwMTY4NjDSAThodHRwczovL3d3dy5iYmMuY29tL25ld3MvZW50ZXJ0YWlubWVudC1hcnRzLTY4MDE2ODYwLmFtcA?oc=5\n",
            "Tue, 23 Jan 2024 09:18:00 GMT\n",
            "====================================================================================================\n",
            "Sixers’ Joel Embiid breaks Wilt Chamberlain’s franchise record in masterful performance vs Spurs - Fox News\n",
            "https://news.google.com/rss/articles/CBMiemh0dHBzOi8vd3d3LmZveG5ld3MuY29tL3Nwb3J0cy9zaXhlcnMtam9lbC1lbWJpaWQtYnJlYWtzLXdpbHQtY2hhbWJlcmxhaW5zLWZyYW5jaGlzZS1yZWNvcmQtbWFzdGVyZnVsLXBlcmZvcm1hbmNlLXZzLXNwdXJz0gF-aHR0cHM6Ly93d3cuZm94bmV3cy5jb20vc3BvcnRzL3NpeGVycy1qb2VsLWVtYmlpZC1icmVha3Mtd2lsdC1jaGFtYmVybGFpbnMtZnJhbmNoaXNlLXJlY29yZC1tYXN0ZXJmdWwtcGVyZm9ybWFuY2UtdnMtc3B1cnMuYW1w?oc=5\n",
            "Tue, 23 Jan 2024 04:55:00 GMT\n",
            "====================================================================================================\n",
            "Bills Fans Support Tyler Bass by Donating to Local Animal Charity - Sports Illustrated\n",
            "https://news.google.com/rss/articles/CBMiXWh0dHBzOi8vd3d3LnNpLmNvbS9uZmwvMjAyNC8wMS8yMy9iaWxscy1mYW5zLXN1cHBvcnQtdHlsZXItYmFzcy1kb25hdGluZy1sb2NhbC1hbmltYWwtY2hhcml0edIBAA?oc=5\n",
            "Tue, 23 Jan 2024 00:28:28 GMT\n",
            "====================================================================================================\n",
            "2024 Baseball Hall of Fame voting: Eight things to know about potentially dramatic reveal, plus predictions - CBS Sports\n",
            "https://news.google.com/rss/articles/CBMijQFodHRwczovL3d3dy5jYnNzcG9ydHMuY29tL21sYi9uZXdzLzIwMjQtYmFzZWJhbGwtaGFsbC1vZi1mYW1lLXZvdGluZy1laWdodC10aGluZ3MtdG8ta25vdy1hYm91dC1wb3RlbnRpYWxseS1kcmFtYXRpYy1yZXZlYWwtcGx1cy1wcmVkaWN0aW9ucy_SAZEBaHR0cHM6Ly93d3cuY2Jzc3BvcnRzLmNvbS9tbGIvbmV3cy8yMDI0LWJhc2ViYWxsLWhhbGwtb2YtZmFtZS12b3RpbmctZWlnaHQtdGhpbmdzLXRvLWtub3ctYWJvdXQtcG90ZW50aWFsbHktZHJhbWF0aWMtcmV2ZWFsLXBsdXMtcHJlZGljdGlvbnMvYW1wLw?oc=5\n",
            "Tue, 23 Jan 2024 06:53:00 GMT\n",
            "====================================================================================================\n",
            "Chris Finch on loss after Karl-Anthony Town's 62 - 'Immature basketball' - ESPN\n",
            "https://news.google.com/rss/articles/CBMiZmh0dHBzOi8vd3d3LmVzcG4uY29tL25iYS9zdG9yeS9fL2lkLzM5MzY2NjA2L2NocmlzLWZpbmNoLWxvc3Mta2FybC1hbnRob255LXRvd24tNjItaW1tYXR1cmUtYmFza2V0YmFsbNIBAA?oc=5\n",
            "Tue, 23 Jan 2024 05:37:30 GMT\n",
            "====================================================================================================\n",
            "Japanese lunar lander touches down and Axiom space launches its third mission with SpaceX - TechCrunch\n",
            "https://news.google.com/rss/articles/CBMifGh0dHBzOi8vdGVjaGNydW5jaC5jb20vMjAyNC8wMS8yMi9qYXBhbmVzZS1sdW5hci1sYW5kZXItdG91Y2hlcy1kb3duLWFuZC1heGlvbS1zcGFjZS1sYXVuY2hlcy1pdHMtdGhpcmQtbWlzc2lvbi13aXRoLXNwYWNleC_SAYABaHR0cHM6Ly90ZWNoY3J1bmNoLmNvbS8yMDI0LzAxLzIyL2phcGFuZXNlLWx1bmFyLWxhbmRlci10b3VjaGVzLWRvd24tYW5kLWF4aW9tLXNwYWNlLWxhdW5jaGVzLWl0cy10aGlyZC1taXNzaW9uLXdpdGgtc3BhY2V4L2FtcC8?oc=5\n",
            "Mon, 22 Jan 2024 20:00:39 GMT\n",
            "====================================================================================================\n",
            "Ongoing solar storms: Spectacular auroras and radio blackouts - Earth.com\n",
            "https://news.google.com/rss/articles/CBMiWGh0dHBzOi8vd3d3LmVhcnRoLmNvbS9uZXdzL29uZ29pbmctc29sYXItc3Rvcm1zLXNwZWN0YWN1bGFyLWF1cm9yYXMtYW5kLXJhZGlvLWJsYWNrb3V0cy_SAQA?oc=5\n",
            "Tue, 23 Jan 2024 01:36:37 GMT\n",
            "====================================================================================================\n",
            "NASA Just Shot A Laser At India's Moon Lander - IFLScience\n",
            "https://news.google.com/rss/articles/CBMiTWh0dHBzOi8vd3d3LmlmbHNjaWVuY2UuY29tL25hc2EtanVzdC1zaG90LWEtbGFzZXItYXQtaW5kaWFzLW1vb24tbGFuZGVyLTcyNTYy0gEA?oc=5\n",
            "Tue, 23 Jan 2024 01:11:44 GMT\n",
            "====================================================================================================\n",
            "James Webb telescope spots bizarre 'cat tail' flowing out of nearby star, and scientists can't fully explain it - Livescience.com\n",
            "https://news.google.com/rss/articles/CBMilwFodHRwczovL3d3dy5saXZlc2NpZW5jZS5jb20vc3BhY2UvYXN0cm9ub215L2phbWVzLXdlYmItdGVsZXNjb3BlLXNwb3RzLWJpemFycmUtY2F0LXRhaWwtZmxvd2luZy1vdXQtb2YtbmVhcmJ5LXN0YXItYW5kLXNjaWVudGlzdHMtY2FudC1mdWxseS1leHBsYWluLWl00gEA?oc=5\n",
            "Mon, 22 Jan 2024 15:36:05 GMT\n",
            "====================================================================================================\n",
            "Cameroon begins routine malaria shots in global milestone - Reuters\n",
            "https://news.google.com/rss/articles/CBMicWh0dHBzOi8vd3d3LnJldXRlcnMuY29tL3dvcmxkL2FmcmljYS9jYW1lcm9vbi1sYXVuY2hlcy1tYWxhcmlhLXZhY2NpbmF0aW9uLXByb2dyYW1tZS1nbG9iYWwtbWlsZXN0b25lLTIwMjQtMDEtMjIv0gEA?oc=5\n",
            "Mon, 22 Jan 2024 22:59:00 GMT\n",
            "====================================================================================================\n",
            "New blood test that screens for Alzheimer’s may be a step closer to reality, study suggests - CNN\n",
            "https://news.google.com/rss/articles/CBMiVmh0dHBzOi8vd3d3LmNubi5jb20vMjAyNC8wMS8yMi9oZWFsdGgvYWx6aGVpbWVycy1ibG9vZC10ZXN0LXNjcmVlbmluZy1zdHVkeS9pbmRleC5odG1s0gFaaHR0cHM6Ly9hbXAuY25uLmNvbS9jbm4vMjAyNC8wMS8yMi9oZWFsdGgvYWx6aGVpbWVycy1ibG9vZC10ZXN0LXNjcmVlbmluZy1zdHVkeS9pbmRleC5odG1s?oc=5\n",
            "Tue, 23 Jan 2024 03:56:00 GMT\n",
            "====================================================================================================\n",
            "This is the greatest risk factor of death in people with obesity, according to a new study - CNN\n",
            "https://news.google.com/rss/articles/CBMiS2h0dHBzOi8vd3d3LmNubi5jb20vMjAyNC8wMS8yMi9oZWFsdGgvb2Jlc2l0eS1pc29sYXRpb24td2VsbG5lc3MvaW5kZXguaHRtbNIBT2h0dHBzOi8vYW1wLmNubi5jb20vY25uLzIwMjQvMDEvMjIvaGVhbHRoL29iZXNpdHktaXNvbGF0aW9uLXdlbGxuZXNzL2luZGV4Lmh0bWw?oc=5\n",
            "Tue, 23 Jan 2024 02:30:00 GMT\n",
            "====================================================================================================\n",
            "Measles vaccine campaign targets unprotected millions - BBC.com\n",
            "https://news.google.com/rss/articles/CBMiKGh0dHBzOi8vd3d3LmJiYy5jb20vbmV3cy9oZWFsdGgtNjgwNTczMTfSASxodHRwczovL3d3dy5iYmMuY29tL25ld3MvaGVhbHRoLTY4MDU3MzE3LmFtcA?oc=5\n",
            "Mon, 22 Jan 2024 14:28:00 GMT\n",
            "====================================================================================================\n"
          ]
        }
      ]
    }
  ]
}